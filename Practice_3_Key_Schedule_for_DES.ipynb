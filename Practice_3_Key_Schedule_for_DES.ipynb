{
 "cells": [
  {
   "cell_type": "code",
   "execution_count": 3,
   "metadata": {},
   "outputs": [],
   "source": [
    "from cryptography.hazmat.primitives.ciphers import Cipher, algorithms, modes\n",
    "from cryptography.hazmat.primitives import padding\n",
    "from cryptography.hazmat.backends import default_backend\n",
    "from os import urandom"
   ]
  },
  {
   "cell_type": "code",
   "execution_count": 5,
   "metadata": {},
   "outputs": [],
   "source": [
    "def bytes_to_bitstring(data: bytes) -> str:\n",
    "    return ''.join(f'{b:08b}' for b in data)\n",
    "\n",
    "def bitstring_to_bytes(bitstr: str) -> bytes:\n",
    "    return int(bitstr, 2).to_bytes(len(bitstr) // 8, byteorder='big')\n",
    "\n",
    "def flip_bits(data: bytes) -> bytes:\n",
    "    return bytes(~b & 0xFF for b in data)\n",
    "\n",
    "def des_encrypt_ecb(key: bytes, plaintext: bytes) -> bytes:\n",
    "    cipher = DES.new(key, DES.MODE_ECB)\n",
    "    return cipher.encrypt(plaintext)"
   ]
  },
  {
   "cell_type": "code",
   "execution_count": 6,
   "metadata": {},
   "outputs": [
    {
     "name": "stdout",
     "output_type": "stream",
     "text": [
      "Round 1: 001100001001101001010000100111010010100001001001\n",
      "Round 2: 101000000101100000010000011000010000011011100101\n",
      "Round 3: 000001000010001101010100110110101000100010001011\n",
      "Round 4: 000001100101010000010001000001100101011100011101\n",
      "Round 5: 010011110000000101100000000110110011000111100000\n",
      "Round 6: 100010101100000010001001111000001100100100100001\n",
      "Round 7: 000110010000001100001010010000100010111000011110\n",
      "Round 8: 001000000001100010001001111111010001000110011000\n",
      "Round 9: 000110000011000010000000100011111010011000100100\n",
      "Round 10: 000100000000110001011100011110000100111111000000\n",
      "Round 11: 010001000110000000000100000110001100000000011111\n",
      "Round 12: 000000101000110100100100110001110111010010000000\n",
      "Round 13: 110010000010000000100011101010000010001101101001\n",
      "Round 14: 101000011000011000101000101100101101101000000110\n",
      "Round 15: 110000000001001010000010010101000000011110110010\n",
      "Round 16: 001100000000001001100010100001001111000110010100\n"
     ]
    }
   ],
   "source": [
    "# Permuted Choice 1 (PC-1): 64-bit key to 56-bit key\n",
    "PC1 = [\n",
    "    57, 49, 41, 33, 25, 17,  9,\n",
    "     1, 58, 50, 42, 34, 26, 18,\n",
    "    10,  2, 59, 51, 43, 35, 27,\n",
    "    19, 11,  3, 60, 52, 44, 36,\n",
    "    63, 55, 47, 39, 31, 23, 15,\n",
    "     7, 62, 54, 46, 38, 30, 22,\n",
    "    14,  6, 61, 53, 45, 37, 29,\n",
    "    21, 13,  5, 28, 20, 12,  4\n",
    "]\n",
    "\n",
    "# Permuted Choice 2 (PC-2): 56-bit to 48-bit key\n",
    "PC2 = [\n",
    "    14, 17, 11, 24,  1,  5,\n",
    "     3, 28, 15,  6, 21, 10,\n",
    "    23, 19, 12,  4, 26,  8,\n",
    "    16,  7, 27, 20, 13,  2,\n",
    "    41, 52, 31, 37, 47, 55,\n",
    "    30, 40, 51, 45, 33, 48,\n",
    "    44, 49, 39, 56, 34, 53,\n",
    "    46, 42, 50, 36, 29, 32\n",
    "]\n",
    "\n",
    "# Number of left shifts per round\n",
    "SHIFT_SCHEDULE = [\n",
    "    1, 1, 2, 2, 2, 2, 2, 2,\n",
    "    1, 2, 2, 2, 2, 2, 2, 1\n",
    "]\n",
    "\n",
    "def left_shift(bits, n):\n",
    "    return bits[n:] + bits[:n]\n",
    "\n",
    "def permute(bits, table):\n",
    "    return ''.join(bits[i - 1] for i in table)\n",
    "\n",
    "def generate_round_keys(key_64bit):\n",
    "    # Step 1: apply PC-1 to get 56-bit key\n",
    "    key_64bit = ''.join(f'{int(b):08b}' for b in key_64bit) if isinstance(key_64bit, bytes) else key_64bit\n",
    "    key_56bit = permute(key_64bit, PC1)\n",
    "\n",
    "    # Step 2: split into two 28-bit halves\n",
    "    C = key_56bit[:28]\n",
    "    D = key_56bit[28:]\n",
    "\n",
    "    round_keys = []\n",
    "\n",
    "    for shift in SHIFT_SCHEDULE:\n",
    "        # Step 3: left shift both halves\n",
    "        C = left_shift(C, shift)\n",
    "        D = left_shift(D, shift)\n",
    "\n",
    "        # Step 4: combine and apply PC-2\n",
    "        combined = C + D\n",
    "        round_key = permute(combined, PC2)\n",
    "        round_keys.append(round_key)\n",
    "\n",
    "    return round_keys\n",
    "\n",
    "# Example usage:\n",
    "# A 64-bit key as a binary string (normally you'd convert from a hex or byte string)\n",
    "dat=urandom(8)\n",
    "sample_key =  bytes_to_bitstring(dat)   # 64 bits\n",
    "round_keys = generate_round_keys(sample_key)\n",
    "\n",
    "# Print round keys\n",
    "for i, rk in enumerate(round_keys, 1):\n",
    "    print(f'Round {i}: {rk}')\n"
   ]
  },
  {
   "cell_type": "code",
   "execution_count": null,
   "metadata": {},
   "outputs": [],
   "source": []
  },
  {
   "cell_type": "code",
   "execution_count": null,
   "metadata": {},
   "outputs": [],
   "source": []
  }
 ],
 "metadata": {
  "kernelspec": {
   "display_name": "Python 3",
   "language": "python",
   "name": "python3"
  },
  "language_info": {
   "codemirror_mode": {
    "name": "ipython",
    "version": 3
   },
   "file_extension": ".py",
   "mimetype": "text/x-python",
   "name": "python",
   "nbconvert_exporter": "python",
   "pygments_lexer": "ipython3",
   "version": "3.7.6"
  }
 },
 "nbformat": 4,
 "nbformat_minor": 4
}
