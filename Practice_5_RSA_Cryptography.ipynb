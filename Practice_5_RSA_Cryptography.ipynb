{
 "cells": [
  {
   "cell_type": "code",
   "execution_count": 1,
   "metadata": {},
   "outputs": [
    {
     "name": "stdout",
     "output_type": "stream",
     "text": [
      "Public Key: (65537, 45173)\n",
      "Private Key: (37817, 45173)\n",
      "Primes used (for educational purposes): 227 199\n",
      "Original message: 42\n",
      "Encrypted message: 37521\n",
      "Decrypted message: 42\n"
     ]
    }
   ],
   "source": [
    " # ## 1. Import Required Libraries\n",
    "import random\n",
    "from math import gcd\n",
    "\n",
    "# ## 2. Extended Euclidean Algorithm for Modular Inverse\n",
    "def egcd(a, b):\n",
    "    if a == 0:\n",
    "        return (b, 0, 1)\n",
    "    else:\n",
    "        g, y, x = egcd(b % a, a)\n",
    "        return (g, x - (b // a) * y, y)\n",
    "\n",
    "def modinv(e, phi):\n",
    "    g, x, _ = egcd(e, phi)\n",
    "    if g != 1:\n",
    "        raise Exception('Modular inverse does not exist')\n",
    "    else:\n",
    "        return x % phi\n",
    "\n",
    "# ## 3. Prime Number Generation (for simplicity using small primes)\n",
    "# NOTE: For real RSA use, use cryptographic libraries for secure primes.\n",
    "def is_prime(n):\n",
    "    if n <= 1:\n",
    "        return False\n",
    "    for i in range(2, int(n**0.5) + 1):\n",
    "        if n % i == 0:\n",
    "            return False\n",
    "    return True\n",
    "\n",
    "def generate_prime_candidate(start=100, end=300):\n",
    "    while True:\n",
    "        p = random.randint(start, end)\n",
    "        if is_prime(p):\n",
    "            return p\n",
    "\n",
    "# ## 4. RSA Key Generation\n",
    "def generate_keys():\n",
    "    p = generate_prime_candidate()\n",
    "    q = generate_prime_candidate()\n",
    "    while q == p:\n",
    "        q = generate_prime_candidate()\n",
    "\n",
    "    n = p * q\n",
    "    phi = (p - 1) * (q - 1)\n",
    "\n",
    "    e = 65537\n",
    "    if gcd(e, phi) != 1:\n",
    "        # fallback if 65537 not suitable\n",
    "        e = 3\n",
    "        while gcd(e, phi) != 1:\n",
    "            e += 2\n",
    "\n",
    "    d = modinv(e, phi)\n",
    "    return ((e, n), (d, n), p, q)\n",
    "\n",
    "# ## 5. Encryption and Decryption\n",
    "def encrypt(message, pub_key):\n",
    "    e, n = pub_key\n",
    "    return pow(message, e, n)\n",
    "\n",
    "def decrypt(ciphertext, priv_key):\n",
    "    d, n = priv_key\n",
    "    return pow(ciphertext, d, n)\n",
    "\n",
    "# ## 6. Demo Execution\n",
    "public_key, private_key, p, q = generate_keys()\n",
    "\n",
    "print(\"Public Key:\", public_key)\n",
    "print(\"Private Key:\", private_key)\n",
    "print(\"Primes used (for educational purposes):\", p, q)\n",
    "\n",
    "# Convert message to integer (simple case)\n",
    "message = 42\n",
    "print(\"Original message:\", message)\n",
    "\n",
    "cipher = encrypt(message, public_key)\n",
    "print(\"Encrypted message:\", cipher)\n",
    "\n",
    "decrypted = decrypt(cipher, private_key)\n",
    "print(\"Decrypted message:\", decrypted)\n",
    "\n",
    "assert message == decrypted, \"Decryption failed: the original and decrypted messages do not match.\"\n",
    "\n",
    "# You can experiment with other message values < n\n",
    "\n"
   ]
  },
  {
   "cell_type": "code",
   "execution_count": 2,
   "metadata": {},
   "outputs": [
    {
     "data": {
      "image/png": "[encoded data removed]",
      "text/plain": [
       "<Figure size 864x432 with 1 Axes>"
      ]
     },
     "metadata": {
      "needs_background": "light"
     },
     "output_type": "display_data"
    }
   ],
   "source": [
    "# ## 8. Plot a^x mod n to illustrate discrete logarithm hardness\n",
    "import matplotlib.pyplot as plt\n",
    "\n",
    "n=23*51*17\n",
    "base = 5  # You can change this to another base (e.g., 2, 3, 7)\n",
    "X = list(range(0, 500))\n",
    "Y = [pow(base, x, n) for x in X]\n",
    "\n",
    "plt.figure(figsize=(12, 6))\n",
    "plt.plot(X, Y, '.', markersize=2)\n",
    "plt.title(f\"Plot of {base}^x mod n (n = {n})\")\n",
    "plt.xlabel(\"x\")\n",
    "plt.ylabel(f\"{base}^x mod n\")\n",
    "plt.grid(True)\n",
    "plt.show()\n"
   ]
  },
  {
   "cell_type": "markdown",
   "metadata": {},
   "source": [
    "<strong> Why You Can’t Just Encrypt Arbitrarily Large Data?: \n",
    "RSA can only encrypt messages smaller than n. </strong>\n",
    "\n",
    "If your message is larger:\n",
    "\n",
    "You must split it into blocks smaller than  n.\n",
    "\n",
    "Or better: use RSA to encrypt a symmetric key (like AES), and then encrypt the actual data with that key (hybrid encryption)."
   ]
  },
  {
   "cell_type": "code",
   "execution_count": 3,
   "metadata": {},
   "outputs": [
    {
     "name": "stdout",
     "output_type": "stream",
     "text": [
      "Requirement already satisfied: rsa in /opt/anaconda3/lib/python3.7/site-packages (4.9.1)\n",
      "Requirement already satisfied: pyasn1>=0.1.3 in /opt/anaconda3/lib/python3.7/site-packages (from rsa) (0.5.1)\n",
      "\u001b[33mDEPRECATION: pyodbc 4.0.0-unsupported has a non-standard version number. pip 24.1 will enforce this behaviour change. A possible replacement is to upgrade to a newer version of pyodbc or contact the author to suggest that they release a version with a conforming version number. Discussion can be found at https://github.com/pypa/pip/issues/12063\u001b[0m\u001b[33m\n",
      "\u001b[0mNote: you may need to restart the kernel to use updated packages.\n"
     ]
    }
   ],
   "source": [
    "pip install rsa"
   ]
  },
  {
   "cell_type": "code",
   "execution_count": 4,
   "metadata": {},
   "outputs": [
    {
     "name": "stdout",
     "output_type": "stream",
     "text": [
      "PublicKey(16413269694916736994772812151042794012224251447344332662383963513896046487099031995840003432798033374836714782992171909474465551504040620117222703153822112271346925218742470922440169005430126878899442203745810435469718227260353436783380341109013314658927393412880300368260093634490800506022275310716005392252192873133824489984660830500540182094894992799943339564882688548563610436123069973332957046538043863220024517582099777281538547080957139738715747317461372423619048806972489116393103266600603459518034938442046851106827872769636718240619398464741100877386571622369043815171619435545790886739337868763348680698477, 65537)\n",
      "PrivateKey(16413269694916736994772812151042794012224251447344332662383963513896046487099031995840003432798033374836714782992171909474465551504040620117222703153822112271346925218742470922440169005430126878899442203745810435469718227260353436783380341109013314658927393412880300368260093634490800506022275310716005392252192873133824489984660830500540182094894992799943339564882688548563610436123069973332957046538043863220024517582099777281538547080957139738715747317461372423619048806972489116393103266600603459518034938442046851106827872769636718240619398464741100877386571622369043815171619435545790886739337868763348680698477, 65537, 15555002223954079905173251181794527306700768381136709059930542652975928823622089464907191559135844681799721610260521496215253298196682224018198911956358871983358370467615161954205393852743720042852806128975270246532862338757351602279868669397146908974563687762241107403033926112550522902007976455358549777389133879518261524416985126818505186503844339412864864889278725880854609504602550750481806826035016793853583570125231325390761778147374545294813207066474028159752236808014893887284228142051206514099661428850100210164619463987960742106998950897926431942435905233085744736091914477613926273743541967746444260863553, 2363010686488780422347967933561963407356279429200110128375460109895696143461062596057552453317915226796367300301959932257659901403479648828216686303629110576884317837430339341435937458632551429225570636141905735749206430272696129345101127226058755591266203741331164851168405095053988013462399953820991675504166134800677368218229, 6945914290089549800059624503855782576675734287276094169872689954297459038259174582034452995601526422499857002662346099745241241172421207997274225704740445323281145261307266281314242148596938577719889781559235303251274823274618521606639860743803945820380339567596084486974826215147282143513)\n",
      "Original: b'A un amigo perdido'\n",
      "Encrypted: b'\\x1b.\\x84\\x8fX\\x82~\\xed\\x9f?\\xcf]x\\xa5\\x0c\",Y+p\\x1d\\xf6\\xb12\\xb5\\xaa\\x19\\xb7W\\xbe\\xf1Ji\\xa6\\t\\xd5\\x9c[0pB\\xef\\x16o\\xa1\\xd8\\x88u~\\xab\\xe9\\x9d\\xce\\xaaX1\\x97]\\xaa\\xc3\\x7f\\x18\\x00#]K\\x8b\\x03y\\xe0\\x97\\n@P\\x1aD\\xfaj\\x1b/\\xc8}\\x83i}\\xdeF\\xd3\\xe3.\"\\x11\\xbf\\xc8\\x1a\\xdd\\x98\\xa4\\x9c\\x80R\\xfbI\\x86\\x7f\\xcf/16?8\\xe7\\xa2\\xb3\\xed=\\x90\\x90\\xbc\\xb0i\\x95j\\xbfmQ\\xfe\\xc2\\xc3\\xdf%/\\x08\\xf7\\x7f\\xc8\\x18\\xf2\\xde|\\xb8b\\x1eSZ\\x03j!\\x1b\\xa8\\xfa\\xac\\xd5\\x93\\xf9\\xbd\\r\\x9c\\xde:5\\xeb3C\\x8e\"s\\x15\\xab\\xd9\\x8f\\xe9\\xeb\\xdc5E\\\\y\\x06\\x83O\\xa6b\\x90\\x9e\\x07[\\xfd\\xee5\\x18\\xd3\\xdcp\\xb4\\xe5\\xc3\\xa1#\\x86\\xeed\\xd3(\\x1f\\xb2\\x82o\\xf6\\xb4\\x10\\xf2\\x15\\x11\\xb4\\xa6a\\xff\\xb9\\x86\\x0f\\xb9f\\x16\\xdc\\x16\\x0c\\xf8\\x8d\\r\\xfd\\x8c\\x19\\xe5?S\\xda\\x00\\xf3L\\n\\x9e\\xfb$\\x81}\\xc6\\x95Kb\\xcf;\\x04T>\\xb7'\n",
      "Decrypted: b'A un amigo perdido'\n"
     ]
    }
   ],
   "source": [
    "import rsa\n",
    "\n",
    "# Key generation\n",
    "public_key, private_key = rsa.newkeys(2048)\n",
    "\n",
    "print(public_key) # This outputs: n, e\n",
    "\n",
    "print(private_key)  # This outputs: n, e, d, p, q\n",
    "\n",
    "\n",
    "# n = modulus, public.\n",
    "\n",
    "# e = public exponent, public.\n",
    "\n",
    "# d = private exponent, secret.\n",
    "\n",
    "# p, q = prime factors, secret.\n",
    "\n",
    "# So the public key is simply (n, e).\n",
    "# The private key is (n, d, p, q) \n",
    "\n",
    "\n",
    "# Message\n",
    "message = b\"A un amigo perdido\"\n",
    "\n",
    "# Encryption\n",
    "ciphertext = rsa.encrypt(message, public_key)\n",
    "\n",
    "# Decryption\n",
    "plaintext = rsa.decrypt(ciphertext, private_key)\n",
    "\n",
    "print(\"Original:\", message)\n",
    "print(\"Encrypted:\", ciphertext)\n",
    "print(\"Decrypted:\", plaintext)\n"
   ]
  },
  {
   "cell_type": "markdown",
   "metadata": {},
   "source": [
    "#  RSA Cannot Encrypt Arbitrarily Long Messages\n",
    "\n",
    "RSA is built on number theory:  \n",
    "\n",
    "- Two large primes $p, q$ are generated.  \n",
    "- Compute $n = p \\cdot q$, the **modulus**.  \n",
    "- Encryption works as:\n",
    "  $$ c \\equiv m^e \\pmod{n}$$\n",
    "  where $m$ is the message (treated as a big integer).  \n",
    "\n",
    "Thus, **$m < n$ ** must hold.  \n",
    "\n",
    "- If $n$ is 2048 bits, the maximum $m$ is $2^{2048}-1$.  \n",
    "- With padding (PKCS#1, OAEP), the usable message size is **≈245 bytes** for a 2048-bit modulus.  \n",
    "\n",
    "Therefore, **RSA cannot directly encrypt large files or long messages**.\n",
    "\n",
    "---\n",
    "\n",
    "# Why Not Just Make RSA Bigger?\n",
    "\n",
    "- RSA is **slow**: exponentiation with very large numbers.  \n",
    "- RSA ciphertexts are as large as the modulus.  \n",
    "- Unsafe without padding.  \n",
    "\n",
    "Thus, RSA is only used for encrypting **short values** (keys, hashes).\n",
    "\n",
    "---\n",
    "\n",
    "# Hybrid Encryption (RSA + AES)\n",
    "\n",
    "To handle long data, we combine RSA with a **symmetric cipher** (AES, ChaCha20):\n",
    "\n",
    "1. **Generate a random AES key** (e.g., 256-bit).  \n",
    "2. **Encrypt the actual message with AES** (works for any size).  \n",
    "3. **Encrypt the AES key with RSA**:  \n",
    "   $$ c_{\\text{key}} = {\\rm RSA\\_Encrypt}(K)$$  \n",
    "4. **Send:**  \n",
    "   - The RSA-encrypted AES key.  \n",
    "   - The AES ciphertext.  \n",
    "5. **Receiver:**  \n",
    "   - Decrypts AES key using RSA private key.  \n",
    "   - Uses AES key to decrypt the message.  \n",
    "\n",
    "This is how **TLS/HTTPS, PGP, SSH, Signal** work in practice.\n",
    "\n",
    "\n"
   ]
  },
  {
   "cell_type": "code",
   "execution_count": 5,
   "metadata": {},
   "outputs": [
    {
     "name": "stdout",
     "output_type": "stream",
     "text": [
      "Decrypted matches original: True\n"
     ]
    }
   ],
   "source": [
    "import  os\n",
    "from Crypto.Cipher import AES\n",
    "from Crypto.Util.Padding import pad, unpad\n",
    "\n",
    "# RSA keys\n",
    "public_key, private_key = rsa.newkeys(2048)\n",
    "\n",
    "# Large message (longer than RSA can handle)\n",
    "message = b\"A\" * 5000  \n",
    "\n",
    "# --- Hybrid Encryption ---\n",
    "# 1. Generate AES key\n",
    "aes_key = os.urandom(32)  # 256-bit AES\n",
    "\n",
    "# 2. Encrypt message with AES\n",
    "cipher_aes = AES.new(aes_key, AES.MODE_CBC)\n",
    "ciphertext = cipher_aes.encrypt(pad(message, AES.block_size))\n",
    "\n",
    "# 3. Encrypt AES key with RSA\n",
    "enc_aes_key = rsa.encrypt(aes_key, public_key)\n",
    "\n",
    "# Send/store enc_aes_key, cipher_aes.iv, ciphertext\n",
    "package = (enc_aes_key, cipher_aes.iv, ciphertext)\n",
    "\n",
    "# --- Hybrid Decryption ---\n",
    "enc_aes_key, iv, ciphertext = package\n",
    "\n",
    "# 1. Decrypt AES key with RSA\n",
    "aes_key = rsa.decrypt(enc_aes_key, private_key)\n",
    "\n",
    "# 2. Decrypt message with AES\n",
    "cipher_aes = AES.new(aes_key, AES.MODE_CBC, iv=iv)\n",
    "plaintext = unpad(cipher_aes.decrypt(ciphertext), AES.block_size)\n",
    "\n",
    "print(\"Decrypted matches original:\", plaintext == message)\n"
   ]
  },
  {
   "cell_type": "code",
   "execution_count": null,
   "metadata": {},
   "outputs": [],
   "source": []
  }
 ],
 "metadata": {
  "kernelspec": {
   "display_name": "Python 3",
   "language": "python",
   "name": "python3"
  },
  "language_info": {
   "codemirror_mode": {
    "name": "ipython",
    "version": 3
   },
   "file_extension": ".py",
   "mimetype": "text/x-python",
   "name": "python",
   "nbconvert_exporter": "python",
   "pygments_lexer": "ipython3",
   "version": "3.7.6"
  }
 },
 "nbformat": 4,
 "nbformat_minor": 4
}
