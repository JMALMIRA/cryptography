{
 "cells": [
  {
   "cell_type": "markdown",
   "metadata": {},
   "source": [
    "## Fast modular exponentiation"
   ]
  },
  {
   "cell_type": "code",
   "execution_count": 3,
   "metadata": {},
   "outputs": [],
   "source": [
    "def fast_mod_exp(a,b,m):\n",
    "    result=1\n",
    "    a=a%m\n",
    "    steps=[]\n",
    "    while b>0:\n",
    "        steps.append((b,a,result))\n",
    "        if b%2==1:\n",
    "            result=(result*a)%m  \n",
    "        a=(a*a)%m\n",
    "        b=b//2\n",
    "    return result,steps"
   ]
  },
  {
   "cell_type": "code",
   "execution_count": 12,
   "metadata": {},
   "outputs": [
    {
     "data": {
      "text/plain": [
       "(39,\n",
       " [(234, 7, 1),\n",
       "  (117, 49, 1),\n",
       "  (58, 121, 49),\n",
       "  (29, 11, 49),\n",
       "  (14, 121, 159),\n",
       "  (7, 11, 159),\n",
       "  (3, 121, 39),\n",
       "  (1, 11, 159)])"
      ]
     },
     "execution_count": 12,
     "metadata": {},
     "output_type": "execute_result"
    }
   ],
   "source": [
    "fast_mod_exp(2,234,190)"
   ]
  },
  {
   "cell_type": "code",
   "execution_count": 13,
   "metadata": {},
   "outputs": [
    {
     "data": {
      "text/plain": [
       "(39,\n",
       " [(234, 7, 1),\n",
       "  (117, 49, 1),\n",
       "  (58, 121, 49),\n",
       "  (29, 11, 49),\n",
       "  (14, 121, 159),\n",
       "  (7, 11, 159),\n",
       "  (3, 121, 39),\n",
       "  (1, 11, 159)])"
      ]
     },
     "execution_count": 13,
     "metadata": {},
     "output_type": "execute_result"
    }
   ],
   "source": [
    "fast_mod_exp(7,234,190)"
   ]
  },
  {
   "cell_type": "markdown",
   "metadata": {},
   "source": [
    "The above does not work for negative exponents... "
   ]
  },
  {
   "cell_type": "code",
   "execution_count": 14,
   "metadata": {},
   "outputs": [
    {
     "data": {
      "text/plain": [
       "(1, [])"
      ]
     },
     "execution_count": 14,
     "metadata": {},
     "output_type": "execute_result"
    }
   ],
   "source": [
    "fast_mod_exp(7,-234,190)"
   ]
  },
  {
   "cell_type": "markdown",
   "metadata": {},
   "source": [
    "We solve this adding modinv function below:"
   ]
  },
  {
   "cell_type": "code",
   "execution_count": 15,
   "metadata": {},
   "outputs": [],
   "source": [
    "def extended_gcd(a, b):\n",
    "    \"\"\"Return (g, x, y) such that a*x + b*y = g = gcd(a, b).\"\"\"\n",
    "    if b == 0:\n",
    "        return (a, 1, 0)\n",
    "    else:\n",
    "        g, x1, y1 = extended_gcd(b, a % b)\n",
    "        x = y1\n",
    "        y = x1 - (a // b) * y1\n",
    "        return (g, x, y)\n",
    "\n",
    "\n",
    "def modinv(a, m):\n",
    "    \"\"\"Return modular inverse of a modulo m, or raise ValueError if none exists.\"\"\"\n",
    "    g, x, _ = extended_gcd(a, m)\n",
    "    if g != 1:\n",
    "        raise ValueError(f\"No modular inverse for {a} modulo {m} (gcd = {g}).\")\n",
    "    return x % m\n",
    "\n",
    "\n",
    "def mod_pow_recursive(base, exponent, mod):\n",
    "    \"\"\"\n",
    "    Compute (base ** exponent) % mod using recursive exponentiation by squaring.\n",
    "    \n",
    "    Handles negative exponents via modular inverse.\n",
    "    \"\"\"\n",
    "    if mod <= 0:\n",
    "        raise ValueError(\"mod must be a positive integer.\")\n",
    "    base %= mod\n",
    "    \n",
    "    if exponent < 0:\n",
    "        base = modinv(base, mod)\n",
    "        exponent = -exponent\n",
    "    \n",
    "    if exponent == 0:\n",
    "        return 1\n",
    "    if exponent == 1:\n",
    "        return base % mod\n",
    "    \n",
    "    # divide exponent by 2\n",
    "    half = mod_pow_recursive(base, exponent // 2, mod)\n",
    "    result = (half * half) % mod\n",
    "    \n",
    "    if exponent % 2 == 1:  # if exponent is odd\n",
    "        result = (result * base) % mod\n",
    "    \n",
    "    return result\n"
   ]
  },
  {
   "cell_type": "code",
   "execution_count": 16,
   "metadata": {},
   "outputs": [
    {
     "name": "stdout",
     "output_type": "stream",
     "text": [
      "134\n",
      "39\n"
     ]
    }
   ],
   "source": [
    "print(mod_pow_recursive(2, 234, 190))  \n",
    "print(mod_pow_recursive(7, 234, 190)) "
   ]
  },
  {
   "cell_type": "code",
   "execution_count": 17,
   "metadata": {},
   "outputs": [
    {
     "name": "stdout",
     "output_type": "stream",
     "text": [
      "39\n"
     ]
    }
   ],
   "source": [
    "print(mod_pow_recursive(7, -234, 190)) "
   ]
  },
  {
   "cell_type": "code",
   "execution_count": 18,
   "metadata": {},
   "outputs": [
    {
     "data": {
      "text/plain": [
       "(24, [(10, 2, 1), (5, 4, 1), (2, 16, 4), (1, 256, 4)])"
      ]
     },
     "execution_count": 18,
     "metadata": {},
     "output_type": "execute_result"
    }
   ],
   "source": [
    "fast_mod_exp(2,10,1000)"
   ]
  },
  {
   "cell_type": "markdown",
   "metadata": {},
   "source": [
    "## Greatest Common Divisor"
   ]
  },
  {
   "cell_type": "code",
   "execution_count": 19,
   "metadata": {},
   "outputs": [],
   "source": [
    "def greatestCommonDivisor(m,n):\n",
    "    if(n==0): return m\n",
    "    return greatestCommonDivisor(n,m%n)"
   ]
  },
  {
   "cell_type": "code",
   "execution_count": 20,
   "metadata": {},
   "outputs": [
    {
     "data": {
      "text/plain": [
       "1"
      ]
     },
     "execution_count": 20,
     "metadata": {},
     "output_type": "execute_result"
    }
   ],
   "source": [
    "greatestCommonDivisor(1432,123211)"
   ]
  },
  {
   "cell_type": "code",
   "execution_count": 21,
   "metadata": {},
   "outputs": [],
   "source": [
    "def extended_gcd(a, b):\n",
    "    \"\"\"Return (g, x, y) such that a*x + b*y = g = gcd(a, b).\"\"\"\n",
    "    if b == 0:\n",
    "        return (a, 1, 0)\n",
    "    else:\n",
    "        g, x1, y1 = extended_gcd(b, a % b)\n",
    "        x = y1\n",
    "        y = x1 - (a // b) * y1\n",
    "        return (g, x, y)"
   ]
  },
  {
   "cell_type": "code",
   "execution_count": 24,
   "metadata": {},
   "outputs": [
    {
     "data": {
      "text/plain": [
       "(1, -22973, 267)"
      ]
     },
     "execution_count": 24,
     "metadata": {},
     "output_type": "execute_result"
    }
   ],
   "source": [
    "a=1432\n",
    "b=123211\n",
    "g,x,y= extended_gcd(a,b)\n",
    "g,x,y"
   ]
  },
  {
   "cell_type": "code",
   "execution_count": 25,
   "metadata": {},
   "outputs": [
    {
     "data": {
      "text/plain": [
       "1"
      ]
     },
     "execution_count": 25,
     "metadata": {},
     "output_type": "execute_result"
    }
   ],
   "source": [
    "a*x+b*y"
   ]
  },
  {
   "cell_type": "markdown",
   "metadata": {},
   "source": [
    "Let us check that the computation works with large integers..."
   ]
  },
  {
   "cell_type": "code",
   "execution_count": 27,
   "metadata": {},
   "outputs": [
    {
     "name": "stdout",
     "output_type": "stream",
     "text": [
      "\n",
      "Extended GCD is successful for large integers!\n",
      "GCD=1\n",
      "Coefficients=(26739790011546366616187244639491818142720381965626763562689147033147343376741761136674010300081116740338086841637557221118373925610571773883936670429610654646002549795489403817862394570800328457740126855404616591738911439187639958214222262968888643880722711155192236347993061053138322912023089681740919071530, -18777319113834699330025092267192989162956424583987907511262897645077768129550329892597138482760057790695461777057736147278524701469059650068253329210891633949200050076285860854453944349830298252960608805695640345587300680758131026447445162564663066156645550200540858403105875530892230431141853589077400100820397916018376017433556375356964272979141915564051747760945718830108760845365885498677212094578673870047780607641634091110299013389999223412694799916586005040532949484910794131398613317628324105297479008637318623849521472741557663085230118372522342387158971346384590036831075528689754650506501283386906733169)\n",
      "Checking that g=a*x+b*y:1\n"
     ]
    }
   ],
   "source": [
    "a=2**2040+1\n",
    "b=2**1024+12345\n",
    "g,x,y= extended_gcd(a,b)\n",
    "print(\"\\nExtended GCD is successful for large integers!\")\n",
    "print(f\"GCD={g}\")\n",
    "print(f\"Coefficients={x,y}\")\n",
    "print(f\"Checking that g=a*x+b*y:{a*x+b*y}\")"
   ]
  },
  {
   "cell_type": "code",
   "execution_count": null,
   "metadata": {},
   "outputs": [],
   "source": []
  }
 ],
 "metadata": {
  "kernelspec": {
   "display_name": "Python 3",
   "language": "python",
   "name": "python3"
  },
  "language_info": {
   "codemirror_mode": {
    "name": "ipython",
    "version": 3
   },
   "file_extension": ".py",
   "mimetype": "text/x-python",
   "name": "python",
   "nbconvert_exporter": "python",
   "pygments_lexer": "ipython3",
   "version": "3.7.6"
  }
 },
 "nbformat": 4,
 "nbformat_minor": 4
}
