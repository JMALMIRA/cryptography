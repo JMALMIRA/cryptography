{
 "cells": [
  {
   "cell_type": "markdown",
   "metadata": {},
   "source": [
    "## 🧪 ChaCha20 – Using `cryptography` (IETF standard)"
   ]
  },
  {
   "cell_type": "code",
   "execution_count": 1,
   "metadata": {},
   "outputs": [
    {
     "name": "stdout",
     "output_type": "stream",
     "text": [
      "Ciphertext: 0817ade6b1d9eb54559b364997453f95b705720519984b0c0ae5de9c51dbb8bd7ec1\n",
      "Recovered: b'Hello from ChaCha20 stream cipher!'\n"
     ]
    }
   ],
   "source": [
    "from cryptography.hazmat.primitives.ciphers import Cipher, algorithms\n",
    "from cryptography.hazmat.backends import default_backend\n",
    "import os\n",
    "\n",
    "# Key and nonce (fixed nonce length)\n",
    "key = os.urandom(32)             # 256-bit key\n",
    "nonce = os.urandom(16)           # 128-bit nonce (required by this implementation)\n",
    "plaintext = b\"Hello from ChaCha20 stream cipher!\"\n",
    "\n",
    "# Encrypt\n",
    "algorithm = algorithms.ChaCha20(key, nonce)\n",
    "cipher = Cipher(algorithm, mode=None, backend=default_backend())\n",
    "encryptor = cipher.encryptor()\n",
    "ciphertext = encryptor.update(plaintext)\n",
    "\n",
    "# Decrypt\n",
    "decryptor = cipher.decryptor()\n",
    "recovered = decryptor.update(ciphertext)\n",
    "\n",
    "print(\"Ciphertext:\", ciphertext.hex())\n",
    "print(\"Recovered:\", recovered)\n"
   ]
  },
  {
   "cell_type": "markdown",
   "metadata": {},
   "source": [
    "## 🧪 Salsa20 – Using `pycryptodome`"
   ]
  },
  {
   "cell_type": "code",
   "execution_count": 2,
   "metadata": {},
   "outputs": [
    {
     "name": "stdout",
     "output_type": "stream",
     "text": [
      "Ciphertext: 775574866d845e81b574da87bb481055bde3ec106119c6c9eb1b2185bf088fccd2\n",
      "Recovered: b'Hello from Salsa20 stream cipher!'\n"
     ]
    }
   ],
   "source": [
    "from Crypto.Cipher import Salsa20\n",
    "import os\n",
    "\n",
    "# Key and nonce\n",
    "key = os.urandom(32)              # 256-bit key\n",
    "nonce = os.urandom(8)             # 64-bit nonce\n",
    "plaintext = b\"Hello from Salsa20 stream cipher!\"\n",
    "\n",
    "# Encrypt\n",
    "cipher = Salsa20.new(key=key, nonce=nonce)\n",
    "ciphertext = cipher.encrypt(plaintext)\n",
    "\n",
    "# Decrypt\n",
    "cipher_dec = Salsa20.new(key=key, nonce=nonce)\n",
    "recovered = cipher_dec.decrypt(ciphertext)\n",
    "\n",
    "print(\"Ciphertext:\", ciphertext.hex())\n",
    "print(\"Recovered:\", recovered)\n"
   ]
  },
  {
   "cell_type": "markdown",
   "metadata": {},
   "source": [
    "## 🧪 Trivium – Toy Python implementation (educational use only)"
   ]
  },
  {
   "cell_type": "code",
   "execution_count": 3,
   "metadata": {},
   "outputs": [
    {
     "name": "stdout",
     "output_type": "stream",
     "text": [
      "Ciphertext: 03ec5f853e5fded4abedb8ec9b10d5c217e640eae4df167a453367d64eea\n",
      "Recovered: b'Trivium stream cipher example!'\n"
     ]
    }
   ],
   "source": [
    "def trivium_init(key, iv):\n",
    "    # Trivium uses 80-bit key and IV\n",
    "    assert len(key) == 10 and len(iv) == 10\n",
    "    key_bits = sum([[int(b) >> i & 1 for i in range(8)] for b in key], [])\n",
    "    iv_bits  = sum([[int(b) >> i & 1 for i in range(8)] for b in iv], [])\n",
    "\n",
    "    state = [0] * 288\n",
    "    state[:80] = key_bits\n",
    "    state[93:173] = iv_bits\n",
    "    state[285:] = [1, 1, 1]\n",
    "\n",
    "    for _ in range(4 * 288):  # Warm-up phase\n",
    "        t1 = state[65] ^ (state[90] & state[91]) ^ state[92] ^ state[170]\n",
    "        t2 = state[161] ^ (state[174] & state[175]) ^ state[176] ^ state[263]\n",
    "        t3 = state[242] ^ (state[285] & state[286]) ^ state[287] ^ state[68]\n",
    "        state = [t3] + state[:92] + [t1] + state[93:176] + [t2] + state[177:287]\n",
    "    return state\n",
    "\n",
    "def trivium_keystream(state, length):\n",
    "    stream = []\n",
    "    for _ in range(length * 8):\n",
    "        t1 = state[65] ^ state[92]\n",
    "        t2 = state[161] ^ state[176]\n",
    "        t3 = state[242] ^ state[287]\n",
    "        z = t1 ^ t2 ^ t3\n",
    "        stream.append(z)\n",
    "        t1 = t1 ^ (state[90] & state[91]) ^ state[170]\n",
    "        t2 = t2 ^ (state[174] & state[175]) ^ state[263]\n",
    "        t3 = t3 ^ (state[285] & state[286]) ^ state[68]\n",
    "        state = [t3] + state[:92] + [t1] + state[93:176] + [t2] + state[177:287]\n",
    "    return stream\n",
    "\n",
    "def xor_bytes(data, stream_bits):\n",
    "    return bytes(b ^ sum([bit << i for i, bit in enumerate(stream_bits[n*8:n*8+8])])\n",
    "                 for n, b in enumerate(data))\n",
    "\n",
    "# Key, IV (10 bytes each = 80 bits)\n",
    "key = b'1234567890'\n",
    "iv  = b'abcdefghij'\n",
    "plaintext = b\"Trivium stream cipher example!\"\n",
    "\n",
    "# Initialize and encrypt\n",
    "state = trivium_init(key, iv)\n",
    "stream_bits = trivium_keystream(state.copy(), len(plaintext))\n",
    "ciphertext = xor_bytes(plaintext, stream_bits)\n",
    "\n",
    "# Decrypt\n",
    "state = trivium_init(key, iv)\n",
    "stream_bits = trivium_keystream(state.copy(), len(ciphertext))\n",
    "recovered = xor_bytes(ciphertext, stream_bits)\n",
    "\n",
    "print(\"Ciphertext:\", ciphertext.hex())\n",
    "print(\"Recovered:\", recovered)\n"
   ]
  },
  {
   "cell_type": "code",
   "execution_count": null,
   "metadata": {},
   "outputs": [],
   "source": []
  }
 ],
 "metadata": {
  "kernelspec": {
   "display_name": "Python 3",
   "language": "python",
   "name": "python3"
  },
  "language_info": {
   "codemirror_mode": {
    "name": "ipython",
    "version": 3
   },
   "file_extension": ".py",
   "mimetype": "text/x-python",
   "name": "python",
   "nbconvert_exporter": "python",
   "pygments_lexer": "ipython3",
   "version": "3.7.6"
  }
 },
 "nbformat": 4,
 "nbformat_minor": 5
}
