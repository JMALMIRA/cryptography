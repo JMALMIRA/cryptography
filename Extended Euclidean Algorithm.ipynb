{
 "cells": [
  {
   "cell_type": "code",
   "execution_count": 1,
   "metadata": {},
   "outputs": [],
   "source": [
    "### Extended Euclidean Algorithm — Large Integer Optimized\n",
    "\n",
    "#Function: Extended GCD (silent, big integer-friendly)\n",
    "def extended_gcd(a, b):\n",
    "    \"\"\"\n",
    "    Returns a tuple (gcd, x, y) such that:\n",
    "    a * x + b * y == gcd == gcd(a, b)\n",
    "    Handles very large integers efficiently.\n",
    "    \"\"\"\n",
    "    old_r, r = a, b\n",
    "    old_s, s = 1, 0  # Coefficients for a\n",
    "    old_t, t = 0, 1  # Coefficients for b\n",
    "\n",
    "    while r != 0:\n",
    "        quotient = old_r // r\n",
    "        old_r, r = r, old_r - quotient * r\n",
    "        old_s, s = s, old_s - quotient * s\n",
    "        old_t, t = t, old_t - quotient * t\n",
    "\n",
    "    return old_r, old_s, old_t"
   ]
  },
  {
   "cell_type": "code",
   "execution_count": 2,
   "metadata": {},
   "outputs": [
    {
     "name": "stdout",
     "output_type": "stream",
     "text": [
      "\n",
      "✅ Extended GCD successful for large integers.\n",
      "gcd = 1\n",
      "coefficients = (63113517865286316447241126476127241393872428037354379282002322652121174797665525810387151846028594357576758889439831894682258989227120865496381709092473278742506570800889900722552867080672517189744457315426955613501647890567448986125559816049920915631545955065305002309908708135072226529565686685666369618127, -11345873778343533846935073627856046443139471118926098849445120195204331125169986245846595138789163201572510598814390756029097065145006481600976176385434987746908425765065288176662427404583811639277699093298377380312931089549097804385047950282018196397345287810491557927638438353040341612991537221098085447128946660503251970805032086854214432209362578615902212390553253114636094448873563339169657974871135832981696524367823486558409464367241296976168899276640831964437857401151593346244166987823607494812657647969951979367215264599979648359787299240813358640099730992938880135512313590329821464633968610133949086640958)\n",
      "1\n"
     ]
    }
   ],
   "source": [
    "# Example: Compute gcd and Bézout coefficients with large integers\n",
    "a = 2**2048 + 1\n",
    "b = 2**1024 + 12345\n",
    "gcd, x, y = extended_gcd(a, b)\n",
    "\n",
    "# ✅ Final Check\n",
    "assert a * x + b * y == gcd, \"Bézout identity does not hold!\"\n",
    "print(\"\\n✅ Extended GCD successful for large integers.\")\n",
    "print(f\"gcd = {gcd}\")\n",
    "print(f\"coefficients = {x,y}\")\n",
    "print(a*x+b*y)"
   ]
  },
  {
   "cell_type": "code",
   "execution_count": null,
   "metadata": {},
   "outputs": [],
   "source": []
  }
 ],
 "metadata": {
  "kernelspec": {
   "display_name": "Python 3",
   "language": "python",
   "name": "python3"
  },
  "language_info": {
   "codemirror_mode": {
    "name": "ipython",
    "version": 3
   },
   "file_extension": ".py",
   "mimetype": "text/x-python",
   "name": "python",
   "nbconvert_exporter": "python",
   "pygments_lexer": "ipython3",
   "version": "3.7.6"
  }
 },
 "nbformat": 4,
 "nbformat_minor": 4
}
