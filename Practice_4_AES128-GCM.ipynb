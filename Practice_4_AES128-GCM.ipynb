{
 "cells": [
  {
   "cell_type": "markdown",
   "metadata": {},
   "source": [
    "## AES-GCM Encryption Example in Python\n",
    "\n",
    "In this example, we use **AES in Galois/Counter Mode (GCM)** for authenticated encryption. \n",
    "GCM provides both confidentiality (encryption) and integrity/authentication (via a tag).\n",
    "\n",
    "We will:\n",
    "1. Generate an AES-128 key.\n",
    "2. Generate a random nonce (IV) for encryption.\n",
    "3. Define a plaintext message and optional additional authenticated data (AAD).\n",
    "4. Encrypt the message using AES-GCM.\n"
   ]
  },
  {
   "cell_type": "code",
   "execution_count": 1,
   "metadata": {},
   "outputs": [],
   "source": [
    "# Import required libraries\n",
    "from cryptography.hazmat.primitives.ciphers.aead import AESGCM\n",
    "import numpy as np\n",
    "from os import urandom\n",
    "import sympy as sp\n",
    "from IPython.display import display\n",
    "from cryptography.hazmat.primitives import padding\n",
    "from cryptography.hazmat.primitives.ciphers import Cipher, algorithms, modes\n",
    "from cryptography.hazmat.backends import default_backend\n",
    "import os"
   ]
  },
  {
   "cell_type": "markdown",
   "metadata": {},
   "source": [
    "### 1. Generate AES-128 key\n",
    "\n",
    "AES-128 requires a 128-bit key (16 bytes).  \n",
    "We use the `AESGCM.generate_key` function to generate a secure random key.\n"
   ]
  },
  {
   "cell_type": "code",
   "execution_count": 2,
   "metadata": {},
   "outputs": [
    {
     "name": "stdout",
     "output_type": "stream",
     "text": [
      "Key: 92242807316c3a097a9904b651c2c2b2\n"
     ]
    }
   ],
   "source": [
    "key = AESGCM.generate_key(bit_length=128)  # 128-bit key = 16 bytes\n",
    "aesgcm = AESGCM(key)  # Initialize AES-GCM object with the key\n",
    "print(\"Key:\", key.hex())"
   ]
  },
  {
   "cell_type": "markdown",
   "metadata": {},
   "source": [
    "### 2. Generate a random nonce (IV)\n",
    "\n",
    "GCM mode requires a unique nonce for each encryption with the same key.  \n",
    "The recommended nonce size for GCM is 96 bits (12 bytes). We generate it using `urandom`.\n"
   ]
  },
  {
   "cell_type": "code",
   "execution_count": 3,
   "metadata": {},
   "outputs": [],
   "source": [
    "nonce = urandom(12)  # 12-byte random nonce"
   ]
  },
  {
   "cell_type": "markdown",
   "metadata": {},
   "source": [
    "### 3. Define plaintext and optional Associated Authenticated Data (AAD)\n",
    "\n",
    "- `plaintext` is the message we want to encrypt.\n",
    "- `aad` is optional data that is authenticated but **not encrypted**.  \n",
    "  This ensures that any tampering with AAD will be detected during decryption.\n"
   ]
  },
  {
   "cell_type": "code",
   "execution_count": 4,
   "metadata": {},
   "outputs": [],
   "source": [
    "plaintext = b\"A un amigo perdido\"\n",
    "aad = b\"authenticated-but-not-encrypted\""
   ]
  },
  {
   "cell_type": "markdown",
   "metadata": {},
   "source": [
    "### 4. Encrypt the plaintext\n",
    "\n",
    "We use the `encrypt` method of `AESGCM`, passing:\n",
    "- `nonce`: the random IV,\n",
    "- `plaintext`: the message to encrypt,\n",
    "- `aad`: optional associated data.\n",
    "\n",
    "The result is a ciphertext that **includes the authentication tag** at the end.\n"
   ]
  },
  {
   "cell_type": "code",
   "execution_count": 5,
   "metadata": {},
   "outputs": [
    {
     "name": "stdout",
     "output_type": "stream",
     "text": [
      "Ciphertext (hex): 076cf6752421b6189d88919834f99458bcd1fe03195de5d4b30d1141014919920b12\n"
     ]
    }
   ],
   "source": [
    "ciphertext = aesgcm.encrypt(nonce, plaintext, aad)\n",
    "print(\"Ciphertext (hex):\", ciphertext.hex())"
   ]
  },
  {
   "cell_type": "markdown",
   "metadata": {},
   "source": [
    "* Key size: AES-128 is secure for most applications, but AES-256 can be used for higher post-quantum security.\n",
    "\n",
    "* Nonce uniqueness: Never reuse the same nonce with the same key. Reusing nonces in GCM compromises security.\n",
    "\n",
    "* AAD: Useful for including headers or metadata in the authentication check without encrypting them.\n",
    "\n",
    "* Authentication tag: Automatically appended to the ciphertext in cryptography library; ensures integrity.\n",
    "\n",
    "* Decryption: Use aesgcm.decrypt(nonce, ciphertext, aad); if the ciphertext or AAD is tampered, an exception is raised."
   ]
  },
  {
   "cell_type": "code",
   "execution_count": 6,
   "metadata": {},
   "outputs": [
    {
     "name": "stdout",
     "output_type": "stream",
     "text": [
      "Key: 92242807316c3a097a9904b651c2c2b2\n",
      "Nonce: e9b5a099ebb7197484944f2c\n"
     ]
    }
   ],
   "source": [
    "print(\"Key:\", key.hex())\n",
    "print(\"Nonce:\", nonce.hex())"
   ]
  },
  {
   "cell_type": "code",
   "execution_count": 7,
   "metadata": {},
   "outputs": [
    {
     "name": "stdout",
     "output_type": "stream",
     "text": [
      "Plaintext (hex): b'A un amigo perdido'\n"
     ]
    }
   ],
   "source": [
    "print(\"Plaintext (hex):\", plaintext)"
   ]
  },
  {
   "cell_type": "code",
   "execution_count": 8,
   "metadata": {},
   "outputs": [
    {
     "name": "stdout",
     "output_type": "stream",
     "text": [
      "Plaintext (hex): 4120756e20616d69676f207065726469646f\n"
     ]
    }
   ],
   "source": [
    "print(\"Plaintext (hex):\", plaintext.hex())"
   ]
  },
  {
   "cell_type": "code",
   "execution_count": 9,
   "metadata": {},
   "outputs": [
    {
     "name": "stdout",
     "output_type": "stream",
     "text": [
      "01000001 00100000 01110101 01101110 00100000 01100001 01101101 01101001 01100111 01101111 00100000 01110000 01100101 01110010 01100100 01101001 01100100 01101111\n"
     ]
    }
   ],
   "source": [
    "print(' '.join(format(b, '08b') for b in plaintext))"
   ]
  },
  {
   "cell_type": "code",
   "execution_count": 10,
   "metadata": {},
   "outputs": [
    {
     "name": "stdout",
     "output_type": "stream",
     "text": [
      "Ciphertext (hex): 076cf6752421b6189d88919834f99458bcd1fe03195de5d4b30d1141014919920b12\n"
     ]
    }
   ],
   "source": [
    "print(\"Ciphertext (hex):\", ciphertext.hex())"
   ]
  },
  {
   "cell_type": "code",
   "execution_count": 11,
   "metadata": {},
   "outputs": [
    {
     "name": "stdout",
     "output_type": "stream",
     "text": [
      "00000111 01101100 11110110 01110101 00100100 00100001 10110110 00011000 10011101 10001000 10010001 10011000 00110100 11111001 10010100 01011000 10111100 11010001 11111110 00000011 00011001 01011101 11100101 11010100 10110011 00001101 00010001 01000001 00000001 01001001 00011001 10010010 00001011 00010010\n"
     ]
    }
   ],
   "source": [
    "print(' '.join(format(b, '08b') for b in ciphertext))"
   ]
  },
  {
   "cell_type": "code",
   "execution_count": 12,
   "metadata": {},
   "outputs": [
    {
     "name": "stdout",
     "output_type": "stream",
     "text": [
      "Decrypted: A un amigo perdido\n"
     ]
    }
   ],
   "source": [
    "# 5. Decrypt (will raise exception if tampered)\n",
    "decrypted = aesgcm.decrypt(nonce, ciphertext, aad)\n",
    "print(\"Decrypted:\", decrypted.decode())"
   ]
  },
  {
   "cell_type": "code",
   "execution_count": null,
   "metadata": {},
   "outputs": [],
   "source": []
  }
 ],
 "metadata": {
  "kernelspec": {
   "display_name": "Python 3",
   "language": "python",
   "name": "python3"
  },
  "language_info": {
   "codemirror_mode": {
    "name": "ipython",
    "version": 3
   },
   "file_extension": ".py",
   "mimetype": "text/x-python",
   "name": "python",
   "nbconvert_exporter": "python",
   "pygments_lexer": "ipython3",
   "version": "3.7.6"
  }
 },
 "nbformat": 4,
 "nbformat_minor": 4
}
