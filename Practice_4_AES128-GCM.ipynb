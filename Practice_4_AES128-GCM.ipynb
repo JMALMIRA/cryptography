{
 "cells": [
  {
   "cell_type": "markdown",
   "metadata": {},
   "source": [
    "## AES-GCM Encryption Example in Python\n",
    "\n",
    "In this example, we use **AES in Galois/Counter Mode (GCM)** for authenticated encryption. \n",
    "GCM provides both confidentiality (encryption) and integrity/authentication (via a tag).\n",
    "\n",
    "We will:\n",
    "1. Generate an AES-128 key.\n",
    "2. Generate a random nonce (IV) for encryption.\n",
    "3. Define a plaintext message and optional additional authenticated data (AAD).\n",
    "4. Encrypt the message using AES-GCM.\n"
   ]
  },
  {
   "cell_type": "code",
   "execution_count": 13,
   "metadata": {},
   "outputs": [],
   "source": [
    "# Import required libraries\n",
    "from cryptography.hazmat.primitives.ciphers.aead import AESGCM\n",
    "import numpy as np\n",
    "from os import urandom\n",
    "#import sympy as sp\n",
    "from IPython.display import display\n",
    "from cryptography.hazmat.primitives import padding\n",
    "from cryptography.hazmat.primitives.ciphers import Cipher, algorithms, modes\n",
    "from cryptography.hazmat.backends import default_backend\n",
    "import os"
   ]
  },
  {
   "cell_type": "markdown",
   "metadata": {},
   "source": [
    "### 1. Generate AES-128 key\n",
    "\n",
    "AES-128 requires a 128-bit key (16 bytes).  \n",
    "We use the `AESGCM.generate_key` function to generate a secure random key.\n"
   ]
  },
  {
   "cell_type": "code",
   "execution_count": 14,
   "metadata": {},
   "outputs": [
    {
     "name": "stdout",
     "output_type": "stream",
     "text": [
      "Key: 53ecdbe519bb4f77255acfb496f9cc13\n"
     ]
    }
   ],
   "source": [
    "key = AESGCM.generate_key(bit_length=128)  # 128-bit key = 16 bytes\n",
    "aesgcm = AESGCM(key)  # Initialize AES-GCM object with the key\n",
    "print(\"Key:\", key.hex())"
   ]
  },
  {
   "cell_type": "markdown",
   "metadata": {},
   "source": [
    "### 2. Generate a random nonce (IV)\n",
    "\n",
    "GCM mode requires a unique nonce for each encryption with the same key.  \n",
    "The recommended nonce size for GCM is 96 bits (12 bytes). We generate it using `urandom`.\n"
   ]
  },
  {
   "cell_type": "code",
   "execution_count": 15,
   "metadata": {},
   "outputs": [],
   "source": [
    "nonce = urandom(12)  # 12-byte random nonce"
   ]
  },
  {
   "cell_type": "markdown",
   "metadata": {},
   "source": [
    "### 3. Define plaintext and optional Associated Authenticated Data (AAD)\n",
    "\n",
    "- `plaintext` is the message we want to encrypt.\n",
    "- `aad` is optional data that is authenticated but **not encrypted**.  \n",
    "  This ensures that any tampering with AAD will be detected during decryption.\n"
   ]
  },
  {
   "cell_type": "code",
   "execution_count": 16,
   "metadata": {},
   "outputs": [],
   "source": [
    "plaintext = b\"A un amigo perdido\"\n",
    "aad = b\"authenticated-but-not-encrypted\""
   ]
  },
  {
   "cell_type": "markdown",
   "metadata": {},
   "source": [
    "### 4. Encrypt the plaintext\n",
    "\n",
    "We use the `encrypt` method of `AESGCM`, passing:\n",
    "- `nonce`: the random IV,\n",
    "- `plaintext`: the message to encrypt,\n",
    "- `aad`: optional associated data.\n",
    "\n",
    "The result is a ciphertext that **includes the authentication tag** at the end.\n"
   ]
  },
  {
   "cell_type": "code",
   "execution_count": 17,
   "metadata": {},
   "outputs": [
    {
     "name": "stdout",
     "output_type": "stream",
     "text": [
      "Ciphertext (hex): 4f43cb6dd1be57a68ba8eb01801946169f0611999629433f801d209cfc1343e3ba55\n"
     ]
    }
   ],
   "source": [
    "ciphertext = aesgcm.encrypt(nonce, plaintext, aad)\n",
    "print(\"Ciphertext (hex):\", ciphertext.hex())"
   ]
  },
  {
   "cell_type": "markdown",
   "metadata": {},
   "source": [
    "* Key size: AES-128 is secure for most applications, but AES-256 can be used for higher post-quantum security.\n",
    "\n",
    "* Nonce uniqueness: Never reuse the same nonce with the same key. Reusing nonces in GCM compromises security.\n",
    "\n",
    "* AAD: Useful for including headers or metadata in the authentication check without encrypting them.\n",
    "\n",
    "* Authentication tag: Automatically appended to the ciphertext in cryptography library; ensures integrity.\n",
    "\n",
    "* Decryption: Use aesgcm.decrypt(nonce, ciphertext, aad); if the ciphertext or AAD is tampered, an exception is raised."
   ]
  },
  {
   "cell_type": "code",
   "execution_count": 18,
   "metadata": {},
   "outputs": [
    {
     "name": "stdout",
     "output_type": "stream",
     "text": [
      "Key: 53ecdbe519bb4f77255acfb496f9cc13\n",
      "Nonce: 16b60faf00ef537aa2ed36b2\n"
     ]
    }
   ],
   "source": [
    "print(\"Key:\", key.hex())\n",
    "print(\"Nonce:\", nonce.hex())"
   ]
  },
  {
   "cell_type": "code",
   "execution_count": 19,
   "metadata": {},
   "outputs": [
    {
     "name": "stdout",
     "output_type": "stream",
     "text": [
      "Plaintext : b'A un amigo perdido'\n"
     ]
    }
   ],
   "source": [
    "print(\"Plaintext :\", plaintext)"
   ]
  },
  {
   "cell_type": "code",
   "execution_count": 20,
   "metadata": {},
   "outputs": [
    {
     "name": "stdout",
     "output_type": "stream",
     "text": [
      "Plaintext (hex): 4120756e20616d69676f207065726469646f\n"
     ]
    }
   ],
   "source": [
    "print(\"Plaintext (hex):\", plaintext.hex())"
   ]
  },
  {
   "cell_type": "code",
   "execution_count": 21,
   "metadata": {},
   "outputs": [
    {
     "name": "stdout",
     "output_type": "stream",
     "text": [
      "01000001 00100000 01110101 01101110 00100000 01100001 01101101 01101001 01100111 01101111 00100000 01110000 01100101 01110010 01100100 01101001 01100100 01101111\n"
     ]
    }
   ],
   "source": [
    "print(' '.join(format(b, '08b') for b in plaintext))"
   ]
  },
  {
   "cell_type": "code",
   "execution_count": 22,
   "metadata": {},
   "outputs": [
    {
     "name": "stdout",
     "output_type": "stream",
     "text": [
      "Ciphertext (hex): 4f43cb6dd1be57a68ba8eb01801946169f0611999629433f801d209cfc1343e3ba55\n"
     ]
    }
   ],
   "source": [
    "print(\"Ciphertext (hex):\", ciphertext.hex())"
   ]
  },
  {
   "cell_type": "code",
   "execution_count": 23,
   "metadata": {},
   "outputs": [
    {
     "name": "stdout",
     "output_type": "stream",
     "text": [
      "01001111 01000011 11001011 01101101 11010001 10111110 01010111 10100110 10001011 10101000 11101011 00000001 10000000 00011001 01000110 00010110 10011111 00000110 00010001 10011001 10010110 00101001 01000011 00111111 10000000 00011101 00100000 10011100 11111100 00010011 01000011 11100011 10111010 01010101\n"
     ]
    }
   ],
   "source": [
    "print(' '.join(format(b, '08b') for b in ciphertext))"
   ]
  },
  {
   "cell_type": "code",
   "execution_count": 24,
   "metadata": {},
   "outputs": [
    {
     "name": "stdout",
     "output_type": "stream",
     "text": [
      "Decrypted: A un amigo perdido\n"
     ]
    }
   ],
   "source": [
    "# 5. Decrypt (will raise exception if tampered)\n",
    "decrypted = aesgcm.decrypt(nonce, ciphertext, aad)\n",
    "print(\"Decrypted:\", decrypted.decode())"
   ]
  },
  {
   "cell_type": "code",
   "execution_count": null,
   "metadata": {},
   "outputs": [],
   "source": []
  },
  {
   "cell_type": "code",
   "execution_count": null,
   "metadata": {},
   "outputs": [],
   "source": []
  }
 ],
 "metadata": {
  "kernelspec": {
   "display_name": "Python 3",
   "language": "python",
   "name": "python3"
  },
  "language_info": {
   "codemirror_mode": {
    "name": "ipython",
    "version": 3
   },
   "file_extension": ".py",
   "mimetype": "text/x-python",
   "name": "python",
   "nbconvert_exporter": "python",
   "pygments_lexer": "ipython3",
   "version": "3.7.6"
  }
 },
 "nbformat": 4,
 "nbformat_minor": 4
}
