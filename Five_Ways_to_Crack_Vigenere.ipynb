{
 "cells": [
  {
   "cell_type": "markdown",
   "metadata": {},
   "source": [
    "# 🔓 Five Ways to Crack a Vigenère Cipher\n",
    "Brought to you by The Mad Doctor (\"madness\")\n",
    "\n",
    "This notebook reviews five methods for breaking the Vigenère cipher. Each section contains the theory and working Python code."
   ]
  },
  {
   "cell_type": "markdown",
   "metadata": {},
   "source": [
    "## 🧠 Part 0: Setup"
   ]
  },
  {
   "cell_type": "code",
   "execution_count": 1,
   "metadata": {},
   "outputs": [],
   "source": [
    "import math\n",
    "import random\n",
    "from itertools import product\n",
    "from math import sqrt, log\n",
    "\n",
    "ALPHABET = 'ABCDEFGHIJKLMNOPQRSTUVWXYZ'\n",
    "\n",
    "def char_to_index(c): return ALPHABET.index(c)\n",
    "def index_to_char(i): return ALPHABET[i % 26]"
   ]
  },
  {
   "cell_type": "markdown",
   "metadata": {},
   "source": [
    "## 🔐 Part 1: Vigenère Cipher Implementation"
   ]
  },
  {
   "cell_type": "code",
   "execution_count": 4,
   "metadata": {},
   "outputs": [],
   "source": [
    "def encrypt(plaintext, key):\n",
    "    return ''.join(\n",
    "        ALPHABET[(char_to_index(p) + char_to_index(key[i % len(key)])) % 26]\n",
    "        for i, p in enumerate(plaintext)\n",
    "    )\n",
    "\n",
    "def decrypt(ciphertext, key):\n",
    "    return ''.join(\n",
    "        ALPHABET[(char_to_index(c) - char_to_index(key[i % len(key)])) % 26]\n",
    "        for i, c in enumerate(ciphertext)\n",
    "    )"
   ]
  },
  {
   "cell_type": "code",
   "execution_count": 48,
   "metadata": {},
   "outputs": [
    {
     "data": {
      "text/plain": [
       "'ISSBITOVWCIPSSSCMKKKGXERSSLDLCBIQYQCDLGXKKYVCDSZOXYVOCNSDSWCOAFKXWYYPOEZYYRISSWEWRETOKYSRCNQWMSLPMBORAOFSDCMEAGVPLOZCBQWMSLCILDCMEWCOORYILDVYZQCGMRRAMBHQYJFYRMB'"
      ]
     },
     "execution_count": 48,
     "metadata": {},
     "output_type": "execute_result"
    }
   ],
   "source": [
    "plaintext = \"YOUREVERYSERIOUSIMAGINATIONTHERESOMETHINGMORETOBETALKEDOFISEEWHATYOUREABOUTYOUMAYHAVEGAINEDMYCONFIDENCEBUTYOUWILLNEVERMYCONSENTYOUSEEKTOENTRAPMEWITHWORDSOFHONOR\"\n",
    "key=\"KEY\"\n",
    "ciphertext=encrypt(plaintext, key)\n",
    "ciphertext"
   ]
  },
  {
   "cell_type": "code",
   "execution_count": 49,
   "metadata": {},
   "outputs": [
    {
     "data": {
      "text/plain": [
       "'YOUREVERYSERIOUSIMAGINATIONTHERESOMETHINGMORETOBETALKEDOFISEEWHATYOUREABOUTYOUMAYHAVEGAINEDMYCONFIDENCEBUTYOUWILLNEVERMYCONSENTYOUSEEKTOENTRAPMEWITHWORDSOFHONOR'"
      ]
     },
     "execution_count": 49,
     "metadata": {},
     "output_type": "execute_result"
    }
   ],
   "source": [
    "decrypt(ciphertext, key)"
   ]
  },
  {
   "cell_type": "markdown",
   "metadata": {},
   "source": [
    "## 📊 Part 2: Frequency Tables"
   ]
  },
  {
   "cell_type": "code",
   "execution_count": 37,
   "metadata": {},
   "outputs": [],
   "source": [
    "def build_monogram_freq(text):\n",
    "    freqs = [0]*26\n",
    "    for char in text:\n",
    "        freqs[char_to_index(char)] += 1\n",
    "    total = sum(freqs)\n",
    "    return [f / total for f in freqs]"
   ]
  },
  {
   "cell_type": "code",
   "execution_count": 38,
   "metadata": {},
   "outputs": [],
   "source": [
    "def build_tetragram_freq(text):\n",
    "    freqs = [0] * (26**4)\n",
    "    for i in range(len(text) - 3):\n",
    "        idx = (char_to_index(text[i]) * 26**3 +\n",
    "               char_to_index(text[i+1]) * 26**2 +\n",
    "               char_to_index(text[i+2]) * 26 +\n",
    "               char_to_index(text[i+3]))\n",
    "        freqs[idx] += 1\n",
    "    total = sum(freqs)\n",
    "    return [f / total for f in freqs]"
   ]
  },
  {
   "cell_type": "markdown",
   "metadata": {},
   "source": [
    "## 📈 Part 3: Fitness Function"
   ]
  },
  {
   "cell_type": "code",
   "execution_count": 39,
   "metadata": {},
   "outputs": [],
   "source": [
    "def fitness(text, tetrafrequencies):\n",
    "    result = 0\n",
    "    for i in range(len(text) - 3):\n",
    "        idx = (char_to_index(text[i]) * 26**3 +\n",
    "               char_to_index(text[i+1]) * 26**2 +\n",
    "               char_to_index(text[i+2]) * 26 +\n",
    "               char_to_index(text[i+3]))\n",
    "        y = tetrafrequencies[idx]\n",
    "        result += log(y) if y > 0 else -15\n",
    "    return result / (len(text) - 3)"
   ]
  },
  {
   "cell_type": "markdown",
   "metadata": {},
   "source": [
    "## 📏 Part 4: Index of Coincidence (IoC)"
   ]
  },
  {
   "cell_type": "code",
   "execution_count": 40,
   "metadata": {},
   "outputs": [],
   "source": [
    "def index_of_coincidence(text):\n",
    "    counts = [0]*26\n",
    "    for char in text:\n",
    "        counts[char_to_index(char)] += 1\n",
    "    N = sum(counts)\n",
    "    numer = sum(f * (f-1) for f in counts)\n",
    "    return 26 * numer / (N * (N - 1)) if N > 1 else 0\n",
    "\n",
    "def estimate_period(ciphertext, max_period=20):\n",
    "    for period in range(1, max_period+1):\n",
    "        slices = [''] * period\n",
    "        for i in range(len(ciphertext)):\n",
    "            slices[i % period] += ciphertext[i]\n",
    "        avg_ioc = sum(index_of_coincidence(s) for s in slices) / period\n",
    "        if avg_ioc > 1.6:\n",
    "            return period\n",
    "    return None"
   ]
  },
  {
   "cell_type": "markdown",
   "metadata": {},
   "source": [
    "## 🧨 Part 5: Five Attack Methods\n",
    "\n",
    "### 🔍 Method 1: Brute Force"
   ]
  },
  {
   "cell_type": "code",
   "execution_count": 41,
   "metadata": {},
   "outputs": [],
   "source": [
    "def brute_force(ciphertext, period, tetrafrequencies):\n",
    "    for key_tuple in product(ALPHABET, repeat=period):\n",
    "        key = ''.join(key_tuple)\n",
    "        pt = decrypt(ciphertext, key)\n",
    "        if fitness(pt, tetrafrequencies) > -10:\n",
    "            return key, pt\n",
    "    return None, None"
   ]
  },
  {
   "cell_type": "markdown",
   "metadata": {},
   "source": [
    "### 📖 Method 2: Dictionary Attack"
   ]
  },
  {
   "cell_type": "code",
   "execution_count": 42,
   "metadata": {},
   "outputs": [],
   "source": [
    "def dictionary_attack(ciphertext, wordlist, tetrafrequencies):\n",
    "    for key in wordlist:\n",
    "        pt = decrypt(ciphertext, key)\n",
    "        if fitness(pt, tetrafrequencies) > -10:\n",
    "            return key, pt\n",
    "    return None, None"
   ]
  },
  {
   "cell_type": "markdown",
   "metadata": {},
   "source": [
    "### 🔐 Method 3: Crib Attack"
   ]
  },
  {
   "cell_type": "code",
   "execution_count": 43,
   "metadata": {},
   "outputs": [],
   "source": [
    "def crib_attack(ciphertext, crib):\n",
    "    for i in range(len(ciphertext) - len(crib)):\n",
    "        piece = ciphertext[i:i+len(crib)]\n",
    "        decrypted_piece = decrypt(piece, crib)\n",
    "        print(f\"{i}: {decrypted_piece}\")"
   ]
  },
  {
   "cell_type": "markdown",
   "metadata": {},
   "source": [
    "### 🔁 Method 4: Variational Method"
   ]
  },
  {
   "cell_type": "code",
   "execution_count": 44,
   "metadata": {},
   "outputs": [],
   "source": [
    "def variational_attack(ciphertext, period, tetrafrequencies, threshold=-10):\n",
    "    key = ['A'] * period\n",
    "    fit = -99\n",
    "    while fit < threshold:\n",
    "        K = key[:]\n",
    "        x = random.randrange(period)\n",
    "        for i in range(26):\n",
    "            K[x] = ALPHABET[i]\n",
    "            pt = decrypt(ciphertext, ''.join(K))\n",
    "            F = fitness(pt, tetrafrequencies)\n",
    "            if F > fit:\n",
    "                key, fit = K[:], F\n",
    "    return ''.join(key), decrypt(ciphertext, ''.join(key))"
   ]
  },
  {
   "cell_type": "markdown",
   "metadata": {},
   "source": [
    "### 📐 Method 5: Statistics-Only Attack"
   ]
  },
  {
   "cell_type": "code",
   "execution_count": 45,
   "metadata": {},
   "outputs": [],
   "source": [
    "def cosangle(x, y):\n",
    "    numerator = sum(xi * yi for xi, yi in zip(x, y))\n",
    "    return numerator / (sqrt(sum(xi**2 for xi in x)) * sqrt(sum(yi**2 for yi in y)))"
   ]
  },
  {
   "cell_type": "code",
   "execution_count": 46,
   "metadata": {},
   "outputs": [],
   "source": [
    "def statistics_only_attack(ciphertext, period, monofrequencies):\n",
    "    slices = [''] * period\n",
    "    for i in range(len(ciphertext)):\n",
    "        slices[i % period] += ciphertext[i]\n",
    "\n",
    "    key = ['A'] * period\n",
    "    for i in range(period):\n",
    "        freqs = [0] * 26\n",
    "        for c in slices[i]:\n",
    "            freqs[char_to_index(c)] += 1\n",
    "        total = sum(freqs)\n",
    "        freqs = [f / total for f in freqs]\n",
    "        for j in range(26):\n",
    "            rotated = freqs[j:] + freqs[:j]\n",
    "            if cosangle(rotated, monofrequencies) > 0.9:\n",
    "                key[i] = ALPHABET[j]\n",
    "                break\n",
    "    return ''.join(key), decrypt(ciphertext, ''.join(key))"
   ]
  },
  {
   "cell_type": "markdown",
   "metadata": {},
   "source": [
    "## 🧪 Example Usage"
   ]
  },
  {
   "cell_type": "code",
   "execution_count": 50,
   "metadata": {},
   "outputs": [
    {
     "name": "stdout",
     "output_type": "stream",
     "text": [
      "Key: KAA\n",
      "Plaintext: YSSRITEVWSIPISSSMKAKGNERISLTLCRIQOQCTLGNKKOVCTSZEXYLOCDSDIWCEAFAXWOYPEEZOYRYSSMEWHETEKYIRCDQWCSLFMBERAEFSTCMUAGLPLEZCRQWCSLSILTCMUWCEOROILTVYPQCWMRHAMRHQOJFORMR\n"
     ]
    }
   ],
   "source": [
    "# Sample ciphertext and training text required\n",
    "ciphertext = \"ISSBITOVWCIPSSSCMKKKGXERSSLDLCBIQYQCDLGXKKYVCDSZOXYVOCNSDSWCOAFKXWYYPOEZYYRISSWEWRETOKYSRCNQWMSLPMBORAOFSDCMEAGVPLOZCBQWMSLCILDCMEWCOORYILDVYZQCGMRRAMBHQYJFYRMB\"\n",
    "#training_text = \"YOURLONGENGLISHTEXTHERE\"\n",
    "training_text = load_clean_text(\"Pride_and_Prejudice.txt\")\n",
    "monofrequencies = build_monogram_freq(training_text)\n",
    "tetrafrequencies = build_tetragram_freq(training_text)\n",
    "\n",
    "period = estimate_period(ciphertext)\n",
    "key, plaintext = statistics_only_attack(ciphertext, period, monofrequencies)\n",
    "print(f\"Key: {key}\\nPlaintext: {plaintext}\")"
   ]
  },
  {
   "cell_type": "code",
   "execution_count": 51,
   "metadata": {},
   "outputs": [
    {
     "name": "stdout",
     "output_type": "stream",
     "text": [
      "Key: KAA\n",
      "Plaintext: YSSRITEVWSIPISSSMKAKGNERISLTLCRIQOQCTLGNKKOVCTSZEXYLOCDSDIWCEAFAXWOYPEEZOYRYSSMEWHETEKYIRCDQWCSLFMBERAEFSTCMUAGLPLEZCRQWCSLSILTCMUWCEOROILTVYPQCWMRHAMRHQOJFORMR\n"
     ]
    }
   ],
   "source": [
    "# Load your ciphertext here\n",
    "#ciphertext = \"...\"\n",
    "# Load frequency tables from English training text (e.g., \"Pride and Prejudice\")\n",
    "monofrequencies = build_monogram_freq(training_text)\n",
    "tetrafrequencies = build_tetragram_freq(training_text)\n",
    "\n",
    "# Estimate period\n",
    "period = estimate_period(ciphertext)\n",
    "\n",
    "# Try various attacks\n",
    "key, plaintext = statistics_only_attack(ciphertext, period, monofrequencies)\n",
    "print(f\"Key: {key}\\nPlaintext: {plaintext}\")\n"
   ]
  },
  {
   "cell_type": "code",
   "execution_count": 27,
   "metadata": {},
   "outputs": [],
   "source": [
    "def clean_text(input_file, output_file):\n",
    "    with open(input_file, \"r\", encoding=\"utf-8\") as f:\n",
    "        raw_text = f.read()\n",
    "\n",
    "    # Strip header/footer\n",
    "    start = raw_text.find(\"*** START OF THE PROJECT GUTENBERG EBOOK\")\n",
    "    end = raw_text.find(\"*** END OF THE PROJECT GUTENBERG EBOOK\")\n",
    "    text = raw_text[start:end]\n",
    "\n",
    "    # Keep only uppercase letters\n",
    "    clean = ''.join(filter(str.isalpha, text)).upper()\n",
    "\n",
    "    with open(output_file, \"w\", encoding=\"utf-8\") as f:\n",
    "        f.write(clean)\n",
    "\n",
    "clean_text(\"Pride_and_Prejudice.txt\", \"Pride_and_Prejudice_clean.txt\")\n"
   ]
  },
  {
   "cell_type": "code",
   "execution_count": 28,
   "metadata": {},
   "outputs": [],
   "source": [
    "def load_clean_text(filepath):\n",
    "    with open(filepath, \"r\", encoding=\"utf-8\") as f:\n",
    "        raw_text = f.read()\n",
    "\n",
    "    # Keep only uppercase letters\n",
    "    clean = ''.join(filter(str.isalpha, raw_text)).upper()\n",
    "    return clean"
   ]
  },
  {
   "cell_type": "code",
   "execution_count": 33,
   "metadata": {},
   "outputs": [],
   "source": [
    "training_text = load_clean_text(\"Pride_and_Prejudice.txt\")\n",
    "\n",
    "monofrequencies = build_monogram_freq(training_text)\n",
    "tetrafrequencies = build_tetragram_freq(training_text)\n"
   ]
  },
  {
   "cell_type": "code",
   "execution_count": 34,
   "metadata": {},
   "outputs": [
    {
     "name": "stdout",
     "output_type": "stream",
     "text": [
      "Key: AAA\n",
      "Plaintext: ISSBGGZLCBXCHXFOVC\n"
     ]
    }
   ],
   "source": [
    "# Try various attacks\n",
    "key, plaintext = statistics_only_attack(ciphertext, period, monofrequencies)\n",
    "print(f\"Key: {key}\\nPlaintext: {plaintext}\")"
   ]
  },
  {
   "cell_type": "code",
   "execution_count": 52,
   "metadata": {},
   "outputs": [
    {
     "data": {
      "text/plain": [
       "('KEY',\n",
       " 'YOUREVERYSERIOUSIMAGINATIONTHERESOMETHINGMORETOBETALKEDOFISEEWHATYOUREABOUTYOUMAYHAVEGAINEDMYCONFIDENCEBUTYOUWILLNEVERMYCONSENTYOUSEEKTOENTRAPMEWITHWORDSOFHONOR')"
      ]
     },
     "execution_count": 52,
     "metadata": {},
     "output_type": "execute_result"
    }
   ],
   "source": [
    "brute_force(ciphertext, period, tetrafrequencies)"
   ]
  },
  {
   "cell_type": "code",
   "execution_count": null,
   "metadata": {},
   "outputs": [],
   "source": []
  },
  {
   "cell_type": "code",
   "execution_count": null,
   "metadata": {},
   "outputs": [],
   "source": []
  }
 ],
 "metadata": {
  "kernelspec": {
   "display_name": "Python 3",
   "language": "python",
   "name": "python3"
  },
  "language_info": {
   "codemirror_mode": {
    "name": "ipython",
    "version": 3
   },
   "file_extension": ".py",
   "mimetype": "text/x-python",
   "name": "python",
   "nbconvert_exporter": "python",
   "pygments_lexer": "ipython3",
   "version": "3.7.6"
  }
 },
 "nbformat": 4,
 "nbformat_minor": 5
}
