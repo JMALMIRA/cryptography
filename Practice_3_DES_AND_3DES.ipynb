{
 "cells": [
  {
   "cell_type": "code",
   "execution_count": 1,
   "metadata": {},
   "outputs": [
    {
     "name": "stdout",
     "output_type": "stream",
     "text": [
      "Requirement already satisfied: pycryptodome in /opt/anaconda3/lib/python3.7/site-packages (3.23.0)\n",
      "\u001b[33mDEPRECATION: pyodbc 4.0.0-unsupported has a non-standard version number. pip 24.1 will enforce this behaviour change. A possible replacement is to upgrade to a newer version of pyodbc or contact the author to suggest that they release a version with a conforming version number. Discussion can be found at https://github.com/pypa/pip/issues/12063\u001b[0m\u001b[33m\n",
      "\u001b[0mNote: you may need to restart the kernel to use updated packages.\n"
     ]
    }
   ],
   "source": [
    "pip install pycryptodome"
   ]
  },
  {
   "cell_type": "code",
   "execution_count": 2,
   "metadata": {},
   "outputs": [],
   "source": [
    "from cryptography.hazmat.primitives.ciphers import Cipher, algorithms, modes\n",
    "from cryptography.hazmat.primitives import padding\n",
    "from cryptography.hazmat.backends import default_backend\n",
    "from os import urandom"
   ]
  },
  {
   "cell_type": "markdown",
   "metadata": {},
   "source": [
    "## A nice property satisfied by DES\n",
    "\n",
    "We will check, with a concrete example, that: \n",
    "\n",
    "<strong>$$ \\mathbf{{\\rm NOT(DES(m, k)) = DES(NOT(m), NOT(k)) }} $$</strong>\n",
    "\n",
    "\n"
   ]
  },
  {
   "cell_type": "markdown",
   "metadata": {},
   "source": [
    "\n",
    "\n",
    "This identity:\n",
    "\n",
    "* Only applies to the DES cipher\n",
    "* Only holds for ECB mode\n",
    "* Does not extend to 3DES\n",
    "* Requires a block-aligned, unpadded message"
   ]
  },
  {
   "cell_type": "markdown",
   "metadata": {},
   "source": [
    "Here’s a test script that:\n",
    "\n",
    "* Generates a random 8-byte key and 8-byte plaintext.\n",
    "\n",
    "* Computes DES(m, k)\n",
    "\n",
    "* Computes NOT(DES(m, k))\n",
    "\n",
    "* Compares it to DES(NOT(m), NOT(k))"
   ]
  },
  {
   "cell_type": "code",
   "execution_count": 3,
   "metadata": {},
   "outputs": [
    {
     "name": "stdout",
     "output_type": "stream",
     "text": [
      "Original message     : 0111001100001001010000110100101011110100111100000011101111011011\n",
      "Original key         : 1110000110000001100011111101110011011110010010100000000010010001\n",
      "\n",
      "DES(m, k)            : 1000010010011010111011010111100010001111010110101110010101101011\n",
      "NOT(DES(m, k))       : 0111101101100101000100101000011101110000101001010001101010010100\n",
      "DES(NOT(m), NOT(k))  : 0111101101100101000100101000011101110000101001010001101010010100\n",
      "\n",
      "Test passed?         : True\n"
     ]
    }
   ],
   "source": [
    "from Crypto.Cipher import DES\n",
    "from Crypto.Random import get_random_bytes\n",
    "\n",
    "def bytes_to_bitstring(data: bytes) -> str:\n",
    "    return ''.join(f'{b:08b}' for b in data)\n",
    "\n",
    "def bitstring_to_bytes(bitstr: str) -> bytes:\n",
    "    return int(bitstr, 2).to_bytes(len(bitstr) // 8, byteorder='big')\n",
    "\n",
    "def flip_bits(data: bytes) -> bytes:\n",
    "    return bytes(~b & 0xFF for b in data)\n",
    "\n",
    "def des_encrypt_ecb(key: bytes, plaintext: bytes) -> bytes:\n",
    "    cipher = DES.new(key, DES.MODE_ECB)\n",
    "    return cipher.encrypt(plaintext)\n",
    "\n",
    "# === Main check ===\n",
    "if __name__ == \"__main__\":\n",
    "    # Use 8-byte aligned data (no padding)\n",
    "    m = get_random_bytes(8)\n",
    "    k = get_random_bytes(8)\n",
    "\n",
    "    print(\"Original message     :\", bytes_to_bitstring(m))\n",
    "    print(\"Original key         :\", bytes_to_bitstring(k))\n",
    "\n",
    "    # DES(m, k)\n",
    "    c = des_encrypt_ecb(k, m)\n",
    "    not_c = flip_bits(c)\n",
    "\n",
    "    # DES(NOT(m), NOT(k))\n",
    "    not_m = flip_bits(m)\n",
    "    not_k = flip_bits(k)\n",
    "    c2 = des_encrypt_ecb(not_k, not_m)\n",
    "\n",
    "    print(\"\\nDES(m, k)            :\", bytes_to_bitstring(c))\n",
    "    print(\"NOT(DES(m, k))       :\", bytes_to_bitstring(not_c))\n",
    "    print(\"DES(NOT(m), NOT(k))  :\", bytes_to_bitstring(c2))\n",
    "\n",
    "    print(\"\\nTest passed?         :\", not_c == c2)\n"
   ]
  },
  {
   "cell_type": "code",
   "execution_count": 4,
   "metadata": {},
   "outputs": [
    {
     "name": "stdout",
     "output_type": "stream",
     "text": [
      "Original plaintext (bytes): b'A un amigo perdido'\n",
      "Original plaintext (bits):  010000010010000001110101011011100010000001100001011011010110100101100111011011110010000001110000011001010111001001100100011010010110010001101111\n",
      "\n",
      "--- 3DES with cryptography ---\n",
      "Key (bits):          110111110011010111010111111010101101100100101111000110010010001001111110111101011111010101101001100110001010000100111010000100111100110100011101100110010110001100001010110010001101001110011011\n",
      "IV (bits):           0111000000001111000101000101010110011100001001011011110001001001\n",
      "Ciphertext (bits):   111101111111111001000011000110100011111111001110111001001101101101111000010011101101110110000110010010000011111000110000000000010010101101001010000000000001111110011110100101101010000011110111\n",
      "Decrypted (bits):    010000010010000001110101011011100010000001100001011011010110100101100111011011110010000001110000011001010111001001100100011010010110010001101111\n",
      "Decrypted (text):    b'A un amigo perdido'\n"
     ]
    }
   ],
   "source": [
    "BLOCK_SIZE_BITS = 64  # TripleDES uses 64-bit blocks\n",
    "\n",
    "def bytes_to_bitstring(data: bytes) -> str:\n",
    "    return ''.join(f'{b:08b}' for b in data)\n",
    "\n",
    "def pad_data(data: bytes) -> bytes:\n",
    "    padder = padding.PKCS7(BLOCK_SIZE_BITS).padder()\n",
    "    return padder.update(data) + padder.finalize()\n",
    "\n",
    "def unpad_data(padded_data: bytes) -> bytes:\n",
    "    unpadder = padding.PKCS7(BLOCK_SIZE_BITS).unpadder()\n",
    "    return unpadder.update(padded_data) + unpadder.finalize()\n",
    "\n",
    "def des3_encrypt(key: bytes, iv: bytes, plaintext: bytes) -> bytes:\n",
    "    cipher = Cipher(algorithms.TripleDES(key), modes.CBC(iv), backend=default_backend())\n",
    "    encryptor = cipher.encryptor()\n",
    "    padded = pad_data(plaintext)\n",
    "    return encryptor.update(padded) + encryptor.finalize()\n",
    "\n",
    "def des3_decrypt(key: bytes, iv: bytes, ciphertext: bytes) -> bytes:\n",
    "    cipher = Cipher(algorithms.TripleDES(key), modes.CBC(iv), backend=default_backend())\n",
    "    decryptor = cipher.decryptor()\n",
    "    decrypted_padded = decryptor.update(ciphertext) + decryptor.finalize()\n",
    "    return unpad_data(decrypted_padded)\n",
    "\n",
    "def generate_3des_key() -> bytes:\n",
    "    return urandom(24)  # 24 bytes = 192-bit key (3-key 3DES)\n",
    "\n",
    "def generate_iv() -> bytes:\n",
    "    return urandom(8)  # Block size = 8 bytes for DES/3DES\n",
    "\n",
    "# === MAIN TEST ===\n",
    "if __name__ == \"__main__\":\n",
    "    message = b\"A un amigo perdido\"\n",
    "\n",
    "    print(\"Original plaintext (bytes):\", message)\n",
    "    print(\"Original plaintext (bits): \", bytes_to_bitstring(message))\n",
    "\n",
    "    key = generate_3des_key()\n",
    "    iv = generate_iv()\n",
    "\n",
    "    ciphertext = des3_encrypt(key, iv, message)\n",
    "    decrypted = des3_decrypt(key, iv, ciphertext)\n",
    "\n",
    "    print(\"\\n--- 3DES with cryptography ---\")\n",
    "    print(\"Key (bits):         \", bytes_to_bitstring(key))\n",
    "    print(\"IV (bits):          \", bytes_to_bitstring(iv))\n",
    "    print(\"Ciphertext (bits):  \", bytes_to_bitstring(ciphertext))\n",
    "    print(\"Decrypted (bits):   \", bytes_to_bitstring(decrypted))\n",
    "    print(\"Decrypted (text):   \", decrypted)\n"
   ]
  },
  {
   "cell_type": "code",
   "execution_count": null,
   "metadata": {},
   "outputs": [],
   "source": []
  }
 ],
 "metadata": {
  "kernelspec": {
   "display_name": "Python 3",
   "language": "python",
   "name": "python3"
  },
  "language_info": {
   "codemirror_mode": {
    "name": "ipython",
    "version": 3
   },
   "file_extension": ".py",
   "mimetype": "text/x-python",
   "name": "python",
   "nbconvert_exporter": "python",
   "pygments_lexer": "ipython3",
   "version": "3.7.6"
  }
 },
 "nbformat": 4,
 "nbformat_minor": 4
}
