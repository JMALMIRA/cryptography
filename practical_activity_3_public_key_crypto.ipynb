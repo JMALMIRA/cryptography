{
 "cells": [
  {
   "cell_type": "markdown",
   "metadata": {},
   "source": [
    "# 📓 Practical Activity 3: Public-Key Cryptography\n",
    "\n",
    "## 🎯 Objectives\n",
    "- Understand the basics of **public-key cryptography**.\n",
    "- Implement **RSA** encryption and decryption in Python.\n",
    "- Explore **key generation** and the number theory behind RSA.\n",
    "- Solve questions and problems related to RSA’s security."
   ]
  },
  {
   "cell_type": "markdown",
   "metadata": {},
   "source": [
    "## 1. Introduction\n",
    "\n",
    "Symmetric cryptography requires both parties to share the same secret key. This creates key distribution problems.\n",
    "\n",
    "Public-key cryptography solves this by introducing **key pairs**:\n",
    "- **Public key** (used for encryption).\n",
    "- **Private key** (used for decryption).\n",
    "\n",
    "### RSA (Rivest–Shamir–Adleman, 1977)\n",
    "- First widely adopted public-key scheme.\n",
    "- Security is based on the difficulty of **factoring large integers**.\n"
   ]
  },
  {
   "cell_type": "markdown",
   "metadata": {},
   "source": [
    "## 2. RSA Algorithm\n",
    "\n",
    "### 2.1 Number Theory Refresher\n",
    "- Modular arithmetic.\n",
    "- Prime numbers.\n",
    "- Euler’s totient function: $\\varphi(n) = (p-1)(q-1)$ for primes $p, q$.\n",
    "- Modular inverses: finding $d$ such that $ed \\equiv 1 \\pmod{\\varphi(n)}$."
   ]
  },
  {
   "cell_type": "code",
   "execution_count": 6,
   "metadata": {},
   "outputs": [
    {
     "data": {
      "text/plain": [
       "27"
      ]
     },
     "execution_count": 6,
     "metadata": {},
     "output_type": "execute_result"
    }
   ],
   "source": [
    "from math import gcd\n",
    "\n",
    "def mod_inverse(e, phi):\n",
    "    '''Extended Euclidean Algorithm for modular inverse.'''\n",
    "    def egcd(a, b):\n",
    "        if a == 0:\n",
    "            return (b, 0, 1)\n",
    "        else:\n",
    "            g, y, x = egcd(b % a, a)\n",
    "            return (g, x - (b // a) * y, y)\n",
    "\n",
    "    g, x, y = egcd(e, phi)\n",
    "    if g != 1:\n",
    "        raise Exception('No modular inverse')\n",
    "    else:\n",
    "        return x % phi\n",
    "\n",
    "# Example\n",
    "phi = 40\n",
    "e = 3\n",
    "d = mod_inverse(e, phi)\n",
    "d"
   ]
  },
  {
   "cell_type": "markdown",
   "metadata": {},
   "source": [
    "### 2.2 RSA Key Generation (Toy Example)\n",
    "\n",
    "Steps:\n",
    "1. Choose two primes $p, q$.\n",
    "2. Compute $n = pq$.\n",
    "3. Compute $\\varphi(n) = (p-1)(q-1)$.\n",
    "4. Choose public exponent $e$.\n",
    "5. Compute private exponent $d$ as modular inverse of $e$ mod $\\varphi(n)$."
   ]
  },
  {
   "cell_type": "code",
   "execution_count": 7,
   "metadata": {},
   "outputs": [
    {
     "name": "stdout",
     "output_type": "stream",
     "text": [
      "Public key: (e=17, n=3233)\n",
      "Private key: (d=2753, n=3233)\n"
     ]
    }
   ],
   "source": [
    "p, q = 61, 53  # small primes for demonstration\n",
    "n = p * q\n",
    "phi = (p-1)*(q-1)\n",
    "e = 17  # public exponent\n",
    "d = mod_inverse(e, phi)\n",
    "\n",
    "print(f\"Public key: (e={e}, n={n})\")\n",
    "print(f\"Private key: (d={d}, n={n})\")"
   ]
  },
  {
   "cell_type": "markdown",
   "metadata": {},
   "source": [
    "### 2.3 RSA Encryption/Decryption (Toy Example)\n",
    "\n",
    "- Encryption: $C = M^e \\mod n$\n",
    "- Decryption: $M = C^d \\mod n$"
   ]
  },
  {
   "cell_type": "code",
   "execution_count": 8,
   "metadata": {},
   "outputs": [
    {
     "name": "stdout",
     "output_type": "stream",
     "text": [
      "Original message: 65\n",
      "Ciphertext: 2790\n",
      "Decrypted message: 65\n"
     ]
    }
   ],
   "source": [
    "M = 65  # message as integer\n",
    "C = pow(M, e, n)\n",
    "M_decrypted = pow(C, d, n)\n",
    "\n",
    "print(f\"Original message: {M}\")\n",
    "print(f\"Ciphertext: {C}\")\n",
    "print(f\"Decrypted message: {M_decrypted}\")"
   ]
  },
  {
   "cell_type": "markdown",
   "metadata": {},
   "source": [
    "### 2.4 Using Python’s Crypto Library\n",
    "\n",
    "We use **PyCryptodome** for practical RSA implementation."
   ]
  },
  {
   "cell_type": "code",
   "execution_count": 9,
   "metadata": {},
   "outputs": [
    {
     "name": "stdout",
     "output_type": "stream",
     "text": [
      "Ciphertext: b'ZuMi:\"\\x87E\\xb1\\xdaW\\r^\\x93H6/\\xe6CH' ...\n",
      "Decrypted: b'Hello RSA!'\n"
     ]
    }
   ],
   "source": [
    "from Crypto.PublicKey import RSA\n",
    "from Crypto.Cipher import PKCS1_OAEP\n",
    "\n",
    "# Generate RSA key pair\n",
    "key = RSA.generate(2048)\n",
    "public_key = key.publickey()\n",
    "\n",
    "# Encryption\n",
    "cipher = PKCS1_OAEP.new(public_key)\n",
    "message = b'Hello RSA!'\n",
    "ciphertext = cipher.encrypt(message)\n",
    "\n",
    "# Decryption\n",
    "decipher = PKCS1_OAEP.new(key)\n",
    "decrypted = decipher.decrypt(ciphertext)\n",
    "\n",
    "print(\"Ciphertext:\", ciphertext[:20], \"...\")\n",
    "print(\"Decrypted:\", decrypted)"
   ]
  },
  {
   "cell_type": "markdown",
   "metadata": {},
   "source": [
    "## 3. Exercises & Cryptanalysis\n",
    "\n",
    "1. Implement a **toy RSA example** with small primes by hand.\n",
    "2. Show that without the private key $d$, decryption requires factoring $n$.\n",
    "3. Explore why using a small $e$ (e.g., 3) can be insecure.\n",
    "4. Demonstrate that RSA is **deterministic** without padding.\n",
    "5. Explain why padding schemes (PKCS#1, OAEP) are essential."
   ]
  },
  {
   "cell_type": "markdown",
   "metadata": {},
   "source": [
    "## 4. Questions & Problems\n",
    "\n",
    "- Why is it infeasible to use RSA directly for large files?\n",
    "- Why is $e=65537$ commonly used?\n",
    "- What happens if $p$ and $q$ are too small or too close together?\n",
    "- Compare RSA’s security with symmetric algorithms (e.g., AES)."
   ]
  },
  {
   "cell_type": "markdown",
   "metadata": {},
   "source": [
    "## 5. Conclusions\n",
    "\n",
    "- RSA introduced the concept of **public-key cryptography**.\n",
    "- Its security relies on the difficulty of factoring.\n",
    "- In practice, RSA is used in combination with **padding** and symmetric cryptography.\n",
    "- Modern alternatives include **Elliptic Curve Cryptography (ECC)**."
   ]
  }
 ],
 "metadata": {
  "kernelspec": {
   "display_name": "Python 3",
   "language": "python",
   "name": "python3"
  },
  "language_info": {
   "codemirror_mode": {
    "name": "ipython",
    "version": 3
   },
   "file_extension": ".py",
   "mimetype": "text/x-python",
   "name": "python",
   "nbconvert_exporter": "python",
   "pygments_lexer": "ipython3",
   "version": "3.7.6"
  }
 },
 "nbformat": 4,
 "nbformat_minor": 5
}
