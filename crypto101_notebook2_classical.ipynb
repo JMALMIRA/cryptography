{
 "cells": [
  {
   "cell_type": "markdown",
   "metadata": {},
   "source": [
    "# 🔐 Crypto 101 – Notebook 2\n",
    "## 🏛️ Classical Ciphers: Vigenère, Frequency Analysis, and Attacks\n",
    "\n",
    "In this notebook, you'll explore:\n",
    "- The Vigenère cipher (a polyalphabetic cipher)\n",
    "- Weaknesses of classical ciphers\n",
    "- Frequency analysis and brute-force techniques\n"
   ]
  },
  {
   "cell_type": "markdown",
   "metadata": {},
   "source": [
    "## 🔁 Vigenère Cipher\n",
    "The Vigenère cipher uses a **keyword** to shift letters repeatedly.\n",
    "\n",
    "For example, using the keyword **\"KEY\"**:\n",
    "```\n",
    "Plaintext : A T T A C K A T D A W N\n",
    "Key       : K E Y K E Y K E Y K E Y\n",
    "Cipher    : K X N K G M K X H K A B\n",
    "```\n"
   ]
  },
  {
   "cell_type": "code",
   "execution_count": 1,
   "metadata": {},
   "outputs": [
    {
     "name": "stdout",
     "output_type": "stream",
     "text": [
      "Encrypted: KXRKGI ER HYGR\n",
      "Decrypted: ATTACK AT DAWN\n"
     ]
    }
   ],
   "source": [
    "# Vigenère Cipher Implementation\n",
    "def vigenere_encrypt(plaintext, keyword):\n",
    "    ciphertext = ''\n",
    "    keyword = keyword.upper()\n",
    "    k_len = len(keyword)\n",
    "    for i, char in enumerate(plaintext.upper()):\n",
    "        if char.isalpha():\n",
    "            shift = ord(keyword[i % k_len]) - ord('A')\n",
    "            encrypted = chr((ord(char) - ord('A') + shift) % 26 + ord('A'))\n",
    "            ciphertext += encrypted\n",
    "        else:\n",
    "            ciphertext += char\n",
    "    return ciphertext\n",
    "\n",
    "def vigenere_decrypt(ciphertext, keyword):\n",
    "    plaintext = ''\n",
    "    keyword = keyword.upper()\n",
    "    k_len = len(keyword)\n",
    "    for i, char in enumerate(ciphertext.upper()):\n",
    "        if char.isalpha():\n",
    "            shift = ord(keyword[i % k_len]) - ord('A')\n",
    "            decrypted = chr((ord(char) - ord('A') - shift) % 26 + ord('A'))\n",
    "            plaintext += decrypted\n",
    "        else:\n",
    "            plaintext += char\n",
    "    return plaintext\n",
    "\n",
    "# Example\n",
    "msg = \"ATTACK AT DAWN\"\n",
    "key = \"KEY\"\n",
    "cipher = vigenere_encrypt(msg, key)\n",
    "plain = vigenere_decrypt(cipher, key)\n",
    "\n",
    "print(\"Encrypted:\", cipher)\n",
    "print(\"Decrypted:\", plain)"
   ]
  },
  {
   "cell_type": "markdown",
   "metadata": {},
   "source": [
    "## 🕵️ Frequency Analysis (Caesar Only)\n",
    "English letters have predictable frequencies. Attackers use this to break ciphers.\n",
    "\n",
    "Try counting letter frequencies to guess the Caesar shift.\n"
   ]
  },
  {
   "cell_type": "code",
   "execution_count": 1,
   "metadata": {},
   "outputs": [
    {
     "name": "stdout",
     "output_type": "stream",
     "text": [
      "Encrypted: PHHW PH DW GDZQ\n",
      "Decrypted: MEET ME AT DAWN\n"
     ]
    }
   ],
   "source": [
    "# Caesar Cipher Implementation (Shift = 3)\n",
    "def caesar_encrypt(text, shift=3):\n",
    "    result = ''\n",
    "    for char in text.upper():\n",
    "        if char.isalpha():\n",
    "            shifted = (ord(char) - ord('A') + shift) % 26\n",
    "            result += chr(ord('A') + shifted)\n",
    "        else:\n",
    "            result += char\n",
    "    return result\n",
    "\n",
    "def caesar_decrypt(text, shift=3):\n",
    "    return caesar_encrypt(text, -shift)\n",
    "\n",
    "# Example\n",
    "message = \"MEET ME AT DAWN\"\n",
    "encrypted = caesar_encrypt(message)\n",
    "decrypted = caesar_decrypt(encrypted)\n",
    "\n",
    "print(\"Encrypted:\", encrypted)\n",
    "print(\"Decrypted:\", decrypted)"
   ]
  },
  {
   "cell_type": "code",
   "execution_count": 2,
   "metadata": {},
   "outputs": [
    {
     "name": "stdout",
     "output_type": "stream",
     "text": [
      "Encrypted: MJQQT BTWQI\n",
      "\n",
      "Attempting Caesar brute-force:\n",
      "Shift  1: LIPPS ASVPH\n",
      "Shift  2: KHOOR ZRUOG\n",
      "Shift  3: JGNNQ YQTNF\n",
      "Shift  4: IFMMP XPSME\n",
      "Shift  5: HELLO WORLD\n",
      "Shift  6: GDKKN VNQKC\n",
      "Shift  7: FCJJM UMPJB\n",
      "Shift  8: EBIIL TLOIA\n",
      "Shift  9: DAHHK SKNHZ\n",
      "Shift 10: CZGGJ RJMGY\n",
      "Shift 11: BYFFI QILFX\n",
      "Shift 12: AXEEH PHKEW\n",
      "Shift 13: ZWDDG OGJDV\n",
      "Shift 14: YVCCF NFICU\n",
      "Shift 15: XUBBE MEHBT\n",
      "Shift 16: WTAAD LDGAS\n",
      "Shift 17: VSZZC KCFZR\n",
      "Shift 18: URYYB JBEYQ\n",
      "Shift 19: TQXXA IADXP\n",
      "Shift 20: SPWWZ HZCWO\n",
      "Shift 21: ROVVY GYBVN\n",
      "Shift 22: QNUUX FXAUM\n",
      "Shift 23: PMTTW EWZTL\n",
      "Shift 24: OLSSV DVYSK\n",
      "Shift 25: NKRRU CUXRJ\n"
     ]
    }
   ],
   "source": [
    "from collections import Counter\n",
    "\n",
    "def caesar_brute_force(ciphertext):\n",
    "    print(\"\\nAttempting Caesar brute-force:\")\n",
    "    for shift in range(1, 26):\n",
    "        decrypted = ''.join(\n",
    "            chr((ord(c) - ord('A') - shift) % 26 + ord('A')) if c.isalpha() else c\n",
    "            for c in ciphertext.upper()\n",
    "        )\n",
    "        print(f\"Shift {shift:2}: {decrypted}\")\n",
    "\n",
    "# Try it\n",
    "example = caesar_encrypt(\"HELLO WORLD\", shift=5)\n",
    "print(\"Encrypted:\", example)\n",
    "caesar_brute_force(example)"
   ]
  },
  {
   "cell_type": "markdown",
   "metadata": {},
   "source": [
    "## 🧠 Challenge Exercise\n",
    "- Encrypt a secret phrase using Vigenère with a key of your choice\n",
    "- Try decrypting it without the key (brute force isn't trivial here)\n",
    "- Research Kasiski examination or frequency analysis for Vigenère\n"
   ]
  },
  {
   "cell_type": "markdown",
   "metadata": {},
   "source": [
    "## ✅ What’s Next\n",
    "In Notebook 3, we'll explore **modern symmetric cryptography**:\n",
    "- Why AES replaced these classical ciphers\n",
    "- How real encryption works using secure blocks and modes of operation\n"
   ]
  }
 ],
 "metadata": {
  "kernelspec": {
   "display_name": "Python 3",
   "language": "python",
   "name": "python3"
  },
  "language_info": {
   "codemirror_mode": {
    "name": "ipython",
    "version": 3
   },
   "file_extension": ".py",
   "mimetype": "text/x-python",
   "name": "python",
   "nbconvert_exporter": "python",
   "pygments_lexer": "ipython3",
   "version": "3.7.6"
  }
 },
 "nbformat": 4,
 "nbformat_minor": 5
}
