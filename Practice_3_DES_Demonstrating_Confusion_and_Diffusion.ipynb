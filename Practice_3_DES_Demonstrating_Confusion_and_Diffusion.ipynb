{
 "cells": [
  {
   "cell_type": "markdown",
   "metadata": {},
   "source": [
    "\n",
    "##  DES: Demonstrating Confusion and Diffusion\n",
    "\n",
    "This notebook demonstrates Shannon's concepts of *confusion* and *diffusion* using\n",
    "* The real DES algorithm (via `pycryptodome`) and\n",
    "* A didactic *manual* DES implementation (compact but faithful) so we can inspect\n",
    "     intermediate values (S-box outputs, P-box outputs, round outputs, etc.).\n",
    "\n",
    "It contains concrete avalanche tests (flip one plaintext bit / flip one key bit) and visualizations (bar charts, heatmaps, per-round growth) to illustrate how small changes spread across the 64-bit block.\n",
    "\n",
    "\n",
    "If `pycryptodome` is missing the notebook will try to install it automatically."
   ]
  },
  {
   "cell_type": "code",
   "execution_count": 1,
   "metadata": {},
   "outputs": [
    {
     "name": "stdout",
     "output_type": "stream",
     "text": [
      "Requirement already satisfied: pycryptodome in /opt/anaconda3/lib/python3.7/site-packages (3.23.0)\n",
      "\u001b[33mDEPRECATION: pyodbc 4.0.0-unsupported has a non-standard version number. pip 24.1 will enforce this behaviour change. A possible replacement is to upgrade to a newer version of pyodbc or contact the author to suggest that they release a version with a conforming version number. Discussion can be found at https://github.com/pypa/pip/issues/12063\u001b[0m\u001b[33m\n",
      "\u001b[0mNote: you may need to restart the kernel to use updated packages.\n"
     ]
    }
   ],
   "source": [
    "pip install pycryptodome"
   ]
  },
  {
   "cell_type": "code",
   "execution_count": 2,
   "metadata": {},
   "outputs": [],
   "source": [
    "# Basic imports\n",
    "import sys\n",
    "import subprocess\n",
    "import math\n",
    "import numpy as np\n",
    "import matplotlib.pyplot as plt\n",
    "from collections import Counter\n",
    "from Crypto.Cipher import DES\n",
    "from Crypto.Random import get_random_bytes"
   ]
  },
  {
   "cell_type": "code",
   "execution_count": 3,
   "metadata": {},
   "outputs": [],
   "source": [
    "# Auxiliar functions: bit conversions, hamming distance, pretty printing\n",
    "\n",
    "\n",
    "def bytes_to_bits(b: bytes) -> np.ndarray:\n",
    "    \"\"\"Return a numpy array of 0/1 of length 8*len(b).\n",
    "    Most-significant-bit first per byte.\"\"\"\n",
    "    bits = np.zeros(len(b) * 8, dtype=np.uint8)\n",
    "    for i, byte in enumerate(b):\n",
    "        for j in range(8):\n",
    "            bits[i*8 + j] = (byte >> (7 - j)) & 1\n",
    "    return bits\n",
    "\n",
    "\n",
    "def bits_to_bytes(bits: np.ndarray) -> bytes:\n",
    "    bits = np.array(bits, dtype=np.uint8).reshape(-1)\n",
    "    assert len(bits) % 8 == 0\n",
    "    out = bytearray(len(bits)//8)\n",
    "    for i in range(len(out)):\n",
    "        val = 0\n",
    "        for j in range(8):\n",
    "            val = (val << 1) | int(bits[i*8 + j])\n",
    "        out[i] = val\n",
    "    return bytes(out)\n",
    "\n",
    "\n",
    "def hamming_distance(a_bits: np.ndarray, b_bits: np.ndarray) -> int:\n",
    "    return int(np.sum(a_bits != b_bits))\n",
    "\n",
    "\n",
    "def percent_changed(a_bits: np.ndarray, b_bits: np.ndarray) -> float:\n",
    "    return 100.0 * hamming_distance(a_bits, b_bits) / len(a_bits)\n",
    "\n",
    "\n",
    "# small utility to flip one bit in bytes\n",
    "def flip_bit_in_bytes(b: bytes, bit_index: int) -> bytes:\n",
    "    bits = bytes_to_bits(b)\n",
    "    bits[bit_index] = 1 - bits[bit_index]\n",
    "    return bits_to_bytes(bits)\n",
    "\n",
    "# pretty binary print\n",
    "def bits_str(bits: np.ndarray) -> str:\n",
    "    return ''.join(str(int(x)) for x in bits)"
   ]
  },
  {
   "cell_type": "markdown",
   "metadata": {},
   "source": [
    "## Part A — Using `pycryptodome` DES (real implementation)\n",
    "\n",
    "\n",
    "We'll run avalanche tests using the real DES cipher. We use 8-byte keys (DES takes 64-bit keys), but note that 8 parity bits are present; `pycryptodome` uses the full 8 bytes as the key — we will keep one-bit flips to show the confusion.\n",
    "\n",
    "Simple function: DES encrypt a single 8-byte block with an 8-byte key"
   ]
  },
  {
   "cell_type": "code",
   "execution_count": 4,
   "metadata": {},
   "outputs": [
    {
     "name": "stdout",
     "output_type": "stream",
     "text": [
      "DES real: flipping each plaintext bit (one at a time) -> ciphertext Hamming distances:\n",
      "mean: 31.58, min: 24, max: 41\n"
     ]
    },
    {
     "data": {
      "image/png": "[encoded data removed]",
      "text/plain": [
       "<Figure size 720x288 with 1 Axes>"
      ]
     },
     "metadata": {
      "needs_background": "light"
     },
     "output_type": "display_data"
    }
   ],
   "source": [
    "def des_encrypt_block(key8: bytes, block8: bytes) -> bytes:\n",
    "    assert len(key8) == 8 and len(block8) == 8\n",
    "    cipher = DES.new(key8, DES.MODE_ECB)\n",
    "    return cipher.encrypt(block8)\n",
    "\n",
    "\n",
    "# Avalanche test: flip one bit in plaintext\n",
    "\n",
    "# %%\n",
    "# Set a fixed key and plaintext for reproducibility\n",
    "key = b\"\\x13\\x34\\x57\\x79\\x9b\\xbc\\xdf\\xf1\"  # classic DES test key\n",
    "plain = b\"\\x01\\x23\\x45\\x67\\x89\\xab\\xcd\\xef\"  # classic test vector\n",
    "\n",
    "ct0 = des_encrypt_block(key, plain)\n",
    "\n",
    "# Try flipping each plaintext bit one by one and record hamming distances\n",
    "n_bits = 64\n",
    "plain_bit_changes = np.zeros(n_bits, dtype=np.int32)\n",
    "for i in range(n_bits):\n",
    "    p2 = flip_bit_in_bytes(plain, i)\n",
    "    ct2 = des_encrypt_block(key, p2)\n",
    "    plain_bit_changes[i] = hamming_distance(bytes_to_bits(ct0), bytes_to_bits(ct2))\n",
    "\n",
    "print(\"DES real: flipping each plaintext bit (one at a time) -> ciphertext Hamming distances:\")\n",
    "print(\"mean: {:.2f}, min: {}, max: {}\".format(plain_bit_changes.mean(), plain_bit_changes.min(), plain_bit_changes.max()))\n",
    "\n",
    "# Plot histogram / bar chart\n",
    "plt.figure(figsize=(10,4))\n",
    "plt.bar(range(n_bits), plain_bit_changes)\n",
    "plt.xlabel('Plaintext bit flipped (index 0..63)')\n",
    "plt.ylabel('Hamming distance in ciphertext (bits)')\n",
    "plt.title('DES: effect on ciphertext when flipping a single plaintext bit')\n",
    "plt.axhline(32, color='k', linestyle='--', label='50% (32 bits)')\n",
    "plt.legend()\n",
    "plt.tight_layout()\n",
    "plt.show()"
   ]
  },
  {
   "cell_type": "markdown",
   "metadata": {},
   "source": [
    "So, bar at position 17 means:\n",
    "\n",
    "“When plaintext bit #17 was flipped, 31 bits in the ciphertext changed.”"
   ]
  },
  {
   "cell_type": "code",
   "execution_count": 5,
   "metadata": {},
   "outputs": [
    {
     "name": "stdout",
     "output_type": "stream",
     "text": [
      "DES real: flipping each key bit (one at a time) -> ciphertext Hamming distances:\n",
      "mean: 27.89, min: 0, max: 40\n"
     ]
    },
    {
     "data": {
      "image/png": "[encoded data removed]",
      "text/plain": [
       "<Figure size 720x288 with 1 Axes>"
      ]
     },
     "metadata": {
      "needs_background": "light"
     },
     "output_type": "display_data"
    }
   ],
   "source": [
    "# %% [markdown]\n",
    "# Avalanche test: flip one bit in the key (confusion)\n",
    "\n",
    "# %%\n",
    "key_bit_changes = np.zeros(n_bits, dtype=np.int32)\n",
    "for i in range(n_bits):\n",
    "    k2 = flip_bit_in_bytes(key, i)\n",
    "    ct2 = des_encrypt_block(k2, plain)\n",
    "    key_bit_changes[i] = hamming_distance(bytes_to_bits(ct0), bytes_to_bits(ct2))\n",
    "\n",
    "print(\"DES real: flipping each key bit (one at a time) -> ciphertext Hamming distances:\")\n",
    "print(\"mean: {:.2f}, min: {}, max: {}\".format(key_bit_changes.mean(), key_bit_changes.min(), key_bit_changes.max()))\n",
    "\n",
    "plt.figure(figsize=(10,4))\n",
    "plt.bar(range(n_bits), key_bit_changes)\n",
    "plt.xlabel('Key bit flipped (index 0..63)')\n",
    "plt.ylabel('Hamming distance in ciphertext (bits)')\n",
    "plt.title('DES: effect on ciphertext when flipping a single key bit')\n",
    "plt.axhline(32, color='k', linestyle='--', label='50% (32 bits)')\n",
    "plt.legend()\n",
    "plt.tight_layout()\n",
    "plt.show()\n",
    "\n",
    "# %% [markdown]\n",
    "# Statistical experiment: random keys/plaintexts — show distribution of avalanche\n",
    "# percentages when flipping one random plaintext bit (repeat many times)"
   ]
  },
  {
   "cell_type": "markdown",
   "metadata": {},
   "source": [
    "This plot has a similar meaning: You see how many bits are modiffied when each single bit of the key is modified. "
   ]
  },
  {
   "cell_type": "markdown",
   "metadata": {},
   "source": [
    "\n",
    "\n",
    "## Bit-by-Bit Avalanche Plot (Single Plaintext Test)\n",
    "\n",
    "In this experiment, we analyze **how each individual plaintext bit affects the ciphertext** when flipped. This directly tests **diffusion** in DES.\n",
    "\n",
    "###  What the experiment does\n",
    "\n",
    "1. Choose a **fixed plaintext** ( P ) and a **fixed key** ( K ).\n",
    "\n",
    "2. Encrypt to get the original ciphertext:\n",
    "   [\n",
    "   C = DES(P, K)\n",
    "   ]\n",
    "\n",
    "3. For each bit position ( i = 0 \\ldots 63 ):\n",
    "\n",
    "   * Flip only bit ( i ) in the plaintext → ( P_i )\n",
    "   * Encrypt again → ( C_i = DES(P_i, K) )\n",
    "   * Compute the **Hamming distance** between ( C ) and ( C_i )\n",
    "     (i.e., how many ciphertext bits changed)\n",
    "\n",
    "4. Store all 64 distances.\n",
    "\n",
    "5. Plot them as a **bar chart**, one bar per flipped plaintext bit.\n",
    "\n",
    "---\n",
    "\n",
    "###  What each bar means\n",
    "\n",
    "Each bar answers:\n",
    "\n",
    "> **“If I flip plaintext bit #i, how many ciphertext bits change?”**\n",
    "\n",
    "* X-axis = plaintext bit index (0 to 63)\n",
    "* Y-axis = number of ciphertext bits that changed (0 to 64)\n",
    "\n",
    "We also draw a **horizontal dashed line at 32 bits**, which represents the **ideal avalanche effect** (50% of 64 bits).\n",
    "\n",
    "---\n",
    "\n",
    "###  What we expect from a secure cipher\n",
    "\n",
    "In a cipher with strong **diffusion**:\n",
    "\n",
    "* Most bars should be **close to 32** (around half the bits change)\n",
    "* Few (or none) should be very low (e.g., < 15 bits changed)\n",
    "* Few (or none) should be very high (e.g., > 50 bits changed)\n",
    "* The pattern should look fairly **flat and consistent across all bits**\n",
    "\n",
    "Why?\n",
    "Because **every plaintext bit** should influence **many parts of the ciphertext**, not just a few specific bits.\n",
    "\n",
    "---\n",
    "\n",
    "###  What this plot tells us about DES\n",
    "\n",
    "If DES is working correctly:\n",
    "\n",
    "* Flipping any single plaintext bit results in **large, widespread changes** in the ciphertext.\n",
    "* No plaintext bit has a “special” or “weak” position.\n",
    "* The differences are roughly uniform across all 64 input bits.\n",
    "* This shows **excellent diffusion** — a key design goal of DES.\n",
    "\n",
    "---\n",
    "\n",
    "###  Why this test is useful\n",
    "\n",
    "This experiment reveals whether **each individual input bit** participates equally in the encryption process.\n",
    "\n",
    "If some bits produced very low changes consistently, that would indicate:\n",
    "\n",
    "* Poor mixing\n",
    "* Potential for statistical patterns to leak\n",
    "* A target for cryptanalysis\n",
    "\n",
    "But DES avoids this ― the plot shows that **every bit is powerful**.\n",
    "\n",
    "---\n",
    "\n",
    "###  In one sentence:\n",
    "\n",
    "**The bar chart shows how much the ciphertext changes when each individual plaintext bit is flipped; since nearly all bars are close to 32, DES demonstrates strong diffusion and the avalanche effect.**\n",
    "\n",
    "---\n",
    "\n",
    "\n"
   ]
  },
  {
   "cell_type": "code",
   "execution_count": 6,
   "metadata": {},
   "outputs": [
    {
     "name": "stdout",
     "output_type": "stream",
     "text": [
      "Plaintext flips: mean percent changed = 49.80% (std 6.22)\n",
      "Key flips: mean percent changed = 44.53% (std 17.24)\n"
     ]
    },
    {
     "data": {
      "image/png": "[encoded data removed]",
      "text/plain": [
       "<Figure size 720x288 with 1 Axes>"
      ]
     },
     "metadata": {
      "needs_background": "light"
     },
     "output_type": "display_data"
    }
   ],
   "source": [
    "import random\n",
    "\n",
    "def avalanche_experiment_real(num_trials=200, flip_key=False):\n",
    "    distances = []\n",
    "    for _ in range(num_trials):\n",
    "        key_r = get_random_bytes(8)\n",
    "        plain_r = get_random_bytes(8)\n",
    "        ct = des_encrypt_block(key_r, plain_r)\n",
    "        # flip a random plaintext bit or key bit\n",
    "        if not flip_key:\n",
    "            i = random.randrange(64)\n",
    "            plain_r2 = flip_bit_in_bytes(plain_r, i)\n",
    "            ct2 = des_encrypt_block(key_r, plain_r2)\n",
    "        else:\n",
    "            i = random.randrange(64)\n",
    "            key_r2 = flip_bit_in_bytes(key_r, i)\n",
    "            ct2 = des_encrypt_block(key_r2, plain_r)\n",
    "        distances.append(percent_changed(bytes_to_bits(ct), bytes_to_bits(ct2)))\n",
    "    return np.array(distances)\n",
    "\n",
    "# Run experiments\n",
    "plain_flip_stats = avalanche_experiment_real(300, flip_key=False)\n",
    "key_flip_stats = avalanche_experiment_real(300, flip_key=True)\n",
    "\n",
    "print(\"Plaintext flips: mean percent changed = {:.2f}% (std {:.2f})\".format(plain_flip_stats.mean(), plain_flip_stats.std()))\n",
    "print(\"Key flips: mean percent changed = {:.2f}% (std {:.2f})\".format(key_flip_stats.mean(), key_flip_stats.std()))\n",
    "\n",
    "plt.figure(figsize=(10,4))\n",
    "plt.hist(plain_flip_stats, bins=20, alpha=0.6, label='plaintext bit flips')\n",
    "plt.hist(key_flip_stats, bins=20, alpha=0.6, label='key bit flips')\n",
    "plt.axvline(50, color='k', linestyle='--')\n",
    "plt.xlabel('Percent of ciphertext bits changed')\n",
    "plt.ylabel('Frequency')\n",
    "plt.title('Distribution of avalanche effect (DES real)')\n",
    "plt.legend()\n",
    "plt.tight_layout()\n",
    "plt.show()"
   ]
  },
  {
   "cell_type": "markdown",
   "metadata": {},
   "source": [
    "\n",
    "\n",
    "---\n",
    "\n",
    "## Understanding the Manual DES Plots (Per-Round Diffusion & S-box Micro-Examples)\n",
    "\n",
    "This part of the notebook uses a **manual, didactic DES implementation** to illustrate how **confusion and diffusion** arise inside the cipher. Unlike the black-box `pycryptodome` implementation, the manual version allows us to **inspect internal states** at every round.\n",
    "\n",
    "---\n",
    "\n",
    "### Per-Round Diffusion Plot\n",
    "\n",
    "* **Plot:** Hamming distance of `(L||R)` states per round when flipping **one plaintext bit**.\n",
    "* **X-axis:** Round number (1 to 16)\n",
    "* **Y-axis:** Hamming distance between baseline and modified internal state (0 to 64 bits)\n",
    "\n",
    "**Interpretation:**\n",
    "\n",
    "* In early rounds, only a few bits differ.\n",
    "* As rounds progress, differences propagate across the block → avalanche effect grows.\n",
    "* By round 16, a single-bit change typically affects **almost all 64 bits**.\n",
    "* This demonstrates **diffusion**: a small input change spreads throughout the ciphertext over successive rounds.\n",
    "\n",
    "---\n",
    "\n",
    "### Round-1 Internals (Confusion vs Diffusion)\n",
    "\n",
    "* **Shown values:**\n",
    "\n",
    "  * `E(R)` → expanded 32-bit half-block\n",
    "  * XOR with subkey → input to S-boxes\n",
    "  * S-box output → 32-bit non-linear substitution\n",
    "  * P-permutation → final round output\n",
    "\n",
    "**Interpretation:**\n",
    "\n",
    "* The S-boxes introduce **non-linearity** → a tiny input change drastically alters output bits → **confusion**\n",
    "* The P-permutation and expansion mix bits across the block → contributes to **diffusion**\n",
    "* Observing Hamming distance in `f(R,K)` between baseline and flipped input illustrates **how a 1-bit change rapidly multiplies** inside a single round.\n",
    "\n",
    "---\n",
    "\n",
    "### S-box Micro-Example\n",
    "\n",
    "* **Purpose:** Show how flipping **1 bit in the 6-bit S-box input** can change **multiple output bits**.\n",
    "* **Observation:** Even the smallest input difference (1 bit) can produce 1–4 output bits flipped.\n",
    "* This highlights **non-linear confusion**, making it difficult to relate ciphertext to plaintext or key.\n",
    "\n",
    "---\n",
    "\n",
    "### Heatmap of Ciphertext Differences\n",
    "\n",
    "* **Plot:** 8×8 grid representing each plaintext bit (bit 0 → row 0, col 0; …; bit 63 → row 7, col 7)\n",
    "* **Color:** Hamming distance of ciphertext bits when that plaintext bit is flipped\n",
    "* **Interpretation:**\n",
    "\n",
    "  * Visualizes **diffusion across the block**: all plaintext bits influence ciphertext uniformly\n",
    "  * Confirms that no bit has a privileged position → strong avalanche effect\n",
    "  * Easy to see the statistical **stability of the avalanche effect**\n",
    "\n",
    "---\n",
    "\n",
    "### Final comments\n",
    "\n",
    "* **Manual inspection** helps distinguish the roles of:\n",
    "\n",
    "  * **Confusion:** S-boxes make the mapping from input/key to output highly non-linear\n",
    "  * **Diffusion:** P-permutation and expansion spread changes throughout the block\n",
    "* By stepping through rounds, students can **observe how single-bit changes propagate** and understand why DES achieves strong avalanche behavior\n",
    "* Can extend experiments:\n",
    "\n",
    "  * Flip key bits and track per-round propagation\n",
    "  * Compare different keys and plaintexts\n",
    "  * Explore reduced-round DES to see weaker diffusion\n",
    "\n",
    "---\n",
    "\n",
    "### Summary\n",
    "\n",
    "These plots and tables collectively demonstrate Shannon’s principles:\n",
    "\n",
    "1. **Diffusion:** a single bit change in plaintext spreads across many ciphertext bits over rounds.\n",
    "2. **Confusion:** non-linear S-boxes make ciphertext highly sensitive to both plaintext and key bits.\n",
    "3. **Avalanche Effect:** after 16 rounds, a single-bit change typically flips roughly half of the ciphertext bits, providing cryptographic strength.\n",
    "\n",
    "---\n",
    "\n",
    "This Markdown clearly explains all the visualizations from the manual DES section and ties them to the concepts of **confusion, diffusion, and avalanche effect**.\n"
   ]
  },
  {
   "cell_type": "markdown",
   "metadata": {},
   "source": [
    "\n",
    "## Manual (didactic) DES implementation (compact)\n",
    "\n",
    "The purpose of the manual implementation is *not* performance but visibility: we'll implement the important parts: IP, expansion E, S-boxes, P-permutation, key schedule (PC-1 / shifts / PC-2), and the Feistel rounds. This lets us print intermediate values inside the round function to illustrate confusion/diffusion."
   ]
  },
  {
   "cell_type": "code",
   "execution_count": 7,
   "metadata": {},
   "outputs": [],
   "source": [
    "\n",
    "# Standard DES tables (IP, FP, E, S-boxes, P, PC-1, PC-2, shifts)\n",
    "IP = [58, 50, 42, 34, 26, 18, 10, 2,\n",
    "      60, 52, 44, 36, 28, 20, 12, 4,\n",
    "      62, 54, 46, 38, 30, 22, 14, 6,\n",
    "      64, 56, 48, 40, 32, 24, 16, 8,\n",
    "      57, 49, 41, 33, 25, 17, 9, 1,\n",
    "      59, 51, 43, 35, 27, 19, 11, 3,\n",
    "      61, 53, 45, 37, 29, 21, 13, 5,\n",
    "      63, 55, 47, 39, 31, 23, 15, 7]\n",
    "FP = [40, 8, 48, 16, 56, 24, 64, 32,\n",
    "      39, 7, 47, 15, 55, 23, 63, 31,\n",
    "      38, 6, 46, 14, 54, 22, 62, 30,\n",
    "      37, 5, 45, 13, 53, 21, 61, 29,\n",
    "      36, 4, 44, 12, 52, 20, 60, 28,\n",
    "      35, 3, 43, 11, 51, 19, 59, 27,\n",
    "      34, 2, 42, 10, 50, 18, 58, 26,\n",
    "      33, 1, 41, 9, 49, 17, 57, 25]\n",
    "E = [32, 1, 2, 3, 4, 5,\n",
    "     4, 5, 6, 7, 8, 9,\n",
    "     8, 9, 10, 11, 12, 13,\n",
    "     12, 13, 14, 15, 16, 17,\n",
    "     16, 17, 18, 19, 20, 21,\n",
    "     20, 21, 22, 23, 24, 25,\n",
    "     24, 25, 26, 27, 28, 29,\n",
    "     28, 29, 30, 31, 32, 1]\n",
    "\n",
    "S_boxes = [\n",
    "    # S1\n",
    "    [\n",
    "        [14,4,13,1,2,15,11,8,3,10,6,12,5,9,0,7],\n",
    "        [0,15,7,4,14,2,13,1,10,6,12,11,9,5,3,8],\n",
    "        [4,1,14,8,13,6,2,11,15,12,9,7,3,10,5,0],\n",
    "        [15,12,8,2,4,9,1,7,5,11,3,14,10,0,6,13]\n",
    "    ],\n",
    "    # S2\n",
    "    [\n",
    "        [15,1,8,14,6,11,3,4,9,7,2,13,12,0,5,10],\n",
    "        [3,13,4,7,15,2,8,14,12,0,1,10,6,9,11,5],\n",
    "        [0,14,7,11,10,4,13,1,5,8,12,6,9,3,2,15],\n",
    "        [13,8,10,1,3,15,4,2,11,6,7,12,0,5,14,9]\n",
    "    ],\n",
    "    # S3\n",
    "    [\n",
    "        [10,0,9,14,6,3,15,5,1,13,12,7,11,4,2,8],\n",
    "        [13,7,0,9,3,4,6,10,2,8,5,14,12,11,15,1],\n",
    "        [13,6,4,9,8,15,3,0,11,1,2,12,5,10,14,7],\n",
    "        [1,10,13,0,6,9,8,7,4,15,14,3,11,5,2,12]\n",
    "    ],\n",
    "    # S4\n",
    "    [\n",
    "        [7,13,14,3,0,6,9,10,1,2,8,5,11,12,4,15],\n",
    "        [13,8,11,5,6,15,0,3,4,7,2,12,1,10,14,9],\n",
    "        [10,6,9,0,12,11,7,13,15,1,3,14,5,2,8,4],\n",
    "        [3,15,0,6,10,1,13,8,9,4,5,11,12,7,2,14]\n",
    "    ],\n",
    "    # S5\n",
    "    [\n",
    "        [2,12,4,1,7,10,11,6,8,5,3,15,13,0,14,9],\n",
    "        [14,11,2,12,4,7,13,1,5,0,15,10,3,9,8,6],\n",
    "        [4,2,1,11,10,13,7,8,15,9,12,5,6,3,0,14],\n",
    "        [11,8,12,7,1,14,2,13,6,15,0,9,10,4,5,3]\n",
    "    ],\n",
    "    # S6\n",
    "    [\n",
    "        [12,1,10,15,9,2,6,8,0,13,3,4,14,7,5,11],\n",
    "        [10,15,4,2,7,12,9,5,6,1,13,14,0,11,3,8],\n",
    "        [9,14,15,5,2,8,12,3,7,0,4,10,1,13,11,6],\n",
    "        [4,3,2,12,9,5,15,10,11,14,1,7,6,0,8,13]\n",
    "    ],\n",
    "    # S7\n",
    "    [\n",
    "        [4,11,2,14,15,0,8,13,3,12,9,7,5,10,6,1],\n",
    "        [13,0,11,7,4,9,1,10,14,3,5,12,2,15,8,6],\n",
    "        [1,4,11,13,12,3,7,14,10,15,6,8,0,5,9,2],\n",
    "        [6,11,13,8,1,4,10,7,9,5,0,15,14,2,3,12]\n",
    "    ],\n",
    "    # S8\n",
    "    [\n",
    "        [13,2,8,4,6,15,11,1,10,9,3,14,5,0,12,7],\n",
    "        [1,15,13,8,10,3,7,4,12,5,6,11,0,14,9,2],\n",
    "        [7,11,4,1,9,12,14,2,0,6,10,13,15,3,5,8],\n",
    "        [2,1,14,7,4,10,8,13,15,12,9,0,3,5,6,11]\n",
    "    ]\n",
    "]\n",
    "\n",
    "P = [16,7,20,21,29,12,28,17,\n",
    "     1,15,23,26,5,18,31,10,\n",
    "     2,8,24,14,32,27,3,9,\n",
    "     19,13,30,6,22,11,4,25]\n",
    "\n",
    "PC1 = [57,49,41,33,25,17,9,\n",
    "       1,58,50,42,34,26,18,\n",
    "       10,2,59,51,43,35,27,\n",
    "       19,11,3,60,52,44,36,\n",
    "       63,55,47,39,31,23,15,\n",
    "       7,62,54,46,38,30,22,\n",
    "       14,6,61,53,45,37,29,\n",
    "       21,13,5,28,20,12,4]\n",
    "\n",
    "PC2 = [14,17,11,24,1,5,\n",
    "       3,28,15,6,21,10,\n",
    "       23,19,12,4,26,8,\n",
    "       16,7,27,20,13,2,\n",
    "       41,52,31,37,47,55,\n",
    "       30,40,51,45,33,48,\n",
    "       44,49,39,56,34,53,\n",
    "       46,42,50,36,29,32]\n",
    "\n",
    "# number of left shifts per round\n",
    "SHIFTS = [1, 1, 2, 2, 2, 2, 2, 2,\n",
    "          1, 2, 2, 2, 2, 2, 2, 1]\n",
    "\n",
    "# Auxiliar permutation function (1-indexed table)\n",
    "def permute(bits: np.ndarray, table: list) -> np.ndarray:\n",
    "    # bits is numpy array of 0/1, 1-indexed positions in table\n",
    "    out = np.zeros(len(table), dtype=np.uint8)\n",
    "    for i, pos in enumerate(table):\n",
    "        out[i] = bits[pos-1]\n",
    "    return out\n",
    "\n",
    "# left rotate for key halves\n",
    "\n",
    "def left_rotate(bits: np.ndarray, n: int) -> np.ndarray:\n",
    "    return np.concatenate([bits[n:], bits[:n]])"
   ]
  },
  {
   "cell_type": "markdown",
   "metadata": {},
   "source": [
    "\n",
    "\n",
    "### Build the DES key schedule (16 subkeys of 48 bits):\n"
   ]
  },
  {
   "cell_type": "code",
   "execution_count": 8,
   "metadata": {},
   "outputs": [],
   "source": [
    "def key_schedule_48(key8: bytes) -> list:\n",
    "    bits = bytes_to_bits(key8)\n",
    "    # apply PC-1\n",
    "    perm = permute(bits, PC1)\n",
    "    C = perm[:28].copy()\n",
    "    D = perm[28:].copy()\n",
    "    subkeys = []\n",
    "    for shift in SHIFTS:\n",
    "        C = left_rotate(C, shift)\n",
    "        D = left_rotate(D, shift)\n",
    "        CD = np.concatenate([C, D])\n",
    "        subk = permute(CD, PC2)\n",
    "        subkeys.append(subk)\n",
    "    return subkeys"
   ]
  },
  {
   "cell_type": "markdown",
   "metadata": {},
   "source": [
    "\n",
    "### The Feistel round function f(R, K): Expand, XOR, S-boxes, P-permute\n"
   ]
  },
  {
   "cell_type": "code",
   "execution_count": 9,
   "metadata": {},
   "outputs": [],
   "source": [
    "def sbox_substitution(bits48: np.ndarray) -> np.ndarray:\n",
    "    out = np.zeros(32, dtype=np.uint8)\n",
    "    for i in range(8):\n",
    "        block6 = bits48[i*6:(i+1)*6]\n",
    "        row = (block6[0] << 1) | block6[5]\n",
    "        col = (block6[1] << 3) | (block6[2] << 2) | (block6[3] << 1) | block6[4]\n",
    "        val = S_boxes[i][row][col]\n",
    "        for j in range(4):\n",
    "            out[i*4 + (3-j)] = (val >> j) & 1\n",
    "    return out\n",
    "\n",
    "\n",
    "def feistel_f(R32: np.ndarray, K48: np.ndarray, debug=False):\n",
    "    # Expand\n",
    "    E_R = permute(R32, E)\n",
    "    if debug:\n",
    "        print('E(R):', bits_str(E_R))\n",
    "    # XOR with subkey\n",
    "    x = np.bitwise_xor(E_R, K48)\n",
    "    if debug:\n",
    "        print('E(R) XOR K:', bits_str(x))\n",
    "    # S-box substitution\n",
    "    s_out = sbox_substitution(x)\n",
    "    if debug:\n",
    "        print('S-box output (32 bits):', bits_str(s_out))\n",
    "    # P-permutation\n",
    "    p_out = permute(s_out, P)\n",
    "    if debug:\n",
    "        print('P-permutation:', bits_str(p_out))\n",
    "    return p_out"
   ]
  },
  {
   "cell_type": "markdown",
   "metadata": {},
   "source": [
    "\n",
    "### Full DES encrypt (manual) for one 64-bit block\n",
    "\n"
   ]
  },
  {
   "cell_type": "code",
   "execution_count": 10,
   "metadata": {},
   "outputs": [
    {
     "name": "stdout",
     "output_type": "stream",
     "text": [
      "Manual DES matches pycryptodome reference? True\n"
     ]
    }
   ],
   "source": [
    "def des_encrypt_manual(key8: bytes, block8: bytes, debug_round=None):\n",
    "    # returns ciphertext bytes and, optionally, per-round trace if debug_round is not None\n",
    "    bits = bytes_to_bits(block8)\n",
    "    ip = permute(bits, IP)\n",
    "    L = ip[:32].copy()\n",
    "    R = ip[32:].copy()\n",
    "    subkeys = key_schedule_48(key8)\n",
    "    traces = []\n",
    "    for r in range(16):\n",
    "        K = subkeys[r]\n",
    "        f_out = feistel_f(R, K, debug=(debug_round==r+1))\n",
    "        newL = R.copy()\n",
    "        newR = np.bitwise_xor(L, f_out)\n",
    "        L, R = newL, newR\n",
    "        traces.append({'round': r+1, 'L': L.copy(), 'R': R.copy(), 'f': f_out.copy(), 'K': K.copy()})\n",
    "    preout = np.concatenate([R, L])\n",
    "    cipher_bits = permute(preout, FP)\n",
    "    return bits_to_bytes(cipher_bits), traces\n",
    "\n",
    "# Quick check: encryption should match pycryptodome for the test vector\n",
    "manual_ct, _ = des_encrypt_manual(key, plain)\n",
    "ct_ref = des_encrypt_block(key, plain)\n",
    "print('Manual DES matches pycryptodome reference?', manual_ct == ct_ref)"
   ]
  },
  {
   "cell_type": "markdown",
   "metadata": {},
   "source": [
    "\n",
    "### Use the manual implementation to inspect how single-bit changes propagate across rounds\n",
    "\n"
   ]
  },
  {
   "cell_type": "code",
   "execution_count": 11,
   "metadata": {},
   "outputs": [
    {
     "data": {
      "image/png": "[encoded data removed]",
      "text/plain": [
       "<Figure size 576x288 with 1 Axes>"
      ]
     },
     "metadata": {
      "needs_background": "light"
     },
     "output_type": "display_data"
    }
   ],
   "source": [
    "# %%\n",
    "# Pick a key and plaintext and show per-round Hamming distances when flipping one plaintext bit\n",
    "key_demo = key\n",
    "plain_demo = plain\n",
    "\n",
    "# baseline per-round results\n",
    "_, traces_base = des_encrypt_manual(key_demo, plain_demo)\n",
    "\n",
    "# flip a single plaintext bit (choose bit index 0 for demonstration)\n",
    "plain_flip = flip_bit_in_bytes(plain_demo, 0)\n",
    "_, traces_flip = des_encrypt_manual(key_demo, plain_flip)\n",
    "\n",
    "# compute per-round Hamming distances between (L||R) states\n",
    "per_round_hd = []\n",
    "for r in range(16):\n",
    "    bits_base = np.concatenate([traces_base[r]['L'], traces_base[r]['R']])\n",
    "    bits_flip = np.concatenate([traces_flip[r]['L'], traces_flip[r]['R']])\n",
    "    per_round_hd.append(hamming_distance(bits_base, bits_flip))\n",
    "\n",
    "plt.figure(figsize=(8,4))\n",
    "plt.plot(range(1,17), per_round_hd, marker='o')\n",
    "plt.xlabel('Round')\n",
    "plt.ylabel('Hamming distance in internal state (bits out of 64)')\n",
    "plt.title('Per-round diffusion: flip one plaintext bit')\n",
    "plt.grid(True)\n",
    "plt.tight_layout()\n",
    "plt.show()"
   ]
  },
  {
   "cell_type": "code",
   "execution_count": 15,
   "metadata": {},
   "outputs": [
    {
     "name": "stdout",
     "output_type": "stream",
     "text": [
      "=== Round 1 baseline ===\n",
      "L (before): 11110000101010101111000010101010\n",
      "R (before): 11101111010010100110010101000100\n",
      "Subkey K: 000110110000001011101111111111000111000001110010\n",
      "f(R,K): 00100011010010101010100110111011\n",
      "\n",
      "=== Round 1 with plaintext bit flipped ===\n",
      "L (before): 11110001101010101111000010101010\n",
      "R (before): 11101011010000110110010001010000\n",
      "Subkey K (same): 000110110000001011101111111111000111000001110010\n",
      "f(R,K): 00100111010000111010100010101111\n",
      "\n",
      "Hamming distance in f(R,K) between baseline and flipped input: 6\n"
     ]
    }
   ],
   "source": [
    "\n",
    "# Inspect round 1 internals to highlight *confusion* vs *diffusion*:\n",
    "# - show expansion E(R), XOR with subkey, S-box outputs, P permutation, and resulting new R\n",
    "\n",
    "# %%\n",
    "round_to_inspect = 1\n",
    "print('=== Round', round_to_inspect, 'baseline ===')\n",
    "print('L (before):', bits_str(traces_base[0]['L']))\n",
    "print('R (before):', bits_str(traces_base[0]['R']))\n",
    "print('Subkey K:', bits_str(traces_base[0]['K']))\n",
    "print('f(R,K):', bits_str(traces_base[0]['f']))\n",
    "print('\\n=== Round', round_to_inspect, 'with plaintext bit flipped ===')\n",
    "print('L (before):', bits_str(traces_flip[0]['L']))\n",
    "print('R (before):', bits_str(traces_flip[0]['R']))\n",
    "print('Subkey K (same):', bits_str(traces_flip[0]['K']))\n",
    "print('f(R,K):', bits_str(traces_flip[0]['f']))\n",
    "\n",
    "print('\\nHamming distance in f(R,K) between baseline and flipped input:', hamming_distance(traces_base[0]['f'], traces_flip[0]['f']))\n",
    "\n"
   ]
  },
  {
   "cell_type": "code",
   "execution_count": 16,
   "metadata": {},
   "outputs": [
    {
     "name": "stdout",
     "output_type": "stream",
     "text": [
      "S-box #1 input A: 000000 -> 1110\n",
      "S-box #1 input B: 001000 -> 0010\n",
      "Hamming distance between outputs: 2\n"
     ]
    }
   ],
   "source": [
    "# %% [markdown]\n",
    "# S-box micro-example: show how a 1-bit change to a 6-bit input of an S-box can change the 4-bit output\n",
    "\n",
    "# %%\n",
    "# pick S-box 1, input 6-bit patterns that differ by 1 bit\n",
    "sbox_idx = 0\n",
    "input_a = np.array([0,0,0,0,0,0], dtype=np.uint8)\n",
    "# flip bit 2 (indexing 0..5)\n",
    "input_b = input_a.copy(); input_b[2] = 1\n",
    "\n",
    "row_a = (input_a[0] << 1) | input_a[5]\n",
    "col_a = (input_a[1] << 3) | (input_a[2] << 2) | (input_a[3] << 1) | input_a[4]\n",
    "val_a = S_boxes[sbox_idx][row_a][col_a]\n",
    "row_b = (input_b[0] << 1) | input_b[5]\n",
    "col_b = (input_b[1] << 3) | (input_b[2] << 2) | (input_b[3] << 1) | input_b[4]\n",
    "val_b = S_boxes[sbox_idx][row_b][col_b]\n",
    "\n",
    "print('S-box #1 input A:', bits_str(input_a), '->', format(val_a, '04b'))\n",
    "print('S-box #1 input B:', bits_str(input_b), '->', format(val_b, '04b'))\n",
    "print('Hamming distance between outputs:', bin(val_a ^ val_b).count('1'))"
   ]
  },
  {
   "cell_type": "code",
   "execution_count": 17,
   "metadata": {},
   "outputs": [
    {
     "data": {
      "image/png": "[encoded data removed]",
      "text/plain": [
       "<Figure size 432x360 with 2 Axes>"
      ]
     },
     "metadata": {
      "needs_background": "light"
     },
     "output_type": "display_data"
    }
   ],
   "source": [
    "\n",
    "\n",
    "\n",
    "\n",
    "# %% [markdown]\n",
    "# Visual summary: heatmap of ciphertext differences when flipping each plaintext bit\n",
    "\n",
    "# %%\n",
    "# Build a 8x8 heatmap matrix where row*8+col is plaintext bit flipped index\n",
    "ct_bits_baseline = bytes_to_bits(des_encrypt_block(key, plain))\n",
    "heat = np.zeros((8,8), dtype=np.uint8)\n",
    "for i in range(64):\n",
    "    p2 = flip_bit_in_bytes(plain, i)\n",
    "    ct2 = des_encrypt_block(key, p2)\n",
    "    hd = hamming_distance(ct_bits_baseline, bytes_to_bits(ct2))\n",
    "    heat[i//8, i%8] = hd\n",
    "\n",
    "plt.figure(figsize=(6,5))\n",
    "plt.imshow(heat, interpolation='nearest')\n",
    "plt.colorbar(label='Hamming dist. in ciphertext bits (out of 64)')\n",
    "plt.title('Heatmap: ciphertext Hamming distance when flipping plaintext bit (DES real)')\n",
    "plt.xlabel('bit index mod 8')\n",
    "plt.ylabel('bit index // 8')\n",
    "plt.tight_layout()\n",
    "plt.show()\n"
   ]
  },
  {
   "cell_type": "code",
   "execution_count": null,
   "metadata": {},
   "outputs": [],
   "source": []
  }
 ],
 "metadata": {
  "kernelspec": {
   "display_name": "Python 3",
   "language": "python",
   "name": "python3"
  },
  "language_info": {
   "codemirror_mode": {
    "name": "ipython",
    "version": 3
   },
   "file_extension": ".py",
   "mimetype": "text/x-python",
   "name": "python",
   "nbconvert_exporter": "python",
   "pygments_lexer": "ipython3",
   "version": "3.7.6"
  }
 },
 "nbformat": 4,
 "nbformat_minor": 4
}
