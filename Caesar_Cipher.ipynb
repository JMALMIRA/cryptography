{
 "cells": [
  {
   "cell_type": "code",
   "execution_count": 5,
   "metadata": {},
   "outputs": [
    {
     "name": "stdout",
     "output_type": "stream",
     "text": [
      "Requirement already satisfied: cryptography in /opt/anaconda3/lib/python3.7/site-packages (2.8)\n",
      "Requirement already satisfied: six>=1.4.1 in /opt/anaconda3/lib/python3.7/site-packages (from cryptography) (1.14.0)\n",
      "Requirement already satisfied: cffi!=1.11.3,>=1.8 in /opt/anaconda3/lib/python3.7/site-packages (from cryptography) (1.14.0)\n",
      "Requirement already satisfied: pycparser in /opt/anaconda3/lib/python3.7/site-packages (from cffi!=1.11.3,>=1.8->cryptography) (2.19)\n",
      "\u001b[33mDEPRECATION: pyodbc 4.0.0-unsupported has a non-standard version number. pip 24.1 will enforce this behaviour change. A possible replacement is to upgrade to a newer version of pyodbc or contact the author to suggest that they release a version with a conforming version number. Discussion can be found at https://github.com/pypa/pip/issues/12063\u001b[0m\u001b[33m\n",
      "\u001b[0mNote: you may need to restart the kernel to use updated packages.\n"
     ]
    }
   ],
   "source": [
    "pip install cryptography"
   ]
  },
  {
   "cell_type": "code",
   "execution_count": 8,
   "metadata": {},
   "outputs": [
    {
     "name": "stdout",
     "output_type": "stream",
     "text": [
      "The cipher text is:  tneitap eb dna yad yreve yduts :ecivda ym si siht\n"
     ]
    }
   ],
   "source": [
    "message = 'this is my advice: study every day and be patient'\n",
    "translated = '' #cipher text is stored in this variable\n",
    "i = len(message) - 1\n",
    "while i >= 0:\n",
    "   translated = translated + message[i]\n",
    "   i = i - 1\n",
    "print(\"The cipher text is: \", translated)"
   ]
  },
  {
   "cell_type": "code",
   "execution_count": 9,
   "metadata": {},
   "outputs": [
    {
     "name": "stdout",
     "output_type": "stream",
     "text": [
      "Plain Text : CEASER CIPHER DEMO\n",
      "Shift pattern : 4\n",
      "Cipher: GIEWIVrGMTLIVrHIQS\n"
     ]
    },
    {
     "data": {
      "text/plain": [
       "'GIEWIVrGMTLIVrHIQS'"
      ]
     },
     "execution_count": 9,
     "metadata": {},
     "output_type": "execute_result"
    }
   ],
   "source": [
    "def encrypt(text,s):\n",
    "    result = \"\"\n",
    "    # transverse the plain text\n",
    "    for i in range(len(text)):\n",
    "      char = text[i]\n",
    "      # Encrypt uppercase characters in plain text\n",
    "      \n",
    "      if (char.isupper()):\n",
    "         result += chr((ord(char) + s-65) % 26 + 65)\n",
    "      # Encrypt lowercase characters in plain text\n",
    "      else:\n",
    "         result += chr((ord(char) + s - 97) % 26 + 97)\n",
    "    return result\n",
    "#check the above function\n",
    "text = \"CEASER CIPHER DEMO\"\n",
    "s = 4\n",
    "\n",
    "print(\"Plain Text : \" + text)\n",
    "print(\"Shift pattern : \" + str(s))\n",
    "print(\"Cipher: \" + encrypt(text,s))\n",
    "\n",
    "encrypt(text,s)"
   ]
  },
  {
   "cell_type": "code",
   "execution_count": 10,
   "metadata": {},
   "outputs": [
    {
     "name": "stdout",
     "output_type": "stream",
     "text": [
      "[?] Please Enter your text/message: this is my advice: study every day and be patient\n",
      "[?] Please specify the shift length: 7\n",
      "[+] this is my advice: study every day and be patient has been encrypted as aopz pz tf hkcpjl: zabkf lclyf khf huk il whaplua\n"
     ]
    }
   ],
   "source": [
    "import sys  # The sys module for system-related operations.\n",
    "from colorama import Fore, init  # Import the colorama for colored text\n",
    "\n",
    "init()  # Initialize the colorama library for colored text.\n",
    "\n",
    "\n",
    "def implement_caesar_cipher(message, key, decrypt=False):\n",
    "    # Initialize an empty string to store the result.\n",
    "    result = \"\"\n",
    "    # Iterate through each character in the user's input message.\n",
    "    for character in message:\n",
    "        # Check if the character is an alphabet letter.\n",
    "        if character.isalpha():\n",
    "            # Determine the shift amount based. i.e the amount of times to be shifted e.g 2,3,4....\n",
    "            shift = key if not decrypt else -key\n",
    "            # Check if the character is a lowercase letter.\n",
    "            if character.islower():\n",
    "                # Apply Caesar cipher transformation for lowercase letters.\n",
    "                result += chr(((ord(character) - ord('a') + shift) % 26) + ord('a'))\n",
    "            else:\n",
    "                # Apply Caesar cipher transformation for uppercase letters.\n",
    "                result += chr(((ord(character) - ord('A') + shift) % 26) + ord('A'))\n",
    "        else:\n",
    "            # Preserve non-alphabet characters as they are.\n",
    "            result += character\n",
    "    return result  # Return the encrypted or decrypted result.\n",
    "\n",
    "\n",
    "# Prompt the user to enter the text to be encrypted\n",
    "text_to_encrypt = input(f\"{Fore.GREEN}[?] Please Enter your text/message: \")\n",
    "# Prompt the user to specify the shift length (the key).\n",
    "key = int(input(f\"{Fore.GREEN}[?] Please specify the shift length: \"))\n",
    "\n",
    "\n",
    "# Check if the specified key is within a valid range (0 to 25).\n",
    "if key > 25 or key < 0:\n",
    "    # Display an error message if the key is out of range.\n",
    "    print(f\"{Fore.RED}[!] Your shift length should be between 0 and 25 \")\n",
    "    sys.exit()  # Exit the program if the key is invalid.\n",
    "\n",
    "# Encrypt the user's input using the specified key.\n",
    "encrypted_text = implement_caesar_cipher(text_to_encrypt, key)\n",
    "\n",
    "# Display the encrypted text.\n",
    "print(f\"{Fore.GREEN}[+] {text_to_encrypt} {Fore.MAGENTA}has been encrypted as {Fore.RED}{encrypted_text}\")"
   ]
  },
  {
   "cell_type": "code",
   "execution_count": null,
   "metadata": {},
   "outputs": [],
   "source": []
  }
 ],
 "metadata": {
  "kernelspec": {
   "display_name": "Python 3",
   "language": "python",
   "name": "python3"
  },
  "language_info": {
   "codemirror_mode": {
    "name": "ipython",
    "version": 3
   },
   "file_extension": ".py",
   "mimetype": "text/x-python",
   "name": "python",
   "nbconvert_exporter": "python",
   "pygments_lexer": "ipython3",
   "version": "3.7.6"
  }
 },
 "nbformat": 4,
 "nbformat_minor": 4
}
