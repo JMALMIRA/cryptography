{
 "cells": [
  {
   "cell_type": "code",
   "execution_count": 1,
   "metadata": {},
   "outputs": [],
   "source": [
    "from cryptography.hazmat.primitives.asymmetric import rsa, padding\n",
    "from cryptography.hazmat.primitives import hashes\n",
    "from cryptography.hazmat.backends import default_backend\n",
    "from cryptography.exceptions import InvalidSignature"
   ]
  },
  {
   "cell_type": "markdown",
   "metadata": {},
   "source": [
    "rsa → lets you generate RSA keys.\n",
    "\n",
    "padding → defines how messages are padded before signing/verifying (RSA needs padding to be secure).\n",
    "\n",
    "hashes → provides secure hash functions (here, SHA-256).\n",
    "\n",
    "default_backend() → selects the cryptography backend (implementation details).\n",
    "\n",
    "InvalidSignature → exception raised when verification fails."
   ]
  },
  {
   "cell_type": "code",
   "execution_count": 6,
   "metadata": {},
   "outputs": [],
   "source": [
    "# --- Generate RSA key pair ---\n",
    "private_key = rsa.generate_private_key(\n",
    "    public_exponent=65537,\n",
    "    key_size=2048,\n",
    "    backend=default_backend()\n",
    ")\n",
    "public_key = private_key.public_key()"
   ]
  },
  {
   "cell_type": "markdown",
   "metadata": {},
   "source": [
    "Generates a private RSA key (2048 bits, secure).\n",
    "\n",
    "public_exponent=65537 is the standard choice for RSA (fast + secure).\n",
    "\n",
    "From the private key, we derive the public key."
   ]
  },
  {
   "cell_type": "code",
   "execution_count": 14,
   "metadata": {},
   "outputs": [],
   "source": [
    "# --- Original message ---\n",
    "message = b\"This is a secure message from Alice.\""
   ]
  },
  {
   "cell_type": "markdown",
   "metadata": {},
   "source": [
    "b\"...\" means it’s stored as bytes, not a Python string.\n",
    "\n",
    "This is important because cryptographic operations work on byte sequences."
   ]
  },
  {
   "cell_type": "code",
   "execution_count": null,
   "metadata": {},
   "outputs": [],
   "source": [
    "# --- Sign the message ---\n",
    "signature = private_key.sign(\n",
    "    message,\n",
    "    padding.PSS(\n",
    "        mgf=padding.MGF1(hashes.SHA256()),\n",
    "        salt_length=padding.PSS.MAX_LENGTH\n",
    "    ),\n",
    "    hashes.SHA256()\n",
    ")"
   ]
  },
  {
   "cell_type": "markdown",
   "metadata": {},
   "source": [
    "private_key.sign(...) → creates a digital signature.\n",
    "\n",
    "PSS (Probabilistic Signature Scheme) → secure padding scheme for RSA signatures.\n",
    "\n",
    "MGF1 (Mask Generation Function) with SHA-256 is used inside PSS.\n",
    "\n",
    "salt_length=PSS.MAX_LENGTH → adds randomness to prevent forgery attacks.\n",
    "\n",
    "hashes.SHA256() → the message is hashed with SHA-256 before signing (signing the hash, not the raw message).\n",
    "\n",
    "👉 The result (signature) is a large byte string (usually same size as RSA modulus, here 256 bytes)."
   ]
  },
  {
   "cell_type": "code",
   "execution_count": 12,
   "metadata": {},
   "outputs": [
    {
     "name": "stdout",
     "output_type": "stream",
     "text": [
      "Signature:  b\"Y\\x05q\\xf3\\xff\\xb1\\xf9\\x0b\\xb8c\\xde\\xb1\\x05\\xe8(\\xc9\\x98\\x8e9\\x7f\\x9d\\x08U\\x14\\xe6Ol\\xd4\\x9ao}\\xfc)\\xba\\x0c\\xa9\\xd9\\x913F\\xda\\xb2\\xeb3\\x90`\\xd4\\x8e\\x03\\x88\\xf1\\x90\\xebNS\\xc4.\\x9d\\x10\\xfe \\x80\\xec\\x1f\\xa5\\xb9#\\xf8\\xbe#\\x15\\x9b\\x8aL\\x11\\xdec\\xd5m{\\x91\\xa2\\xcb]qv4\\x17\\xb0\\x82\\x11\\xaf'H\\xaa\\xcdq\\x02q\\xf4T\\xfe\\x91\\xda3p\\xc12s\\x8dF2\\xd0\\xae_\\x87\\x198\\x8d\\xe2\\x92m\\xd8Q\\x0e\\xd6\\x96\\x1a\\xfc\\x8c^\\x03\\xfa\\t\\x1c\\xa38k\\xfa\\xb7M\\xa5\\xdb\\xc7\\xfb\\x86\\xc3\\x14O\\xb4\\n\\x8a\\xfb\\x88\\xe7\\x8c\\xe3'\\x9d\\xa3\\xb3s\\x1e>\\xec\\xc3Y]\\xfc\\x02\\\\\\xfb\\xd0p\\x1f\\xb1\\x84\\x8f\\xf7eQp\\x18\\xdf\\xa3\\xa9\\x7f\\x823\\xac0r\\xde\\x9b\\r\\xb6\\xea\\x08\\x148\\x81\\xb4@&\\xc8\\x9c\\x18\\xe1\\\\q\\x89c\\x07\\xa1s\\xf5?x\\xdf\\x7f/\\xfd]\\xcf\\x13\\xaa=\\xb3\\xde\\x83'\\xcd\\x13p\\xbf\\x12h\\xf1@\\xdd\\xebev\\xfe\\xb8\\xcf\\xa1Jv\\t\\x00\\x8a[p\\x01I\"\n",
      "Signature (hex): 590571f3ffb1f90bb863deb105e828c9988e397f9d085514e64f6cd49a6f7dfc29ba0ca9d9913346dab2eb339060d48e0388f190eb4e53c42e9d10fe2080ec1fa5b923f8be23159b8a4c11de63d56d7b91a2cb5d71763417b08211af2748aacd710271f454fe91da3370c132738d4632d0ae5f8719388de2926dd8510ed6961afc8c5e03fa091ca3386bfab74da5dbc7fb86c3144fb40a8afb88e78ce3279da3b3731e3eecc3595dfc025cfbd0701fb1848ff765517018dfa3a97f8233ac3072de9b0db6ea08143881b44026c89c18e15c71896307a173f53f78df7f2ffd5dcf13aa3db3de8327cd1370bf1268f140ddeb6576feb8cfa14a7609008a5b700149\n",
      "Signature (bits): 01011001000001010111000111110011111111111011000111111001000010111011100001100011110111101011000100000101111010000010100011001001100110001000111000111001011111111001110100001000010101010001010011100110010011110110110011010100100110100110111101111101111111000010100110111010000011001010100111011001100100010011001101000110110110101011001011101011001100111001000001100000110101001000111000000011100010001111000110010000111010110100111001010011110001000010111010011101000100001111111000100000100000001110110000011111101001011011100100100011111110001011111000100011000101011001101110001010010011000001000111011110011000111101010101101101011110111001000110100010110010110101110101110001011101100011010000010111101100001000001000010001101011110010011101001000101010101100110101110001000000100111000111110100010101001111111010010001110110100011001101110000110000010011001001110011100011010100011000110010110100001010111001011111100001110001100100111000100011011110001010010010011011011101100001010001000011101101011010010110000110101111110010001100010111100000001111111010000010010001110010100011001110000110101111111010101101110100110110100101110110111100011111111011100001101100001100010100010011111011010000001010100010101111101110001000111001111000110011100011001001111001110110100011101100110111001100011110001111101110110011000011010110010101110111111100000000100101110011111011110100000111000000011111101100011000010010001111111101110110010101010001011100000001100011011111101000111010100101111111100000100011001110101100001100000111001011011110100110110000110110110110111010100000100000010100001110001000000110110100010000000010011011001000100111000001100011100001010111000111000110001001011000110000011110100001011100111111010100111111011110001101111101111111001011111111110101011101110011110001001110101010001111011011001111011110100000110010011111001101000100110111000010111111000100100110100011110001010000001101110111101011011001010111011011111110101110001100111110100001010010100111011000001001000000001000101001011011011100000000000101001001\n"
     ]
    }
   ],
   "source": [
    "print(\"Signature: \", signature)\n",
    "# Print signature in hexadecimal\n",
    "print(\"Signature (hex):\", signature.hex())\n",
    "# Print signature in bits\n",
    "print(\"Signature (bits):\", ''.join(f\"{byte:08b}\" for byte in signature))"
   ]
  },
  {
   "cell_type": "code",
   "execution_count": 13,
   "metadata": {},
   "outputs": [
    {
     "name": "stdout",
     "output_type": "stream",
     "text": [
      "✅ Original: Signature is valid.\n",
      "❌ Tampered Message: Signature is invalid!\n",
      "❌ Tampered Signature: Signature is invalid!\n"
     ]
    }
   ],
   "source": [
    "# --- Function to verify and report ---\n",
    "def verify_signature(msg, sig, label=\"Original\"):\n",
    "    try:\n",
    "        public_key.verify(\n",
    "            sig,\n",
    "            msg,\n",
    "            padding.PSS(\n",
    "                mgf=padding.MGF1(hashes.SHA256()),\n",
    "                salt_length=padding.PSS.MAX_LENGTH\n",
    "            ),\n",
    "            hashes.SHA256()\n",
    "        )\n",
    "        print(f\"✅ {label}: Signature is valid.\")\n",
    "    except InvalidSignature:\n",
    "        print(f\"❌ {label}: Signature is invalid!\")\n",
    "\n",
    "# --- 1. Original (valid) ---\n",
    "verify_signature(message, signature, \"Original\")\n",
    "\n",
    "# --- 2. Tampered message ---\n",
    "tampered_message = b\"This is a secure message from Eve.\"\n",
    "verify_signature(tampered_message, signature, \"Tampered Message\")\n",
    "\n",
    "# --- 3. Tampered signature ---\n",
    "tampered_signature = signature[:-1] + b'\\x00'  # corrupt last byte\n",
    "verify_signature(message, tampered_signature, \"Tampered Signature\")\n",
    "\n"
   ]
  },
  {
   "cell_type": "markdown",
   "metadata": {},
   "source": [
    "public_key.verify(...) checks that:\n",
    "\n",
    "The sig was produced with the corresponding private key.\n",
    "\n",
    "The msg has not been altered.\n",
    "\n",
    "The padding and hash match what was used at signing.\n",
    "\n",
    "If verification fails, it raises InvalidSignature."
   ]
  },
  {
   "cell_type": "code",
   "execution_count": null,
   "metadata": {},
   "outputs": [],
   "source": []
  }
 ],
 "metadata": {
  "kernelspec": {
   "display_name": "Python 3",
   "language": "python",
   "name": "python3"
  },
  "language_info": {
   "codemirror_mode": {
    "name": "ipython",
    "version": 3
   },
   "file_extension": ".py",
   "mimetype": "text/x-python",
   "name": "python",
   "nbconvert_exporter": "python",
   "pygments_lexer": "ipython3",
   "version": "3.7.6"
  }
 },
 "nbformat": 4,
 "nbformat_minor": 4
}
