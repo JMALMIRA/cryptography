{
 "cells": [
  {
   "cell_type": "code",
   "execution_count": 1,
   "metadata": {},
   "outputs": [
    {
     "name": "stdout",
     "output_type": "stream",
     "text": [
      "Plain Text: b'Message to be Encrypted Tomorrow'\n",
      "Generated Key: b'ILxmszxKKCrLXl84t6-lT2NkPoOWqOTMzhBeHCrdxCY='\n",
      "Encrypted Message: b'gAAAAABoPZpLu2q97hqWfHoy651gJoXstK_6_NdXe5QwIhVTWlskjueg_qBr1FK5sWVSUokslaZ41d7bdkKNnfzUz-3O-3Ih4U1pfg3LRhFEfW3Epu3T0oqe6irXHmUHYqNcrQMMRdWQ'\n",
      "\n",
      "Decrypted Message: Message to be Encrypted Tomorrow\n"
     ]
    }
   ],
   "source": [
    "# Import the necessary libraries.\n",
    "from cryptography.fernet import Fernet\n",
    "from colorama import Fore, init\n",
    "\n",
    "# Initialize colorama\n",
    "init()\n",
    "\n",
    "# Generate a key.\n",
    "key = Fernet.generate_key()\n",
    "\n",
    "# Creating a Fernet cipher using the  generated key.\n",
    "cipher_suite = Fernet(key)\n",
    "\n",
    "# Encrypting a message.\n",
    "plaintext = b\"Message to be Encrypted Tomorrow\"\n",
    "print(f\"{Fore.BLUE}Plain Text: {plaintext}\")\n",
    "ciphertext = cipher_suite.encrypt(plaintext)\n",
    "\n",
    "# Display the print results using Magenta and Red for better Visuals.\n",
    "print(f\"{Fore.MAGENTA}Generated Key: {key}\")\n",
    "print(f\"{Fore.RED}Encrypted Message: {ciphertext}\\n\")\n",
    "\n",
    "# Using the same key to create a Fernet cipher (For decryption).\n",
    "decipher_suite = Fernet(key)\n",
    "\n",
    "# Decrypting the message.\n",
    "decrypted_message = decipher_suite.decrypt(ciphertext)\n",
    "\n",
    "# Printing the decrypted message.\n",
    "print(f\"{Fore.GREEN}Decrypted Message: {decrypted_message.decode()}\")"
   ]
  },
  {
   "cell_type": "code",
   "execution_count": null,
   "metadata": {},
   "outputs": [],
   "source": []
  }
 ],
 "metadata": {
  "kernelspec": {
   "display_name": "Python 3",
   "language": "python",
   "name": "python3"
  },
  "language_info": {
   "codemirror_mode": {
    "name": "ipython",
    "version": 3
   },
   "file_extension": ".py",
   "mimetype": "text/x-python",
   "name": "python",
   "nbconvert_exporter": "python",
   "pygments_lexer": "ipython3",
   "version": "3.7.6"
  }
 },
 "nbformat": 4,
 "nbformat_minor": 4
}
