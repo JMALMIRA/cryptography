{
 "cells": [
  {
   "cell_type": "markdown",
   "metadata": {},
   "source": [
    "## 🧪 ChaCha20 – Using `cryptography` (IETF standard)"
   ]
  },
  {
   "cell_type": "code",
   "execution_count": 2,
   "metadata": {},
   "outputs": [
    {
     "name": "stdout",
     "output_type": "stream",
     "text": [
      "Ciphertext: a45f7c11c61777092914a9595d0f4697cb4d43659a4fb94ec5f0f04ef0c6544b955b\n",
      "Recovered: b'Hello from ChaCha20 stream cipher!'\n",
      "Plaintext  (bits): 01001000011001010110110001101100011011110010000001100110011100100110111101101101001000000100001101101000011000010100001101101000011000010011001000110000001000000111001101110100011100100110010101100001011011010010000001100011011010010111000001101000011001010111001000100001\n",
      "Ciphertext (bits): 10100100010111110111110000010001110001100001011101110111000010010010100100010100101010010101100101011101000011110100011010010111110010110100110101000011011001011001101001001111101110010100111011000101111100001111000001001110111100001100011001010100010010111001010101011011\n",
      "Keystream  (bits): 11101100001110100001000001111101101010010011011100010001011110110100011001111001100010010001101000110101011011100000010111111111101010100111111101110011010001011110100100111011110010110010101110100100100111011101000000101101100110011011011000111100001011101110011101111010\n",
      "Recovered  (bits): 01001000011001010110110001101100011011110010000001100110011100100110111101101101001000000100001101101000011000010100001101101000011000010011001000110000001000000111001101110100011100100110010101100001011011010010000001100011011010010111000001101000011001010111001000100001\n"
     ]
    }
   ],
   "source": [
    "from cryptography.hazmat.primitives.ciphers import Cipher, algorithms\n",
    "from cryptography.hazmat.backends import default_backend\n",
    "import os\n",
    "\n",
    "# Key and nonce (fixed nonce length)\n",
    "key = os.urandom(32)             # 256-bit key\n",
    "nonce = os.urandom(16)           # 128-bit nonce (required by this implementation)\n",
    "plaintext = b\"Hello from ChaCha20 stream cipher!\"\n",
    "\n",
    "# Encrypt\n",
    "algorithm = algorithms.ChaCha20(key, nonce)\n",
    "cipher = Cipher(algorithm, mode=None, backend=default_backend())\n",
    "encryptor = cipher.encryptor()\n",
    "ciphertext = encryptor.update(plaintext)\n",
    "\n",
    "# Decrypt\n",
    "decryptor = cipher.decryptor()\n",
    "recovered = decryptor.update(ciphertext)\n",
    "\n",
    "print(\"Ciphertext:\", ciphertext.hex())\n",
    "print(\"Recovered:\", recovered)\n",
    "\n",
    "\n",
    "# Helper: convert bytes to continuous bit string\n",
    "def to_bits(data: bytes) -> str:\n",
    "    return ''.join(f'{byte:08b}' for byte in data)\n",
    "\n",
    "# Recover the keystream: ciphertext ⊕ plaintext\n",
    "keystream = bytes(c ^ p for c, p in zip(ciphertext, plaintext))\n",
    "\n",
    "print(\"Plaintext  (bits):\", to_bits(plaintext))\n",
    "print(\"Ciphertext (bits):\", to_bits(ciphertext))\n",
    "print(\"Keystream  (bits):\", to_bits(keystream))\n",
    "print(\"Recovered  (bits):\", to_bits(recovered))"
   ]
  },
  {
   "cell_type": "markdown",
   "metadata": {},
   "source": [
    "## 🧪 Salsa20 – Using `pycryptodome`"
   ]
  },
  {
   "cell_type": "code",
   "execution_count": 1,
   "metadata": {},
   "outputs": [
    {
     "name": "stdout",
     "output_type": "stream",
     "text": [
      "Requirement already satisfied: pycryptodome in /opt/anaconda3/lib/python3.7/site-packages (3.23.0)\n",
      "\u001b[33mDEPRECATION: pyodbc 4.0.0-unsupported has a non-standard version number. pip 24.1 will enforce this behaviour change. A possible replacement is to upgrade to a newer version of pyodbc or contact the author to suggest that they release a version with a conforming version number. Discussion can be found at https://github.com/pypa/pip/issues/12063\u001b[0m\u001b[33m\n",
      "\u001b[0m"
     ]
    }
   ],
   "source": [
    "!pip install pycryptodome"
   ]
  },
  {
   "cell_type": "code",
   "execution_count": 3,
   "metadata": {},
   "outputs": [
    {
     "name": "stdout",
     "output_type": "stream",
     "text": [
      "Ciphertext: 4fc269e2531727fb3273598698e1b2fe91634676df0b5c0b546b523d45c55c6565\n",
      "Recovered: b'Hello from Salsa20 stream cipher!'\n",
      "Plaintext  (bits): 010010000110010101101100011011000110111100100000011001100111001001101111011011010010000001010011011000010110110001110011011000010011001000110000001000000111001101110100011100100110010101100001011011010010000001100011011010010111000001101000011001010111001000100001\n",
      "Ciphertext (bits): 010011111100001001101001111000100101001100010111001001111111101100110010011100110101100110000110100110001110000110110010111111101001000101100011010001100111011011011111000010110101110000001011010101000110101101010010001111010100010111000101010111000110010101100101\n",
      "Keystream  (bits): 000001111010011100000101100011100011110000110111010000011000100101011101000111100111100111010101111110011000110111000001100111111010001101010011011001100000010110101011011110010011100101101010001110010100101100110001010101000011010110101101001110010001011101000100\n",
      "Recovered  (bits): 010010000110010101101100011011000110111100100000011001100111001001101111011011010010000001010011011000010110110001110011011000010011001000110000001000000111001101110100011100100110010101100001011011010010000001100011011010010111000001101000011001010111001000100001\n"
     ]
    }
   ],
   "source": [
    "from Crypto.Cipher import Salsa20\n",
    "import os\n",
    "\n",
    "# Key and nonce\n",
    "key = os.urandom(32)              # 256-bit key\n",
    "nonce = os.urandom(8)             # 64-bit nonce\n",
    "plaintext = b\"Hello from Salsa20 stream cipher!\"\n",
    "\n",
    "# Encrypt\n",
    "cipher = Salsa20.new(key=key, nonce=nonce)\n",
    "ciphertext = cipher.encrypt(plaintext)\n",
    "\n",
    "# Decrypt\n",
    "cipher_dec = Salsa20.new(key=key, nonce=nonce)\n",
    "recovered = cipher_dec.decrypt(ciphertext)\n",
    "\n",
    "print(\"Ciphertext:\", ciphertext.hex())\n",
    "print(\"Recovered:\", recovered)\n",
    "\n",
    "# Recover the keystream: ciphertext ⊕ plaintext\n",
    "keystream = bytes(c ^ p for c, p in zip(ciphertext, plaintext))\n",
    "\n",
    "print(\"Plaintext  (bits):\", to_bits(plaintext))\n",
    "print(\"Ciphertext (bits):\", to_bits(ciphertext))\n",
    "print(\"Keystream  (bits):\", to_bits(keystream))\n",
    "print(\"Recovered  (bits):\", to_bits(recovered))"
   ]
  },
  {
   "cell_type": "markdown",
   "metadata": {},
   "source": [
    "## 🧪 Trivium – Toy Python implementation (educational use only)"
   ]
  },
  {
   "cell_type": "code",
   "execution_count": 4,
   "metadata": {},
   "outputs": [
    {
     "name": "stdout",
     "output_type": "stream",
     "text": [
      "Ciphertext: 03ec5f853e5fded4abedb8ec9b10d5c217e640eae4df167a453367d64eea\n",
      "Recovered: b'Trivium stream cipher example!'\n",
      "Plaintext  (bits): 010101000111001001101001011101100110100101110101011011010010000001110011011101000111001001100101011000010110110100100000011000110110100101110000011010000110010101110010001000000110010101111000011000010110110101110000011011000110010100100001\n",
      "Ciphertext (bits): 000000111110110001011111100001010011111001011111110111101101010010101011111011011011100011101100100110110001000011010101110000100001011111100110010000001110101011100100110111110001011001111010010001010011001101100111110101100100111011101010\n",
      "Keystream  (bits): 010101111001111000110110111100110101011100101010101100111111010011011000100110011100101010001001111110100111110111110101101000010111111010010110001010001000111110010110111111110111001100000010001001000101111000010111101110100010101111001011\n",
      "Recovered  (bits): 010101000111001001101001011101100110100101110101011011010010000001110011011101000111001001100101011000010110110100100000011000110110100101110000011010000110010101110010001000000110010101111000011000010110110101110000011011000110010100100001\n"
     ]
    }
   ],
   "source": [
    "def trivium_init(key, iv):\n",
    "    # Trivium uses 80-bit key and IV\n",
    "    assert len(key) == 10 and len(iv) == 10\n",
    "    key_bits = sum([[int(b) >> i & 1 for i in range(8)] for b in key], [])\n",
    "    iv_bits  = sum([[int(b) >> i & 1 for i in range(8)] for b in iv], [])\n",
    "\n",
    "    state = [0] * 288\n",
    "    state[:80] = key_bits\n",
    "    state[93:173] = iv_bits\n",
    "    state[285:] = [1, 1, 1]\n",
    "\n",
    "    for _ in range(4 * 288):  # Warm-up phase\n",
    "        t1 = state[65] ^ (state[90] & state[91]) ^ state[92] ^ state[170]\n",
    "        t2 = state[161] ^ (state[174] & state[175]) ^ state[176] ^ state[263]\n",
    "        t3 = state[242] ^ (state[285] & state[286]) ^ state[287] ^ state[68]\n",
    "        state = [t3] + state[:92] + [t1] + state[93:176] + [t2] + state[177:287]\n",
    "    return state\n",
    "\n",
    "def trivium_keystream(state, length):\n",
    "    stream = []\n",
    "    for _ in range(length * 8):\n",
    "        t1 = state[65] ^ state[92]\n",
    "        t2 = state[161] ^ state[176]\n",
    "        t3 = state[242] ^ state[287]\n",
    "        z = t1 ^ t2 ^ t3\n",
    "        stream.append(z)\n",
    "        t1 = t1 ^ (state[90] & state[91]) ^ state[170]\n",
    "        t2 = t2 ^ (state[174] & state[175]) ^ state[263]\n",
    "        t3 = t3 ^ (state[285] & state[286]) ^ state[68]\n",
    "        state = [t3] + state[:92] + [t1] + state[93:176] + [t2] + state[177:287]\n",
    "    return stream\n",
    "\n",
    "def xor_bytes(data, stream_bits):\n",
    "    return bytes(b ^ sum([bit << i for i, bit in enumerate(stream_bits[n*8:n*8+8])])\n",
    "                 for n, b in enumerate(data))\n",
    "\n",
    "# Key, IV (10 bytes each = 80 bits)\n",
    "key = b'1234567890'\n",
    "iv  = b'abcdefghij'\n",
    "plaintext = b\"Trivium stream cipher example!\"\n",
    "\n",
    "# Initialize and encrypt\n",
    "state = trivium_init(key, iv)\n",
    "stream_bits = trivium_keystream(state.copy(), len(plaintext))\n",
    "ciphertext = xor_bytes(plaintext, stream_bits)\n",
    "\n",
    "# Decrypt\n",
    "state = trivium_init(key, iv)\n",
    "stream_bits = trivium_keystream(state.copy(), len(ciphertext))\n",
    "recovered = xor_bytes(ciphertext, stream_bits)\n",
    "\n",
    "print(\"Ciphertext:\", ciphertext.hex())\n",
    "print(\"Recovered:\", recovered)\n",
    "\n",
    "# Recover the keystream: ciphertext ⊕ plaintext\n",
    "keystream = bytes(c ^ p for c, p in zip(ciphertext, plaintext))\n",
    "\n",
    "print(\"Plaintext  (bits):\", to_bits(plaintext))\n",
    "print(\"Ciphertext (bits):\", to_bits(ciphertext))\n",
    "print(\"Keystream  (bits):\", to_bits(keystream))\n",
    "print(\"Recovered  (bits):\", to_bits(recovered))"
   ]
  },
  {
   "cell_type": "code",
   "execution_count": null,
   "metadata": {},
   "outputs": [],
   "source": []
  }
 ],
 "metadata": {
  "kernelspec": {
   "display_name": "Python 3",
   "language": "python",
   "name": "python3"
  },
  "language_info": {
   "codemirror_mode": {
    "name": "ipython",
    "version": 3
   },
   "file_extension": ".py",
   "mimetype": "text/x-python",
   "name": "python",
   "nbconvert_exporter": "python",
   "pygments_lexer": "ipython3",
   "version": "3.7.6"
  }
 },
 "nbformat": 4,
 "nbformat_minor": 5
}
