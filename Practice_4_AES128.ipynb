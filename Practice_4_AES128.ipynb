{
 "cells": [
  {
   "cell_type": "code",
   "execution_count": 8,
   "metadata": {},
   "outputs": [],
   "source": [
    "# Import required libraries\n",
    "from cryptography.hazmat.primitives.ciphers.aead import AESGCM\n",
    "import numpy as np\n",
    "from os import urandom\n",
    "import sympy as sp\n",
    "from IPython.display import display\n",
    "from cryptography.hazmat.primitives import padding\n",
    "from cryptography.hazmat.primitives.ciphers import Cipher, algorithms, modes\n",
    "from cryptography.hazmat.backends import default_backend\n",
    "import os"
   ]
  },
  {
   "cell_type": "code",
   "execution_count": 9,
   "metadata": {},
   "outputs": [],
   "source": [
    "# AES key\n",
    "key = os.urandom(16)  # 128-bit key"
   ]
  },
  {
   "cell_type": "code",
   "execution_count": 10,
   "metadata": {},
   "outputs": [],
   "source": [
    "# AES block size\n",
    "block_size_bytes = 16"
   ]
  },
  {
   "cell_type": "code",
   "execution_count": 11,
   "metadata": {},
   "outputs": [],
   "source": [
    "# Plaintext (arbitrary length)\n",
    "plaintext = b'A un amigo perdido. Ya no me debes recordar en el pais extranjero. Tambien a mi se me escapa tu imagen lejana.'  "
   ]
  },
  {
   "cell_type": "code",
   "execution_count": 12,
   "metadata": {},
   "outputs": [],
   "source": [
    "# 1. Apply PKCS7 padding\n",
    "padder = padding.PKCS7(block_size_bytes * 8).padder()\n",
    "padded_plaintext = padder.update(plaintext) + padder.finalize()"
   ]
  },
  {
   "cell_type": "markdown",
   "metadata": {},
   "source": [
    "### 2. Create a new AES-ECB encryptor and encrypt the plaintext\n",
    "\n",
    "In this step, we take the **padded plaintext** and encrypt it using **AES in ECB mode**.\n",
    "\n",
    "```python\n",
    "cipher = Cipher(algorithms.AES(key), modes.ECB(), backend=default_backend())\n",
    "encryptor = cipher.encryptor()\n",
    "ciphertext = encryptor.update(padded_plaintext) + encryptor.finalize()\n",
    "print(\"Ciphertext (hex):\", ciphertext.hex())\n"
   ]
  },
  {
   "cell_type": "code",
   "execution_count": 13,
   "metadata": {},
   "outputs": [
    {
     "name": "stdout",
     "output_type": "stream",
     "text": [
      "Ciphertext (hex): d84efda36acdb55ccef2a054bbdeca597eafcebd5bd8e5bdda2d7c68f845db638f3f6bb8bf4c94fe789db0b8c5657fe71421428bb5907f2be517a967ea56ebeebca667b7efc3e8106a9656f4aa255c897d8092a3547d6a2b1b10b3efd1d6698d793558fb5f7993c61ed7517f9071cf49\n"
     ]
    }
   ],
   "source": [
    "# 2. Create a new AES-ECB encryptor\n",
    "cipher = Cipher(algorithms.AES(key), modes.ECB(), backend=default_backend())\n",
    "encryptor = cipher.encryptor()\n",
    "ciphertext = encryptor.update(padded_plaintext) + encryptor.finalize()\n",
    "print(\"Ciphertext (hex):\", ciphertext.hex())"
   ]
  },
  {
   "cell_type": "markdown",
   "metadata": {},
   "source": [
    "### Step-by-step explanation\n",
    "\n",
    "**`Cipher(algorithms.AES(key), modes.ECB(), backend=default_backend())`**  \n",
    "- Creates a cipher object using AES with the given key.  \n",
    "- `modes.ECB()` specifies the Electronic Codebook (ECB) mode, the simplest AES mode.  \n",
    "- `backend=default_backend()` tells the library to use the system’s default cryptographic backend (usually OpenSSL).\n",
    "\n",
    "**`encryptor = cipher.encryptor()`**  \n",
    "- Creates a one-time encryption context.  \n",
    "- Each encryptor can only be used once for a single encryption operation.\n",
    "\n",
    "**`encryptor.update(padded_plaintext) + encryptor.finalize()`**  \n",
    "- `update(padded_plaintext)` processes the plaintext in 16-byte blocks.  \n",
    "- `finalize()` completes the encryption and returns any remaining bytes.  \n",
    "- The result is the ciphertext, which is exactly the same length as the padded plaintext.\n",
    "\n",
    "**`print(\"Ciphertext (hex):\", ciphertext.hex())`**  \n",
    "- Prints the ciphertext as a hexadecimal string so it is human-readable.\n",
    "\n",
    "---\n",
    "\n",
    "### Notes for students\n",
    "\n",
    "- ECB mode encrypts each 16-byte block independently, so identical blocks in the plaintext will produce identical ciphertext blocks.  \n",
    "- ECB is not recommended for real applications, but it is excellent for teaching the basic encryption process.  \n",
    "- Padding ensures the plaintext length is a multiple of the AES block size (16 bytes), which is required by ECB mode.\n"
   ]
  },
  {
   "cell_type": "code",
   "execution_count": 14,
   "metadata": {},
   "outputs": [],
   "source": [
    "# 3. Decrypt\n",
    "decryptor = cipher.decryptor()\n",
    "decrypted_padded = decryptor.update(ciphertext) + decryptor.finalize()"
   ]
  },
  {
   "cell_type": "markdown",
   "metadata": {},
   "source": [
    "### Step 3: Decrypt the ciphertext\n",
    "\n",
    "**`decryptor = cipher.decryptor()`**  \n",
    "- Creates a new decryption context from the same cipher object.  \n",
    "- Each decryptor can only be used once for a single decryption operation.  \n",
    "\n",
    "**`decrypted_padded = decryptor.update(ciphertext) + decryptor.finalize()`**  \n",
    "- `update(ciphertext)` processes the ciphertext in 16-byte blocks and decrypts it.  \n",
    "- `finalize()` completes the decryption and returns any remaining bytes.  \n",
    "- The result is the **padded plaintext**, which still includes the PKCS#7 padding added during encryption.\n",
    "\n",
    "---\n",
    "\n",
    "**Notes for students:**\n",
    "\n",
    "- The decrypted output is not yet the original plaintext; it still contains padding.  \n",
    "- AES-ECB decrypts each block independently, matching the way encryption was done.  \n",
    "- A new decryptor must be created each time you perform decryption; you cannot reuse the same object for multiple operations.\n"
   ]
  },
  {
   "cell_type": "code",
   "execution_count": 15,
   "metadata": {},
   "outputs": [
    {
     "name": "stdout",
     "output_type": "stream",
     "text": [
      "Recovered plaintext: b'A un amigo perdido. Ya no me debes recordar en el pais extranjero. Tambien a mi se me escapa tu imagen lejana.'\n"
     ]
    }
   ],
   "source": [
    "# 4. Remove padding\n",
    "unpadder = padding.PKCS7(block_size_bytes * 8).unpadder()\n",
    "recovered = unpadder.update(decrypted_padded) + unpadder.finalize()\n",
    "print(\"Recovered plaintext:\", recovered)\n"
   ]
  },
  {
   "cell_type": "markdown",
   "metadata": {},
   "source": [
    "### Step 4: Remove padding\n",
    "\n",
    "**`unpadder = padding.PKCS7(block_size_bytes * 8).unpadder()`**  \n",
    "- Creates an **unpadding context** for AES.  \n",
    "- AES block size = 128 bits (16 bytes), so we multiply by 8 to get bits for PKCS#7.\n",
    "\n",
    "**`recovered = unpadder.update(decrypted_padded) + unpadder.finalize()`**  \n",
    "- `update(decrypted_padded)` removes the padding bytes from the decrypted data.  \n",
    "- `finalize()` completes the unpadding process.  \n",
    "- The result is the **original plaintext**, exactly as it was before encryption.\n",
    "\n",
    "**`print(\"Recovered plaintext:\", recovered)`**  \n",
    "- Displays the recovered plaintext to verify that encryption and decryption worked correctly.\n",
    "\n",
    "---\n",
    "\n",
    "**Notes for students:**\n",
    "\n",
    "- Padding is necessary because AES operates on fixed 16-byte blocks.  \n",
    "- PKCS#7 padding adds extra bytes to make the plaintext a multiple of the block size.  \n",
    "- Removing the padding restores the original message.  \n",
    "- This step is essential when encrypting plaintexts of arbitrary length.\n"
   ]
  },
  {
   "cell_type": "code",
   "execution_count": null,
   "metadata": {},
   "outputs": [],
   "source": []
  }
 ],
 "metadata": {
  "kernelspec": {
   "display_name": "Python 3",
   "language": "python",
   "name": "python3"
  },
  "language_info": {
   "codemirror_mode": {
    "name": "ipython",
    "version": 3
   },
   "file_extension": ".py",
   "mimetype": "text/x-python",
   "name": "python",
   "nbconvert_exporter": "python",
   "pygments_lexer": "ipython3",
   "version": "3.7.6"
  }
 },
 "nbformat": 4,
 "nbformat_minor": 4
}
