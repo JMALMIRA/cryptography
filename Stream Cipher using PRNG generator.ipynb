{
 "cells": [
  {
   "cell_type": "code",
   "execution_count": 1,
   "metadata": {},
   "outputs": [
    {
     "name": "stdout",
     "output_type": "stream",
     "text": [
      "128-bit pseudorandom bitstring: 10011001011001101001111100010010010110001111111111010010111101001100110111001000111010000111001101100100010011101110011100111000\n",
      "256-bit pseudorandom bitstring: 0000011001100000001110011000110001111110110110010001101111100101111010001111010001001000110000110010000101101001100001000110000011010011010101110000010110001110100110101100010011000110011101100011010001011110111100010000011001111111001100010111100100101111\n"
     ]
    }
   ],
   "source": [
    "import os\n",
    "from cryptography.hazmat.primitives.ciphers import Cipher, algorithms, modes\n",
    "from cryptography.hazmat.backends import default_backend\n",
    "\n",
    "class BitstringPRNG:\n",
    "    def __init__(self, seed: bytes = None):\n",
    "        \"\"\"\n",
    "        Initialize the PRNG with an optional 32-byte seed.\n",
    "        If not provided, a random seed is generated.\n",
    "        \"\"\"\n",
    "        if seed is None:\n",
    "            seed = os.urandom(32)\n",
    "        if len(seed) != 32:\n",
    "            raise ValueError(\"Seed must be exactly 32 bytes (256 bits)\")\n",
    "        self.key = seed\n",
    "        self.nonce = b'\\x00' * 16  # Fixed nonce for deterministic output\n",
    "        self.counter = 0\n",
    "\n",
    "    def _generate_block(self) -> bytes:\n",
    "        \"\"\"\n",
    "        Generate a 64-byte block of pseudorandom data using ChaCha20.\n",
    "        \"\"\"\n",
    "        # Construct a nonce with a counter to avoid repetition\n",
    "        counter_nonce = self.nonce[:8] + self.counter.to_bytes(8, 'little')\n",
    "        algorithm = algorithms.ChaCha20(self.key, counter_nonce)\n",
    "        cipher = Cipher(algorithm, mode=None, backend=default_backend())\n",
    "        encryptor = cipher.encryptor()\n",
    "        keystream = encryptor.update(b'\\x00' * 64)  # Encrypt null bytes to get keystream\n",
    "        self.counter += 1\n",
    "        return keystream\n",
    "\n",
    "    def get_bits(self, n_bits: int) -> str:\n",
    "        \"\"\"\n",
    "        Generate a pseudorandom bitstring of length `n_bits`.\n",
    "        \"\"\"\n",
    "        result = bytearray()\n",
    "        while len(result) * 8 < n_bits:\n",
    "            result.extend(self._generate_block())\n",
    "\n",
    "        # Convert to bitstring and truncate\n",
    "        bits = ''.join(f'{byte:08b}' for byte in result)\n",
    "        return bits[:n_bits]\n",
    "\n",
    "# === Example usage ===\n",
    "if __name__ == \"__main__\":\n",
    "    prng = BitstringPRNG()  # Use random seed\n",
    "    bitstring_128 = prng.get_bits(128)\n",
    "    bitstring_256 = prng.get_bits(256)\n",
    "\n",
    "    print(\"128-bit pseudorandom bitstring:\", bitstring_128)\n",
    "    print(\"256-bit pseudorandom bitstring:\", bitstring_256)\n"
   ]
  },
  {
   "cell_type": "code",
   "execution_count": 2,
   "metadata": {},
   "outputs": [
    {
     "name": "stdout",
     "output_type": "stream",
     "text": [
      "Original message        : b'Stream cipher with PRNG XOR!'\n",
      "Original message (bits) : 01010011011101000111001001100101011000010110110100100000011000110110100101110000011010000110010101110010001000000111011101101001011101000110100000100000010100000101001001001110010001110010000001011000010011110101001000100001\n",
      "\n",
      "Ciphertext (bits)       : 11110110011010101011110101100111110111111110111111110110111001101010011010010101100011001001110000001000011001100000010110110001010011000111011101000100100100101100111101111111011110011101010000001110011000000100111101010000\n",
      "\n",
      "Decrypted message (bits): 01010011011101000111001001100101011000010110110100100000011000110110100101110000011010000110010101110010001000000111011101101001011101000110100000100000010100000101001001001110010001110010000001011000010011110101001000100001\n",
      "Decrypted message       : b'Stream cipher with PRNG XOR!'\n"
     ]
    }
   ],
   "source": [
    "import os\n",
    "from cryptography.hazmat.primitives.ciphers import Cipher, algorithms, modes\n",
    "from cryptography.hazmat.backends import default_backend\n",
    "\n",
    "class BitstringPRNG:\n",
    "    def __init__(self, seed: bytes = None):\n",
    "        if seed is None:\n",
    "            seed = os.urandom(32)\n",
    "        if len(seed) != 32:\n",
    "            raise ValueError(\"Seed must be exactly 32 bytes\")\n",
    "        self.key = seed\n",
    "        self.nonce = b'\\x00' * 16\n",
    "        self.counter = 0\n",
    "\n",
    "    def _generate_block(self) -> bytes:\n",
    "        counter_nonce = self.nonce[:8] + self.counter.to_bytes(8, 'little')\n",
    "        algorithm = algorithms.ChaCha20(self.key, counter_nonce)\n",
    "        cipher = Cipher(algorithm, mode=None, backend=default_backend())\n",
    "        encryptor = cipher.encryptor()\n",
    "        stream = encryptor.update(b'\\x00' * 64)\n",
    "        self.counter += 1\n",
    "        return stream\n",
    "\n",
    "    def get_keystream(self, length: int) -> bytes:\n",
    "        out = bytearray()\n",
    "        while len(out) < length:\n",
    "            out.extend(self._generate_block())\n",
    "        return bytes(out[:length])\n",
    "\n",
    "def xor_bytes(a: bytes, b: bytes) -> bytes:\n",
    "    return bytes(x ^ y for x, y in zip(a, b))\n",
    "\n",
    "def bytes_to_bitstring(data: bytes) -> str:\n",
    "    return ''.join(f'{b:08b}' for b in data)\n",
    "\n",
    "# === Example usage ===\n",
    "if __name__ == \"__main__\":\n",
    "    # Message to encrypt\n",
    "    message = b\"Stream cipher with PRNG XOR!\"\n",
    "    print(\"Original message        :\", message)\n",
    "    print(\"Original message (bits) :\", bytes_to_bitstring(message))\n",
    "\n",
    "    # Initialize PRNG with fixed seed for repeatability\n",
    "    seed = os.urandom(32)\n",
    "    prng_encrypt = BitstringPRNG(seed)\n",
    "    keystream = prng_encrypt.get_keystream(len(message))\n",
    "\n",
    "    ciphertext = xor_bytes(message, keystream)\n",
    "    print(\"\\nCiphertext (bits)       :\", bytes_to_bitstring(ciphertext))\n",
    "\n",
    "    # Decryption (use same seed!)\n",
    "    prng_decrypt = BitstringPRNG(seed)\n",
    "    keystream2 = prng_decrypt.get_keystream(len(ciphertext))\n",
    "    decrypted = xor_bytes(ciphertext, keystream2)\n",
    "\n",
    "    print(\"\\nDecrypted message (bits):\", bytes_to_bitstring(decrypted))\n",
    "    print(\"Decrypted message       :\", decrypted)\n"
   ]
  },
  {
   "cell_type": "markdown",
   "metadata": {},
   "source": [
    "The XOR-based scheme here is only as secure as the PRNG.\n",
    "\n",
    "Using ChaCha20-based PRNG with a unique seed per message is considered secure (if the seed is secret).\n",
    "\n",
    "This is equivalent to OTP (One-Time Pad) if the keystream is never reused."
   ]
  },
  {
   "cell_type": "code",
   "execution_count": null,
   "metadata": {},
   "outputs": [],
   "source": []
  }
 ],
 "metadata": {
  "kernelspec": {
   "display_name": "Python 3",
   "language": "python",
   "name": "python3"
  },
  "language_info": {
   "codemirror_mode": {
    "name": "ipython",
    "version": 3
   },
   "file_extension": ".py",
   "mimetype": "text/x-python",
   "name": "python",
   "nbconvert_exporter": "python",
   "pygments_lexer": "ipython3",
   "version": "3.7.6"
  }
 },
 "nbformat": 4,
 "nbformat_minor": 4
}
