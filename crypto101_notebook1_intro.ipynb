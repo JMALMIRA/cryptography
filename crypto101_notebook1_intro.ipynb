{
 "cells": [
  {
   "cell_type": "markdown",
   "metadata": {},
   "source": [
    "# 🧠 Crypto 101 – Notebook 1\n",
    "## 🔐 Introduction to Cryptography\n",
    "\n",
    "**What is cryptography?**\n",
    "\n",
    "Cryptography is the science of securing communication in the presence of adversaries. It allows two parties to communicate privately, verify each other's identities, and ensure the integrity of messages.\n",
    "\n",
    "### 🔒 Core Goals of Cryptography\n",
    "- **Confidentiality** – Only the intended recipient can read the message.\n",
    "- **Integrity** – The message was not altered.\n",
    "- **Authenticity** – The message came from who you think it came from.\n",
    "- **Non-repudiation** – The sender cannot deny having sent the message.\n"
   ]
  },
  {
   "cell_type": "markdown",
   "metadata": {},
   "source": [
    "## 💬 Classical Example: Secret Messages\n",
    "Suppose Alice wants to send Bob the message:\n",
    "```\n",
    "MEET ME AT DAWN\n",
    "```\n",
    "But she wants to keep it secret. A basic method would be the **Caesar cipher**, shifting each letter by a fixed number.\n"
   ]
  },
  {
   "cell_type": "code",
   "execution_count": 1,
   "metadata": {},
   "outputs": [
    {
     "name": "stdout",
     "output_type": "stream",
     "text": [
      "Encrypted: PHHW PH DW GDZQ\n",
      "Decrypted: MEET ME AT DAWN\n"
     ]
    }
   ],
   "source": [
    "# Caesar Cipher Implementation (Shift = 3)\n",
    "def caesar_encrypt(text, shift=3):\n",
    "    result = ''\n",
    "    for char in text.upper():\n",
    "        if char.isalpha():\n",
    "            shifted = (ord(char) - ord('A') + shift) % 26\n",
    "            result += chr(ord('A') + shifted)\n",
    "        else:\n",
    "            result += char\n",
    "    return result\n",
    "\n",
    "def caesar_decrypt(text, shift=3):\n",
    "    return caesar_encrypt(text, -shift)\n",
    "\n",
    "# Example\n",
    "message = \"MEET ME AT DAWN\"\n",
    "encrypted = caesar_encrypt(message)\n",
    "decrypted = caesar_decrypt(encrypted)\n",
    "\n",
    "print(\"Encrypted:\", encrypted)\n",
    "print(\"Decrypted:\", decrypted)"
   ]
  },
  {
   "cell_type": "markdown",
   "metadata": {},
   "source": [
    "## 🧪 Try it Yourself\n",
    "Change the `shift` value to see how the Caesar cipher changes.\n",
    "Try different messages or create a brute-force decryption tool.\n"
   ]
  },
  {
   "cell_type": "markdown",
   "metadata": {},
   "source": [
    "## ⚠️ Limitations of Classical Ciphers\n",
    "- Easy to break with brute-force (only 25 shifts)\n",
    "- Frequency analysis can expose patterns\n",
    "\n",
    "That's why modern cryptography uses **mathematical hardness** assumptions to secure communication.\n"
   ]
  },
  {
   "cell_type": "markdown",
   "metadata": {},
   "source": [
    "## ✅ What’s Next\n",
    "In the next notebook, you'll:\n",
    "- Explore other classical ciphers like Vigenère\n",
    "- Learn how to break them using frequency analysis\n",
    "\n",
    "Ready to level up? Let's go to Notebook 2: **Classical Ciphers**.\n"
   ]
  },
  {
   "cell_type": "code",
   "execution_count": 1,
   "metadata": {},
   "outputs": [
    {
     "data": {
      "text/plain": [
       "'HOLA GUAPO'"
      ]
     },
     "execution_count": 1,
     "metadata": {},
     "output_type": "execute_result"
    }
   ],
   "source": [
    "text=\"Hola guapo\"\n",
    "text.upper()"
   ]
  },
  {
   "cell_type": "code",
   "execution_count": 13,
   "metadata": {},
   "outputs": [
    {
     "name": "stdout",
     "output_type": "stream",
     "text": [
      " \n"
     ]
    },
    {
     "data": {
      "text/plain": [
       "False"
      ]
     },
     "execution_count": 13,
     "metadata": {},
     "output_type": "execute_result"
    }
   ],
   "source": [
    "char=text.upper()[4]\n",
    "print(char)\n",
    "char.isalpha()"
   ]
  },
  {
   "cell_type": "code",
   "execution_count": 14,
   "metadata": {},
   "outputs": [
    {
     "data": {
      "text/plain": [
       "32"
      ]
     },
     "execution_count": 14,
     "metadata": {},
     "output_type": "execute_result"
    }
   ],
   "source": [
    "ord(char)"
   ]
  },
  {
   "cell_type": "code",
   "execution_count": null,
   "metadata": {},
   "outputs": [],
   "source": []
  }
 ],
 "metadata": {
  "kernelspec": {
   "display_name": "Python 3",
   "language": "python",
   "name": "python3"
  },
  "language_info": {
   "codemirror_mode": {
    "name": "ipython",
    "version": 3
   },
   "file_extension": ".py",
   "mimetype": "text/x-python",
   "name": "python",
   "nbconvert_exporter": "python",
   "pygments_lexer": "ipython3",
   "version": "3.7.6"
  }
 },
 "nbformat": 4,
 "nbformat_minor": 5
}
