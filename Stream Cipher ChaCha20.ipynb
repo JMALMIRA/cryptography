{
 "cells": [
  {
   "cell_type": "code",
   "execution_count": 1,
   "metadata": {},
   "outputs": [
    {
     "name": "stdout",
     "output_type": "stream",
     "text": [
      "Original Message      : b'A un amigo perdido'\n",
      "Original (bits)       : 010000010010000001110101011011100010000001100001011011010110100101100111011011110010000001110000011001010111001001100100011010010110010001101111\n",
      "Key (bits)            : 1100100111100111010100011010001011110100100011000001111100100111101001010111001001111100100111101100110011100001010001001011111001011001001011110000110011111010010000010001110110000111001111011001101111001111010001011111100010001011100000101101010011010001\n",
      "Nonce (bits)          : 01010100000111001001011100110011011100111110111010110111011010011111101100001001011101101001100111101011111111100011010111101010\n",
      "Ciphertext (bits)     : 001000000101001001110001010101100101111001101011111000110000001101100001000111111100111100001110001010000101111000000001110001011011001000111011\n",
      "Decrypted (bits)      : 010000010010000001110101011011100010000001100001011011010110100101100111011011110010000001110000011001010111001001100100011010010110010001101111\n",
      "Decrypted Text        : b'A un amigo perdido'\n"
     ]
    }
   ],
   "source": [
    "from cryptography.hazmat.primitives.ciphers import Cipher, algorithms, modes\n",
    "from cryptography.hazmat.backends import default_backend\n",
    "from os import urandom\n",
    "\n",
    "def bytes_to_bitstring(data: bytes) -> str:\n",
    "    return ''.join(f'{b:08b}' for b in data)\n",
    "\n",
    "def chacha20_encrypt(key: bytes, nonce: bytes, plaintext: bytes) -> bytes:\n",
    "    algorithm = algorithms.ChaCha20(key, nonce)\n",
    "    cipher = Cipher(algorithm, mode=None, backend=default_backend())\n",
    "    encryptor = cipher.encryptor()\n",
    "    return encryptor.update(plaintext)\n",
    "\n",
    "def chacha20_decrypt(key: bytes, nonce: bytes, ciphertext: bytes) -> bytes:\n",
    "    algorithm = algorithms.ChaCha20(key, nonce)\n",
    "    cipher = Cipher(algorithm, mode=None, backend=default_backend())\n",
    "    decryptor = cipher.decryptor()\n",
    "    return decryptor.update(ciphertext)\n",
    "\n",
    "# === MAIN ===\n",
    "if __name__ == \"__main__\":\n",
    "    # Message, key and nonce\n",
    "    message = b\"A un amigo perdido\"\n",
    "    key = urandom(32)        # ChaCha20 requires 256-bit key\n",
    "    nonce = urandom(16)      # ChaCha20 requires 128-bit nonce\n",
    "\n",
    "    ciphertext = chacha20_encrypt(key, nonce, message)\n",
    "    decrypted = chacha20_decrypt(key, nonce, ciphertext)\n",
    "\n",
    "    print(\"Original Message      :\", message)\n",
    "    print(\"Original (bits)       :\", bytes_to_bitstring(message))\n",
    "    print(\"Key (bits)            :\", bytes_to_bitstring(key))\n",
    "    print(\"Nonce (bits)          :\", bytes_to_bitstring(nonce))\n",
    "    print(\"Ciphertext (bits)     :\", bytes_to_bitstring(ciphertext))\n",
    "    print(\"Decrypted (bits)      :\", bytes_to_bitstring(decrypted))\n",
    "    print(\"Decrypted Text        :\", decrypted)\n"
   ]
  },
  {
   "cell_type": "code",
   "execution_count": 2,
   "metadata": {},
   "outputs": [
    {
     "data": {
      "text/plain": [
       "b\"\\xc9\\xe7Q\\xa2\\xf4\\x8c\\x1f'\\xa5r|\\x9e\\xcc\\xe1D\\xbeY/\\x0c\\xfaA\\x1d\\x87=\\x9b\\xcfE\\xf8\\x8b\\x82\\xd4\\xd1\""
      ]
     },
     "execution_count": 2,
     "metadata": {},
     "output_type": "execute_result"
    }
   ],
   "source": [
    "key"
   ]
  },
  {
   "cell_type": "code",
   "execution_count": 3,
   "metadata": {},
   "outputs": [
    {
     "name": "stdout",
     "output_type": "stream",
     "text": [
      "c9e751a2f48c1f27a5727c9ecce144be592f0cfa411d873d9bcf45f88b82d4d1\n"
     ]
    }
   ],
   "source": [
    "print(key.hex())"
   ]
  },
  {
   "cell_type": "code",
   "execution_count": null,
   "metadata": {},
   "outputs": [],
   "source": []
  }
 ],
 "metadata": {
  "kernelspec": {
   "display_name": "Python 3",
   "language": "python",
   "name": "python3"
  },
  "language_info": {
   "codemirror_mode": {
    "name": "ipython",
    "version": 3
   },
   "file_extension": ".py",
   "mimetype": "text/x-python",
   "name": "python",
   "nbconvert_exporter": "python",
   "pygments_lexer": "ipython3",
   "version": "3.7.6"
  }
 },
 "nbformat": 4,
 "nbformat_minor": 4
}
